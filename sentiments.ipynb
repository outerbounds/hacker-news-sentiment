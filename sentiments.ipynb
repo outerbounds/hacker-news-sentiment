{
 "cells": [
  {
   "cell_type": "code",
   "execution_count": null,
   "metadata": {},
   "outputs": [],
   "source": [
    "from metaflow import Flow, namespace\n",
    "namespace(None)\n",
    "post_run =  next(Flow('HNSentimentAnalyzeComments').runs('analyze_this'))\n",
    "sentiments = {}\n",
    "comments_meta = {}\n",
    "total_tokens = 0\n",
    "for task in post_run['analyze_comments']:\n",
    "    if 'post_sentiment' in task:\n",
    "        for post_id, (score, num_tokens) in task['post_sentiment'].data.items():\n",
    "            pid = int(post_id)\n",
    "            total_tokens += num_tokens\n",
    "            sentiments[pid] = score\n",
    "            comments_meta[pid] = num_tokens\n",
    "print(f\"Sentiments found for {len(sentiments)} posts, {total_tokens} processed\")"
   ]
  },
  {
   "cell_type": "code",
   "execution_count": null,
   "metadata": {},
   "outputs": [],
   "source": [
    "from collections import Counter\n",
    "def all_topics(filterset=None):\n",
    "    for post_id, (topic_lst, _) in topics.items():\n",
    "        if filterset is None or post_id in filterset:\n",
    "            for topic in topic_lst:\n",
    "                yield topic.strip()"
   ]
  },
  {
   "cell_type": "code",
   "execution_count": null,
   "metadata": {},
   "outputs": [],
   "source": [
    "from metaflow import Flow, namespace\n",
    "namespace(None)\n",
    "post_run =  next(Flow('HNSentimentAnalyzePosts').runs('analyze_this'))\n",
    "post_tags = post_run['end'].task['post_tags'].data\n",
    "topics = {int(post_id): list({t.lower().capitalize() for t in topics}) for post_id, (topics, _) in post_tags.items()}\n",
    "post_run"
   ]
  },
  {
   "cell_type": "code",
   "execution_count": null,
   "metadata": {},
   "outputs": [],
   "source": [
    "print('post tokens', sum(num_tokens for _, num_tokens in post_tags.values()))"
   ]
  },
  {
   "cell_type": "code",
   "execution_count": null,
   "metadata": {},
   "outputs": [],
   "source": [
    "from collections import defaultdict\n",
    "topic_sentiment = defaultdict(list)\n",
    "for post_id, topic_lst in topics.items():\n",
    "    score = sentiments.get(post_id)\n",
    "    if score is not None:\n",
    "        for topic in topic_lst:\n",
    "            topic = topic.strip()\n",
    "            if topic and 'Please provide the article' not in topic and \"which is not an article\" not in topic:\n",
    "                topic_sentiment[topic].append(score)"
   ]
  },
  {
   "cell_type": "code",
   "execution_count": null,
   "metadata": {},
   "outputs": [],
   "source": [
    "import duckdb\n",
    "post_times = list(duckdb.query(\"select id, time, title, url from 'story.parquet' where to_timestamp(time) > timestamp '2020-01-01'\").execute().fetchall())\n",
    "post_meta = {id: (title, url, time) for id, time, title, url in post_times if id in sentiments}"
   ]
  },
  {
   "cell_type": "code",
   "execution_count": null,
   "metadata": {},
   "outputs": [],
   "source": [
    "from datetime import datetime\n",
    "import pandas as pd\n",
    "from collections import defaultdict\n",
    "\n",
    "CUTOFF = datetime(2023, 6, 1).timestamp()\n",
    "\n",
    "def timeseries():\n",
    "    days = defaultdict(list)\n",
    "    for post_id, tstamp, _, _ in post_times:\n",
    "        if tstamp < CUTOFF:  \n",
    "            if post_id in sentiments:\n",
    "                day = datetime.fromtimestamp(tstamp).replace(hour=0, minute=0, second=0)\n",
    "                days[day].append(sentiments[post_id])\n",
    "    dfdata = []\n",
    "    for day, series in days.items():\n",
    "        series.sort()\n",
    "        median = sum(series) / len(series)\n",
    "        dfdata.append({'date': day, 'mood': median})  \n",
    "    return pd.DataFrame(dfdata)\n",
    "\n",
    "mood_df = timeseries()\n",
    "mood_df.head()"
   ]
  },
  {
   "cell_type": "code",
   "execution_count": null,
   "metadata": {},
   "outputs": [],
   "source": [
    "\n",
    "import altair as alt\n",
    "\n",
    "alt.renderers.enable('html')\n",
    "\n",
    "from altair_theme import THEME\n",
    "alt.themes.register('ob', lambda: THEME)\n",
    "alt.themes.enable('ob')\n",
    "\n",
    "base = alt.Chart(mood_df).properties(width=1000, height=700)\n",
    "chart = base.mark_point().encode(x=alt.X(\"date\", title=''), y=alt.Y(\"mood\", title='Average Sentiment', scale=alt.Scale(domain=[5,8])))\n",
    "chart = chart + chart.transform_loess('date', 'mood').mark_line().encode(color=alt.value('#fc6603'))\n",
    "chart.configure(axisBottom=alt.AxisConfig(labelFontSize=22, titleFontSize=22, labelAngle=0),\n",
    "                                          axisLeft=alt.AxisConfig(labelFontSize=20, titleFontSize=22),\n",
    "                padding=40)"
   ]
  },
  {
   "cell_type": "code",
   "execution_count": null,
   "metadata": {},
   "outputs": [],
   "source": [
    "from collections import Counter\n",
    "#df = pd.DataFrame({'sentiment': list(sentiments.values())})\n",
    "\n",
    "df = pd.DataFrame([{'score': s, 'count': c} for s, c in Counter(sentiments.values()).items()])\n",
    "\n",
    "alt.Chart(df).mark_bar().encode(\n",
    "    x=alt.X(\"score:O\", title=\"Sentiment score\"),\n",
    "    y=alt.Y('count', title=\"Number of posts\"),\n",
    ").properties(width=600, height=300).configure(axisBottom=alt.AxisConfig(labelFontSize=20, titleFontSize=16, labelAngle=0),\n",
    "                                              axisLeft=alt.AxisConfig(labelFontSize=20, titleFontSize=16),\n",
    "                                              padding=30)"
   ]
  },
  {
   "cell_type": "code",
   "execution_count": null,
   "metadata": {},
   "outputs": [],
   "source": []
  },
  {
   "cell_type": "code",
   "execution_count": null,
   "metadata": {},
   "outputs": [],
   "source": [
    "import math\n",
    "divisive = {}\n",
    "for topic, scores in topic_sentiment.items():\n",
    "    if len(scores) > 40:\n",
    "        num_high = sum(1 for s in scores if s >= 7)\n",
    "        num_low = sum(1 for s in scores if s <= 4)\n",
    "        symmetric = 1.0 - abs(num_high - num_low) / (num_high + num_low)\n",
    "        tail_heavy = (num_high + num_low) / len(scores)\n",
    "        div = tail_heavy * symmetric\n",
    "        divisive[topic] = div\n"
   ]
  },
  {
   "cell_type": "code",
   "execution_count": null,
   "metadata": {},
   "outputs": [],
   "source": [
    "from datetime import datetime\n",
    "import json\n",
    "\n",
    "def post_entry(arg, max_score=10):\n",
    "    score, post_id = arg\n",
    "    title, url, time = post_meta[post_id]\n",
    "    return {\n",
    "        'title': title,\n",
    "        'url': f'https://news.ycombinator.com/item?id={post_id}',\n",
    "        'time': datetime.fromtimestamp(time).strftime('%Y-%m-%d'),\n",
    "        'score': score\n",
    "    }\n",
    "\n",
    "from collections import defaultdict\n",
    "inv_index = defaultdict(list)\n",
    "for post_id, topic_lst in topics.items():\n",
    "    for topic in topic_lst:\n",
    "        if post_id in sentiments and comments_meta.get(post_id, 0) > 200:\n",
    "            inv_index[topic].append((sentiments[post_id], post_id))\n",
    "\n",
    "positives = []\n",
    "negatives = []\n",
    "topic_data = {}\n",
    "for topic, scores in topic_sentiment.items():\n",
    "    scores.sort()\n",
    "    posts = sorted(inv_index[topic])\n",
    "    if len(posts) > 5:\n",
    "        n = len(posts) // 2\n",
    "        median = scores[len(scores) // 2]\n",
    "        if median > 7:\n",
    "            positives.append((len(posts), topic))\n",
    "        if median < 4:\n",
    "            negatives.append((len(posts), topic))\n",
    "        topic_data[topic] = {\n",
    "            'topic': topic,\n",
    "            'num_posts': len(posts),\n",
    "            'angry_posts': [post_entry((s, post_id)) for s, post_id in posts[:min(n, 5)] if s < 7],\n",
    "            'happy_posts': list(map(post_entry, posts[max(-5, -n):])),\n",
    "            'median_score': median,\n",
    "            'divisiveness': divisive.get(topic, 0)\n",
    "        }\n",
    "\n",
    "with open('topic_data.json', 'w') as f:\n",
    "    json.dump(topic_data, f)"
   ]
  },
  {
   "cell_type": "code",
   "execution_count": null,
   "metadata": {},
   "outputs": [],
   "source": [
    "positives.sort(reverse=True)\n",
    "negatives.sort(reverse=True)\n",
    "negatives[:20]"
   ]
  },
  {
   "cell_type": "code",
   "execution_count": null,
   "metadata": {},
   "outputs": [],
   "source": [
    "positives[:20]"
   ]
  },
  {
   "cell_type": "code",
   "execution_count": null,
   "metadata": {},
   "outputs": [],
   "source": []
  }
 ],
 "metadata": {
  "kernelspec": {
   "display_name": "Python 3",
   "language": "python",
   "name": "python3"
  },
  "language_info": {
   "codemirror_mode": {
    "name": "ipython",
    "version": 3
   },
   "file_extension": ".py",
   "mimetype": "text/x-python",
   "name": "python",
   "nbconvert_exporter": "python",
   "pygments_lexer": "ipython3",
   "version": "3.9.18"
  }
 },
 "nbformat": 4,
 "nbformat_minor": 2
}
