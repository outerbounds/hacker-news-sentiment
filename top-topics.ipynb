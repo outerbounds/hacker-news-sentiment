{
 "cells": [
  {
   "cell_type": "code",
   "execution_count": null,
   "metadata": {},
   "outputs": [],
   "source": [
    "import duckdb\n",
    "post_times = dict(duckdb.query(\"select id, time from 'story.parquet' where to_timestamp(time) > timestamp '2020-01-01'\").execute().fetchall())"
   ]
  },
  {
   "cell_type": "code",
   "execution_count": null,
   "metadata": {},
   "outputs": [],
   "source": [
    "from metaflow import Flow, namespace\n",
    "namespace(None)\n",
    "post_run =  next(Flow('HNSentimentAnalyzePosts').runs('analyze_this'))\n",
    "topics = {int(post_id): list({t.lower().capitalize() for t in topics}) for post_id, (topics, _) in post_run['end'].task['post_tags'].data.items()}\n",
    "print('num docs', len(topics))\n",
    "post_run"
   ]
  },
  {
   "cell_type": "code",
   "execution_count": null,
   "metadata": {},
   "outputs": [],
   "source": [
    "from collections import Counter\n",
    "def all_topics(filterset=None):\n",
    "    for post_id, topic_lst in topics.items():\n",
    "        if filterset is None or post_id in filterset:\n",
    "            for topic in topic_lst:\n",
    "                yield topic.strip()"
   ]
  },
  {
   "cell_type": "markdown",
   "metadata": {},
   "source": []
  },
  {
   "cell_type": "code",
   "execution_count": null,
   "metadata": {},
   "outputs": [],
   "source": [
    "from itertools import chain, islice\n",
    "\n",
    "import altair as alt\n",
    "import pandas as pd\n",
    "\n",
    "alt.renderers.enable('html')\n",
    "\n",
    "from altair_theme import THEME\n",
    "alt.themes.register('ob', lambda: THEME)\n",
    "alt.themes.enable('ob')\n",
    "\n",
    "#alt.themes.enable('fivethirtyeight')\n",
    "#theme = alt.themes.get()\n",
    "#theme['config']['background'] = 'black'\n",
    "\n",
    "c = Counter(all_topics())\n",
    "df = pd.DataFrame(c.most_common(20), columns=['Topic', 'Count'])\n",
    "print('top %', sum(v for k, v in c.most_common(20)) / sum(c.values()))\n",
    "\n",
    "base = alt.Chart(df).encode(\n",
    "    x=alt.X('Count', title=\"Number of posts\"),\n",
    "    y=alt.Y(\"Topic\").sort('-x'),\n",
    "    text='Count',\n",
    "\n",
    ").properties(width=1000, height=900)\n",
    "chart = base.mark_bar() + base.mark_text(align='left', dx=5, fontSize=22)\n",
    "chart.configure(axis=alt.AxisConfig(labelFontSize=22, titleFontSize=22),\n",
    "                padding=40)"
   ]
  },
  {
   "cell_type": "code",
   "execution_count": null,
   "metadata": {},
   "outputs": [],
   "source": [
    "from datetime import datetime\n",
    "cutoff = datetime(2022, 1, 1).timestamp()\n",
    "old = {post_id for post_id, t in post_times.items() if t < cutoff}\n",
    "new = {post_id for post_id, t in post_times.items() if t >= cutoff}\n",
    "\n",
    "old_topics = Counter(all_topics(old))\n",
    "new_topics = Counter(all_topics(new))\n",
    "\n",
    "diff = []\n",
    "for topic in set(old_topics).union(new_topics):\n",
    "    old_f = old_topics.get(topic, 0)\n",
    "    new_f = new_topics.get(topic, 0)\n",
    "    if old_f + new_f < 100:\n",
    "        continue\n",
    "    diff.append((old_f / len(old) - new_f / len(new), topic))\n",
    "\n",
    "diff.sort()\n",
    "\n",
    "up_topics = frozenset(t for _, t in diff[:10])\n",
    "down_topics = frozenset(t for _, t in diff[-10:])\n",
    "up_topics"
   ]
  },
  {
   "cell_type": "code",
   "execution_count": null,
   "metadata": {},
   "outputs": [],
   "source": [
    "from datetime import datetime\n",
    "import pandas as pd\n",
    "\n",
    "CUTOFF = datetime(2023, 6, 1).timestamp()\n",
    "\n",
    "def timeseries(toi):\n",
    "    days = {t: Counter() for t in toi}\n",
    "    for post_id, tstamp in post_times.items():\n",
    "        if tstamp < CUTOFF and post_id in topics:\n",
    "            for t in topics[post_id]:      \n",
    "                if t in toi:\n",
    "                    day = datetime.fromtimestamp(tstamp).replace(day=1, hour=0, minute=0, second=0)\n",
    "                    days[t][day] += 1\n",
    "    dfdata = []\n",
    "    for t, series in days.items():\n",
    "        for day, count in series.items():\n",
    "            dfdata.append({'topic': t, 'date': day, 'posts': count})  \n",
    "    return pd.DataFrame(dfdata)"
   ]
  },
  {
   "cell_type": "code",
   "execution_count": null,
   "metadata": {},
   "outputs": [],
   "source": [
    "def timeseries_chart(df, enable_legend=True):\n",
    "    if enable_legend:\n",
    "        legend = alt.Legend(\n",
    "                legendX=100,\n",
    "                legendY=40,\n",
    "                direction='horizontal',\n",
    "                orient='top',\n",
    "                labelFontSize=22,\n",
    "                title='',\n",
    "        )\n",
    "    else:\n",
    "        legend = None\n",
    "    base = alt.Chart(df).encode(\n",
    "        color=alt.Color(\"topic\", legend=legend)\n",
    "    )\n",
    "    line = base.mark_line().encode(x=\"date\", y=\"posts\")\n",
    "    last_dot = base.mark_circle().encode(\n",
    "       alt.X(\"last_date['date']:T\"),\n",
    "       alt.Y(\"last_date['posts']:Q\")\n",
    "    ).transform_aggregate(\n",
    "        last_date=\"argmax(date)\",\n",
    "        groupby=[\"topic\"]\n",
    "    )\n",
    "    topic_name = last_dot.mark_text(align=\"left\", dx=4, fontSize=20).encode(text=\"topic\")\n",
    "    chart = (line + last_dot + topic_name).encode(\n",
    "        x=alt.X(axis=alt.Axis(title='')).title(\"date\"),\n",
    "        y=alt.Y().title(\"posts\")\n",
    "    ).properties(width=1000, height=900)\\\n",
    "     .configure(axis=alt.AxisConfig(labelFontSize=22, titleFontSize=22),\n",
    "                padding=40)\n",
    "    return chart"
   ]
  },
  {
   "cell_type": "code",
   "execution_count": null,
   "metadata": {},
   "outputs": [],
   "source": [
    "timeseries_chart(timeseries(up_topics), enable_legend=False)"
   ]
  },
  {
   "cell_type": "code",
   "execution_count": null,
   "metadata": {},
   "outputs": [],
   "source": [
    "timeseries_chart(timeseries(down_topics))"
   ]
  },
  {
   "cell_type": "code",
   "execution_count": null,
   "metadata": {},
   "outputs": [],
   "source": [
    "brand_new = []\n",
    "for t in set(new_topics) - set(old_topics):\n",
    "    brand_new.append((new_topics[t], t))\n",
    "brand_new.sort(reverse=True)\n",
    "brand_new[:15]"
   ]
  },
  {
   "cell_type": "code",
   "execution_count": null,
   "metadata": {},
   "outputs": [],
   "source": [
    "brand_new = []\n",
    "for t in set(old_topics) - set(new_topics):\n",
    "    brand_new.append((old_topics[t], t))\n",
    "brand_new.sort(reverse=True)\n",
    "brand_new[:15]"
   ]
  },
  {
   "cell_type": "code",
   "execution_count": null,
   "metadata": {},
   "outputs": [],
   "source": []
  }
 ],
 "metadata": {
  "kernelspec": {
   "display_name": "Python 3",
   "language": "python",
   "name": "python3"
  },
  "language_info": {
   "codemirror_mode": {
    "name": "ipython",
    "version": 3
   },
   "file_extension": ".py",
   "mimetype": "text/x-python",
   "name": "python",
   "nbconvert_exporter": "python",
   "pygments_lexer": "ipython3",
   "version": "3.9.18"
  }
 },
 "nbformat": 4,
 "nbformat_minor": 2
}
