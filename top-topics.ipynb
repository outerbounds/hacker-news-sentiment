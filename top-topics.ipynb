{
 "cells": [
  {
   "cell_type": "code",
   "execution_count": 60,
   "metadata": {},
   "outputs": [],
   "source": [
    "import duckdb\n",
    "post_times = dict(duckdb.query(\"select id, time from 'story.parquet' where to_timestamp(time) > timestamp '2020-01-01'\").execute().fetchall())"
   ]
  },
  {
   "cell_type": "code",
   "execution_count": 59,
   "metadata": {},
   "outputs": [
    {
     "data": {
      "text/plain": [
       "Run('HNSentimentAnalyzePosts/argo-hnsentiment.user.tuulosgmail.com.hnsentimentanalyzeposts-rhdls')"
      ]
     },
     "execution_count": 59,
     "metadata": {},
     "output_type": "execute_result"
    }
   ],
   "source": [
    "from metaflow import Flow, namespace\n",
    "namespace(None)\n",
    "post_run =  next(Flow('HNSentimentAnalyzePosts').runs('analyze_this'))\n",
    "topics = {int(post_id): topics for post_id, topics in post_run['end'].task['post_tags'].data.items()}\n",
    "post_run"
   ]
  },
  {
   "cell_type": "code",
   "execution_count": 50,
   "metadata": {},
   "outputs": [],
   "source": [
    "from collections import Counter\n",
    "def all_topics(filterset=None):\n",
    "    for post_id, (topic_lst, _) in topics.items():\n",
    "        if filterset is None or post_id in filterset:\n",
    "            for topic in topic_lst:\n",
    "                yield topic.strip()"
   ]
  },
  {
   "cell_type": "markdown",
   "metadata": {},
   "source": []
  },
  {
   "cell_type": "code",
   "execution_count": 61,
   "metadata": {},
   "outputs": [
    {
     "data": {
      "text/html": [
       "\n",
       "<style>\n",
       "  #altair-viz-9aa0a63bddbe467e9101d88191eea416.vega-embed {\n",
       "    width: 100%;\n",
       "    display: flex;\n",
       "  }\n",
       "\n",
       "  #altair-viz-9aa0a63bddbe467e9101d88191eea416.vega-embed details,\n",
       "  #altair-viz-9aa0a63bddbe467e9101d88191eea416.vega-embed details summary {\n",
       "    position: relative;\n",
       "  }\n",
       "</style>\n",
       "<div id=\"altair-viz-9aa0a63bddbe467e9101d88191eea416\"></div>\n",
       "<script type=\"text/javascript\">\n",
       "  var VEGA_DEBUG = (typeof VEGA_DEBUG == \"undefined\") ? {} : VEGA_DEBUG;\n",
       "  (function(spec, embedOpt){\n",
       "    let outputDiv = document.currentScript.previousElementSibling;\n",
       "    if (outputDiv.id !== \"altair-viz-9aa0a63bddbe467e9101d88191eea416\") {\n",
       "      outputDiv = document.getElementById(\"altair-viz-9aa0a63bddbe467e9101d88191eea416\");\n",
       "    }\n",
       "    const paths = {\n",
       "      \"vega\": \"https://cdn.jsdelivr.net/npm/vega@5?noext\",\n",
       "      \"vega-lib\": \"https://cdn.jsdelivr.net/npm/vega-lib?noext\",\n",
       "      \"vega-lite\": \"https://cdn.jsdelivr.net/npm/vega-lite@5.17.0?noext\",\n",
       "      \"vega-embed\": \"https://cdn.jsdelivr.net/npm/vega-embed@6?noext\",\n",
       "    };\n",
       "\n",
       "    function maybeLoadScript(lib, version) {\n",
       "      var key = `${lib.replace(\"-\", \"\")}_version`;\n",
       "      return (VEGA_DEBUG[key] == version) ?\n",
       "        Promise.resolve(paths[lib]) :\n",
       "        new Promise(function(resolve, reject) {\n",
       "          var s = document.createElement('script');\n",
       "          document.getElementsByTagName(\"head\")[0].appendChild(s);\n",
       "          s.async = true;\n",
       "          s.onload = () => {\n",
       "            VEGA_DEBUG[key] = version;\n",
       "            return resolve(paths[lib]);\n",
       "          };\n",
       "          s.onerror = () => reject(`Error loading script: ${paths[lib]}`);\n",
       "          s.src = paths[lib];\n",
       "        });\n",
       "    }\n",
       "\n",
       "    function showError(err) {\n",
       "      outputDiv.innerHTML = `<div class=\"error\" style=\"color:red;\">${err}</div>`;\n",
       "      throw err;\n",
       "    }\n",
       "\n",
       "    function displayChart(vegaEmbed) {\n",
       "      vegaEmbed(outputDiv, spec, embedOpt)\n",
       "        .catch(err => showError(`Javascript Error: ${err.message}<br>This usually means there's a typo in your chart specification. See the javascript console for the full traceback.`));\n",
       "    }\n",
       "\n",
       "    if(typeof define === \"function\" && define.amd) {\n",
       "      requirejs.config({paths});\n",
       "      require([\"vega-embed\"], displayChart, err => showError(`Error loading script: ${err.message}`));\n",
       "    } else {\n",
       "      maybeLoadScript(\"vega\", \"5\")\n",
       "        .then(() => maybeLoadScript(\"vega-lite\", \"5.17.0\"))\n",
       "        .then(() => maybeLoadScript(\"vega-embed\", \"6\"))\n",
       "        .catch(showError)\n",
       "        .then(() => displayChart(vegaEmbed));\n",
       "    }\n",
       "  })({\"arc\": {\"fill\": \"#30a2da\"}, \"area\": {\"fill\": \"#30a2da\"}, \"axis\": {\"domainColor\": \"#cbcbcb\", \"grid\": true, \"gridColor\": \"#cbcbcb\", \"gridWidth\": 1, \"labelColor\": \"#999\", \"labelFontSize\": 24, \"labelPadding\": 4, \"tickColor\": \"#cbcbcb\", \"tickSize\": 10, \"titleColor\": \"#333\", \"titleFontSize\": 24, \"titlePadding\": 10}, \"axisBand\": {\"grid\": false}, \"background\": \"#faf8f4\", \"bar\": {\"binSpacing\": 2, \"fill\": \"#30a2da\", \"stroke\": null}, \"group\": {\"fill\": \"#f0f0f0\"}, \"legend\": {\"labelColor\": \"#333\", \"labelFontSize\": 14, \"padding\": 1, \"symbolSize\": 30, \"symbolType\": \"square\", \"titleColor\": \"#333\", \"titleFontSize\": 16, \"titlePadding\": 20}, \"line\": {\"stroke\": \"#30a2da\", \"strokeWidth\": 2}, \"path\": {\"stroke\": \"#30a2da\", \"strokeWidth\": 0.5}, \"point\": {\"filled\": true, \"shape\": \"circle\"}, \"range\": {\"category\": [\"#30a2da\", \"#fc4f30\", \"#e5ae38\", \"#6d904f\", \"#8b8b8b\", \"#b96db8\", \"#ff9e27\", \"#56cc60\", \"#52d2ca\", \"#52689e\", \"#545454\", \"#9fe4f8\"], \"diverging\": [\"#cc0020\", \"#e77866\", \"#f6e7e1\", \"#d6e8ed\", \"#91bfd9\", \"#1d78b5\"], \"heatmap\": [\"#d6e8ed\", \"#cee0e5\", \"#91bfd9\", \"#549cc6\", \"#1d78b5\"]}, \"rect\": {\"fill\": \"#30a2da\"}, \"shape\": {\"stroke\": \"#30a2da\"}, \"title\": {\"anchor\": \"start\", \"fontSize\": 24, \"fontWeight\": 400, \"offset\": 20}, \"layer\": [{\"mark\": {\"type\": \"bar\"}, \"encoding\": {\"text\": {\"field\": \"Count\", \"type\": \"quantitative\"}, \"x\": {\"field\": \"Count\", \"title\": \"Number of posts\", \"type\": \"quantitative\"}, \"y\": {\"field\": \"Topic\", \"sort\": \"-x\", \"type\": \"nominal\"}}}, {\"mark\": {\"type\": \"text\", \"align\": \"left\", \"dx\": 5}, \"encoding\": {\"text\": {\"field\": \"Count\", \"type\": \"quantitative\"}, \"x\": {\"field\": \"Count\", \"title\": \"Number of posts\", \"type\": \"quantitative\"}, \"y\": {\"field\": \"Topic\", \"sort\": \"-x\", \"type\": \"nominal\"}}}], \"config\": {\"axis\": {\"labelFontSize\": 16, \"titleFontSize\": 20}}, \"data\": {\"name\": \"data-7ee478d8a369e148e64017d8124d9bc6\"}, \"height\": 700, \"width\": 1000, \"$schema\": \"https://vega.github.io/schema/vega-lite/v5.17.0.json\", \"datasets\": {\"data-7ee478d8a369e148e64017d8124d9bc6\": [{\"Topic\": \"Technology\", \"Count\": 13918}, {\"Topic\": \"Open Source\", \"Count\": 5027}, {\"Topic\": \"Software Development\", \"Count\": 4124}, {\"Topic\": \"GitHub\", \"Count\": 3784}, {\"Topic\": \"Programming\", \"Count\": 3496}, {\"Topic\": \"Artificial Intelligence\", \"Count\": 3494}, {\"Topic\": \"JavaScript\", \"Count\": 3360}, {\"Topic\": \"Cybersecurity\", \"Count\": 3222}, {\"Topic\": \"Web Development\", \"Count\": 3047}, {\"Topic\": \"Security\", \"Count\": 3003}, {\"Topic\": \"Linux\", \"Count\": 2877}, {\"Topic\": \"Innovation\", \"Count\": 2626}, {\"Topic\": \"Science\", \"Count\": 2581}, {\"Topic\": \"Productivity\", \"Count\": 2467}, {\"Topic\": \"Privacy\", \"Count\": 2434}, {\"Topic\": \"Machine Learning\", \"Count\": 2433}, {\"Topic\": \"Business\", \"Count\": 2259}, {\"Topic\": \"Cloud Computing\", \"Count\": 2248}, {\"Topic\": \"Computer Science\", \"Count\": 2168}, {\"Topic\": \"Politics\", \"Count\": 2148}]}}, {\"mode\": \"vega-lite\"});\n",
       "</script>"
      ],
      "text/plain": [
       "alt.LayerChart(...)"
      ]
     },
     "execution_count": 61,
     "metadata": {},
     "output_type": "execute_result"
    }
   ],
   "source": [
    "from itertools import chain, islice\n",
    "\n",
    "import altair as alt\n",
    "import pandas as pd\n",
    "\n",
    "alt.renderers.enable('html')\n",
    "\n",
    "from altair_theme import THEME\n",
    "alt.themes.register('ob', lambda: THEME)\n",
    "alt.themes.enable('ob')\n",
    "\n",
    "#alt.themes.enable('fivethirtyeight')\n",
    "#theme = alt.themes.get()\n",
    "#theme['config']['background'] = 'black'\n",
    "\n",
    "c = Counter(all_topics())\n",
    "df = pd.DataFrame(c.most_common(20), columns=['Topic', 'Count'])\n",
    "\n",
    "base = alt.Chart(df).encode(\n",
    "    x=alt.X('Count', title=\"Number of posts\"),\n",
    "    y=alt.Y(\"Topic\").sort('-x'),\n",
    "    text='Count',\n",
    "\n",
    ").properties(width=1000, height=700)\n",
    "chart = base.mark_bar() + base.mark_text(align='left', dx=5)\n",
    "chart.configure(axis=alt.AxisConfig(labelFontSize=16, titleFontSize=20))"
   ]
  },
  {
   "cell_type": "code",
   "execution_count": 69,
   "metadata": {},
   "outputs": [
    {
     "data": {
      "text/plain": [
       "frozenset({'AI',\n",
       "           'Artificial Intelligence',\n",
       "           'ChatGPT',\n",
       "           'GitHub',\n",
       "           'Layoffs',\n",
       "           'Machine Learning',\n",
       "           'Natural Language Processing',\n",
       "           'Open Source',\n",
       "           'Productivity',\n",
       "           'Technology'})"
      ]
     },
     "execution_count": 69,
     "metadata": {},
     "output_type": "execute_result"
    }
   ],
   "source": [
    "from datetime import datetime\n",
    "cutoff = datetime(2022, 1, 1).timestamp()\n",
    "old = {post_id for post_id, t in post_times.items() if t < cutoff}\n",
    "new = {post_id for post_id, t in post_times.items() if t >= cutoff}\n",
    "\n",
    "old_topics = Counter(all_topics(old))\n",
    "new_topics = Counter(all_topics(new))\n",
    "\n",
    "diff = []\n",
    "for topic in set(old_topics).union(new_topics):\n",
    "    old_f = old_topics.get(topic, 0)\n",
    "    new_f = new_topics.get(topic, 0)\n",
    "    if old_f + new_f < 100:\n",
    "        continue\n",
    "    diff.append((old_f / len(old) - new_f / len(new), topic))\n",
    "\n",
    "diff.sort()\n",
    "\n",
    "up_topics = frozenset(t for _, t in diff[:10])\n",
    "down_topics = frozenset(t for _, t in diff[-10:])\n",
    "up_topics"
   ]
  },
  {
   "cell_type": "code",
   "execution_count": 105,
   "metadata": {},
   "outputs": [],
   "source": [
    "from datetime import datetime\n",
    "import pandas as pd\n",
    "\n",
    "CUTOFF = datetime(2023, 6, 1).timestamp()\n",
    "\n",
    "def timeseries(toi):\n",
    "    days = {t: Counter() for t in toi}\n",
    "    for post_id, tstamp in post_times.items():\n",
    "        if tstamp < CUTOFF and post_id in topics:\n",
    "            post_topics, _ = topics[post_id]\n",
    "            for t in post_topics:        \n",
    "                if t in toi:\n",
    "                    day = datetime.fromtimestamp(tstamp).replace(day=1, hour=0, minute=0, second=0)\n",
    "                    days[t][day] += 1\n",
    "    dfdata = []\n",
    "    for t, series in days.items():\n",
    "        for day, count in series.items():\n",
    "            dfdata.append({'topic': t, 'date': day, 'posts': count})  \n",
    "    return pd.DataFrame(dfdata)"
   ]
  },
  {
   "cell_type": "code",
   "execution_count": 122,
   "metadata": {},
   "outputs": [],
   "source": [
    "def timeseries_chart(df):\n",
    "    base = alt.Chart(df).encode(\n",
    "        color=alt.Color(\"topic\",\n",
    "            legend=alt.Legend(\n",
    "                legendX=100,\n",
    "                legendY=40,\n",
    "                direction='horizontal',\n",
    "                orient='top',\n",
    "                labelFontSize=14,\n",
    "                title=''\n",
    "            )\n",
    "        )\n",
    "    )\n",
    "    line = base.mark_line().encode(x=\"date\", y=\"posts\")\n",
    "    last_dot = base.mark_circle().encode(\n",
    "       alt.X(\"last_date['date']:T\"),\n",
    "       alt.Y(\"last_date['posts']:Q\")\n",
    "    ).transform_aggregate(\n",
    "        last_date=\"argmax(date)\",\n",
    "        groupby=[\"topic\"]\n",
    "    )\n",
    "    topic_name = last_dot.mark_text(align=\"left\", dx=4, fontSize=14).encode(text=\"topic\")\n",
    "    chart = (line + last_dot + topic_name).encode(\n",
    "        x=alt.X(axis=alt.Axis(title='')).title(\"date\"),\n",
    "        y=alt.Y().title(\"posts\")\n",
    "    ).properties(width=1000, height=700)\\\n",
    "     .configure(axis=alt.AxisConfig(labelFontSize=16, titleFontSize=20))\n",
    "    return chart"
   ]
  },
  {
   "cell_type": "code",
   "execution_count": 123,
   "metadata": {},
   "outputs": [
    {
     "data": {
      "text/html": [
       "\n",
       "<style>\n",
       "  #altair-viz-7b615c1c21b44cd28005b9c1799f8435.vega-embed {\n",
       "    width: 100%;\n",
       "    display: flex;\n",
       "  }\n",
       "\n",
       "  #altair-viz-7b615c1c21b44cd28005b9c1799f8435.vega-embed details,\n",
       "  #altair-viz-7b615c1c21b44cd28005b9c1799f8435.vega-embed details summary {\n",
       "    position: relative;\n",
       "  }\n",
       "</style>\n",
       "<div id=\"altair-viz-7b615c1c21b44cd28005b9c1799f8435\"></div>\n",
       "<script type=\"text/javascript\">\n",
       "  var VEGA_DEBUG = (typeof VEGA_DEBUG == \"undefined\") ? {} : VEGA_DEBUG;\n",
       "  (function(spec, embedOpt){\n",
       "    let outputDiv = document.currentScript.previousElementSibling;\n",
       "    if (outputDiv.id !== \"altair-viz-7b615c1c21b44cd28005b9c1799f8435\") {\n",
       "      outputDiv = document.getElementById(\"altair-viz-7b615c1c21b44cd28005b9c1799f8435\");\n",
       "    }\n",
       "    const paths = {\n",
       "      \"vega\": \"https://cdn.jsdelivr.net/npm/vega@5?noext\",\n",
       "      \"vega-lib\": \"https://cdn.jsdelivr.net/npm/vega-lib?noext\",\n",
       "      \"vega-lite\": \"https://cdn.jsdelivr.net/npm/vega-lite@5.17.0?noext\",\n",
       "      \"vega-embed\": \"https://cdn.jsdelivr.net/npm/vega-embed@6?noext\",\n",
       "    };\n",
       "\n",
       "    function maybeLoadScript(lib, version) {\n",
       "      var key = `${lib.replace(\"-\", \"\")}_version`;\n",
       "      return (VEGA_DEBUG[key] == version) ?\n",
       "        Promise.resolve(paths[lib]) :\n",
       "        new Promise(function(resolve, reject) {\n",
       "          var s = document.createElement('script');\n",
       "          document.getElementsByTagName(\"head\")[0].appendChild(s);\n",
       "          s.async = true;\n",
       "          s.onload = () => {\n",
       "            VEGA_DEBUG[key] = version;\n",
       "            return resolve(paths[lib]);\n",
       "          };\n",
       "          s.onerror = () => reject(`Error loading script: ${paths[lib]}`);\n",
       "          s.src = paths[lib];\n",
       "        });\n",
       "    }\n",
       "\n",
       "    function showError(err) {\n",
       "      outputDiv.innerHTML = `<div class=\"error\" style=\"color:red;\">${err}</div>`;\n",
       "      throw err;\n",
       "    }\n",
       "\n",
       "    function displayChart(vegaEmbed) {\n",
       "      vegaEmbed(outputDiv, spec, embedOpt)\n",
       "        .catch(err => showError(`Javascript Error: ${err.message}<br>This usually means there's a typo in your chart specification. See the javascript console for the full traceback.`));\n",
       "    }\n",
       "\n",
       "    if(typeof define === \"function\" && define.amd) {\n",
       "      requirejs.config({paths});\n",
       "      require([\"vega-embed\"], displayChart, err => showError(`Error loading script: ${err.message}`));\n",
       "    } else {\n",
       "      maybeLoadScript(\"vega\", \"5\")\n",
       "        .then(() => maybeLoadScript(\"vega-lite\", \"5.17.0\"))\n",
       "        .then(() => maybeLoadScript(\"vega-embed\", \"6\"))\n",
       "        .catch(showError)\n",
       "        .then(() => displayChart(vegaEmbed));\n",
       "    }\n",
       "  })({\"arc\": {\"fill\": \"#30a2da\"}, \"area\": {\"fill\": \"#30a2da\"}, \"axis\": {\"domainColor\": \"#cbcbcb\", \"grid\": true, \"gridColor\": \"#cbcbcb\", \"gridWidth\": 1, \"labelColor\": \"#999\", \"labelFontSize\": 24, \"labelPadding\": 4, \"tickColor\": \"#cbcbcb\", \"tickSize\": 10, \"titleColor\": \"#333\", \"titleFontSize\": 24, \"titlePadding\": 10}, \"axisBand\": {\"grid\": false}, \"background\": \"#faf8f4\", \"bar\": {\"binSpacing\": 2, \"fill\": \"#30a2da\", \"stroke\": null}, \"group\": {\"fill\": \"#f0f0f0\"}, \"legend\": {\"labelColor\": \"#333\", \"labelFontSize\": 14, \"padding\": 1, \"symbolSize\": 30, \"symbolType\": \"square\", \"titleColor\": \"#333\", \"titleFontSize\": 16, \"titlePadding\": 20}, \"line\": {\"stroke\": \"#30a2da\", \"strokeWidth\": 2}, \"path\": {\"stroke\": \"#30a2da\", \"strokeWidth\": 0.5}, \"point\": {\"filled\": true, \"shape\": \"circle\"}, \"range\": {\"category\": [\"#30a2da\", \"#fc4f30\", \"#e5ae38\", \"#6d904f\", \"#8b8b8b\", \"#b96db8\", \"#ff9e27\", \"#56cc60\", \"#52d2ca\", \"#52689e\", \"#545454\", \"#9fe4f8\"], \"diverging\": [\"#cc0020\", \"#e77866\", \"#f6e7e1\", \"#d6e8ed\", \"#91bfd9\", \"#1d78b5\"], \"heatmap\": [\"#d6e8ed\", \"#cee0e5\", \"#91bfd9\", \"#549cc6\", \"#1d78b5\"]}, \"rect\": {\"fill\": \"#30a2da\"}, \"shape\": {\"stroke\": \"#30a2da\"}, \"title\": {\"anchor\": \"start\", \"fontSize\": 24, \"fontWeight\": 400, \"offset\": 20}, \"layer\": [{\"mark\": {\"type\": \"line\"}, \"encoding\": {\"color\": {\"field\": \"topic\", \"legend\": {\"direction\": \"horizontal\", \"labelFontSize\": 14, \"legendX\": 100, \"legendY\": 40, \"orient\": \"top\", \"title\": \"\"}, \"type\": \"nominal\"}, \"x\": {\"field\": \"date\", \"type\": \"temporal\"}, \"y\": {\"field\": \"posts\", \"type\": \"quantitative\"}}}, {\"mark\": {\"type\": \"circle\"}, \"encoding\": {\"color\": {\"field\": \"topic\", \"legend\": {\"direction\": \"horizontal\", \"labelFontSize\": 14, \"legendX\": 100, \"legendY\": 40, \"orient\": \"top\", \"title\": \"\"}, \"type\": \"nominal\"}, \"x\": {\"field\": \"last_date['date']\", \"type\": \"temporal\"}, \"y\": {\"field\": \"last_date['posts']\", \"type\": \"quantitative\"}}, \"transform\": [{\"aggregate\": [{\"op\": \"argmax\", \"field\": \"date\", \"as\": \"last_date\"}], \"groupby\": [\"topic\"]}]}, {\"mark\": {\"type\": \"text\", \"align\": \"left\", \"dx\": 4, \"fontSize\": 14}, \"encoding\": {\"color\": {\"field\": \"topic\", \"legend\": {\"direction\": \"horizontal\", \"labelFontSize\": 14, \"legendX\": 100, \"legendY\": 40, \"orient\": \"top\", \"title\": \"\"}, \"type\": \"nominal\"}, \"text\": {\"field\": \"topic\", \"type\": \"nominal\"}, \"x\": {\"field\": \"last_date['date']\", \"type\": \"temporal\"}, \"y\": {\"field\": \"last_date['posts']\", \"type\": \"quantitative\"}}, \"transform\": [{\"aggregate\": [{\"op\": \"argmax\", \"field\": \"date\", \"as\": \"last_date\"}], \"groupby\": [\"topic\"]}]}], \"config\": {\"axis\": {\"labelFontSize\": 16, \"titleFontSize\": 20}}, \"data\": {\"name\": \"data-0ba3f99801448fcae6423261298efb7f\"}, \"encoding\": {\"x\": {\"axis\": {\"title\": \"\"}, \"title\": \"date\"}, \"y\": {\"title\": \"posts\"}}, \"height\": 700, \"width\": 1000, \"$schema\": \"https://vega.github.io/schema/vega-lite/v5.17.0.json\", \"datasets\": {\"data-0ba3f99801448fcae6423261298efb7f\": [{\"topic\": \"Machine Learning\", \"date\": \"2020-03-01T00:00:00\", \"posts\": 31}, {\"topic\": \"Machine Learning\", \"date\": \"2023-01-01T00:00:00\", \"posts\": 83}, {\"topic\": \"Machine Learning\", \"date\": \"2023-03-01T00:00:00\", \"posts\": 146}, {\"topic\": \"Machine Learning\", \"date\": \"2020-09-01T00:00:00\", \"posts\": 53}, {\"topic\": \"Machine Learning\", \"date\": \"2021-11-01T00:00:00\", \"posts\": 50}, {\"topic\": \"Machine Learning\", \"date\": \"2022-07-01T00:00:00\", \"posts\": 53}, {\"topic\": \"Machine Learning\", \"date\": \"2020-07-01T00:00:00\", \"posts\": 63}, {\"topic\": \"Machine Learning\", \"date\": \"2021-12-01T00:00:00\", \"posts\": 57}, {\"topic\": \"Machine Learning\", \"date\": \"2021-03-01T00:00:00\", \"posts\": 56}, {\"topic\": \"Machine Learning\", \"date\": \"2022-03-01T00:00:00\", \"posts\": 55}, {\"topic\": \"Machine Learning\", \"date\": \"2022-05-01T00:00:00\", \"posts\": 52}, {\"topic\": \"Machine Learning\", \"date\": \"2022-11-01T00:00:00\", \"posts\": 53}, {\"topic\": \"Machine Learning\", \"date\": \"2021-08-01T00:00:00\", \"posts\": 48}, {\"topic\": \"Machine Learning\", \"date\": \"2021-10-01T00:00:00\", \"posts\": 48}, {\"topic\": \"Machine Learning\", \"date\": \"2020-06-01T00:00:00\", \"posts\": 53}, {\"topic\": \"Machine Learning\", \"date\": \"2020-05-01T00:00:00\", \"posts\": 46}, {\"topic\": \"Machine Learning\", \"date\": \"2021-02-01T00:00:00\", \"posts\": 42}, {\"topic\": \"Machine Learning\", \"date\": \"2023-04-01T00:00:00\", \"posts\": 154}, {\"topic\": \"Machine Learning\", \"date\": \"2022-09-01T00:00:00\", \"posts\": 66}, {\"topic\": \"Machine Learning\", \"date\": \"2020-01-01T00:00:00\", \"posts\": 48}, {\"topic\": \"Machine Learning\", \"date\": \"2022-04-01T00:00:00\", \"posts\": 57}, {\"topic\": \"Machine Learning\", \"date\": \"2020-10-01T00:00:00\", \"posts\": 58}, {\"topic\": \"Machine Learning\", \"date\": \"2021-09-01T00:00:00\", \"posts\": 61}, {\"topic\": \"Machine Learning\", \"date\": \"2020-02-01T00:00:00\", \"posts\": 42}, {\"topic\": \"Machine Learning\", \"date\": \"2021-01-01T00:00:00\", \"posts\": 40}, {\"topic\": \"Machine Learning\", \"date\": \"2020-08-01T00:00:00\", \"posts\": 57}, {\"topic\": \"Machine Learning\", \"date\": \"2022-10-01T00:00:00\", \"posts\": 59}, {\"topic\": \"Machine Learning\", \"date\": \"2023-02-01T00:00:00\", \"posts\": 81}, {\"topic\": \"Machine Learning\", \"date\": \"2020-12-01T00:00:00\", \"posts\": 46}, {\"topic\": \"Machine Learning\", \"date\": \"2022-01-01T00:00:00\", \"posts\": 41}, {\"topic\": \"Machine Learning\", \"date\": \"2022-08-01T00:00:00\", \"posts\": 47}, {\"topic\": \"Machine Learning\", \"date\": \"2022-06-01T00:00:00\", \"posts\": 61}, {\"topic\": \"Machine Learning\", \"date\": \"2021-06-01T00:00:00\", \"posts\": 48}, {\"topic\": \"Machine Learning\", \"date\": \"2023-05-01T00:00:00\", \"posts\": 119}, {\"topic\": \"Machine Learning\", \"date\": \"2022-12-01T00:00:00\", \"posts\": 72}, {\"topic\": \"Machine Learning\", \"date\": \"2020-04-01T00:00:00\", \"posts\": 41}, {\"topic\": \"Machine Learning\", \"date\": \"2021-07-01T00:00:00\", \"posts\": 61}, {\"topic\": \"Machine Learning\", \"date\": \"2022-02-01T00:00:00\", \"posts\": 40}, {\"topic\": \"Machine Learning\", \"date\": \"2020-11-01T00:00:00\", \"posts\": 41}, {\"topic\": \"Machine Learning\", \"date\": \"2021-05-01T00:00:00\", \"posts\": 50}, {\"topic\": \"Machine Learning\", \"date\": \"2021-04-01T00:00:00\", \"posts\": 35}, {\"topic\": \"Open Source\", \"date\": \"2020-07-01T00:00:00\", \"posts\": 98}, {\"topic\": \"Open Source\", \"date\": \"2021-10-01T00:00:00\", \"posts\": 112}, {\"topic\": \"Open Source\", \"date\": \"2021-11-01T00:00:00\", \"posts\": 114}, {\"topic\": \"Open Source\", \"date\": \"2021-01-01T00:00:00\", \"posts\": 146}, {\"topic\": \"Open Source\", \"date\": \"2022-01-01T00:00:00\", \"posts\": 135}, {\"topic\": \"Open Source\", \"date\": \"2022-09-01T00:00:00\", \"posts\": 124}, {\"topic\": \"Open Source\", \"date\": \"2023-03-01T00:00:00\", \"posts\": 135}, {\"topic\": \"Open Source\", \"date\": \"2022-04-01T00:00:00\", \"posts\": 138}, {\"topic\": \"Open Source\", \"date\": \"2021-03-01T00:00:00\", \"posts\": 128}, {\"topic\": \"Open Source\", \"date\": \"2022-11-01T00:00:00\", \"posts\": 154}, {\"topic\": \"Open Source\", \"date\": \"2022-08-01T00:00:00\", \"posts\": 116}, {\"topic\": \"Open Source\", \"date\": \"2021-04-01T00:00:00\", \"posts\": 118}, {\"topic\": \"Open Source\", \"date\": \"2021-08-01T00:00:00\", \"posts\": 109}, {\"topic\": \"Open Source\", \"date\": \"2023-05-01T00:00:00\", \"posts\": 134}, {\"topic\": \"Open Source\", \"date\": \"2020-03-01T00:00:00\", \"posts\": 106}, {\"topic\": \"Open Source\", \"date\": \"2022-03-01T00:00:00\", \"posts\": 125}, {\"topic\": \"Open Source\", \"date\": \"2020-08-01T00:00:00\", \"posts\": 119}, {\"topic\": \"Open Source\", \"date\": \"2022-10-01T00:00:00\", \"posts\": 141}, {\"topic\": \"Open Source\", \"date\": \"2022-05-01T00:00:00\", \"posts\": 142}, {\"topic\": \"Open Source\", \"date\": \"2022-07-01T00:00:00\", \"posts\": 106}, {\"topic\": \"Open Source\", \"date\": \"2020-12-01T00:00:00\", \"posts\": 119}, {\"topic\": \"Open Source\", \"date\": \"2020-01-01T00:00:00\", \"posts\": 97}, {\"topic\": \"Open Source\", \"date\": \"2023-04-01T00:00:00\", \"posts\": 123}, {\"topic\": \"Open Source\", \"date\": \"2021-02-01T00:00:00\", \"posts\": 115}, {\"topic\": \"Open Source\", \"date\": \"2020-05-01T00:00:00\", \"posts\": 106}, {\"topic\": \"Open Source\", \"date\": \"2021-09-01T00:00:00\", \"posts\": 133}, {\"topic\": \"Open Source\", \"date\": \"2021-07-01T00:00:00\", \"posts\": 133}, {\"topic\": \"Open Source\", \"date\": \"2020-04-01T00:00:00\", \"posts\": 116}, {\"topic\": \"Open Source\", \"date\": \"2023-02-01T00:00:00\", \"posts\": 131}, {\"topic\": \"Open Source\", \"date\": \"2022-02-01T00:00:00\", \"posts\": 127}, {\"topic\": \"Open Source\", \"date\": \"2021-12-01T00:00:00\", \"posts\": 143}, {\"topic\": \"Open Source\", \"date\": \"2023-01-01T00:00:00\", \"posts\": 125}, {\"topic\": \"Open Source\", \"date\": \"2021-06-01T00:00:00\", \"posts\": 102}, {\"topic\": \"Open Source\", \"date\": \"2022-06-01T00:00:00\", \"posts\": 120}, {\"topic\": \"Open Source\", \"date\": \"2021-05-01T00:00:00\", \"posts\": 118}, {\"topic\": \"Open Source\", \"date\": \"2022-12-01T00:00:00\", \"posts\": 135}, {\"topic\": \"Open Source\", \"date\": \"2020-06-01T00:00:00\", \"posts\": 109}, {\"topic\": \"Open Source\", \"date\": \"2020-10-01T00:00:00\", \"posts\": 112}, {\"topic\": \"Open Source\", \"date\": \"2020-09-01T00:00:00\", \"posts\": 131}, {\"topic\": \"Open Source\", \"date\": \"2020-11-01T00:00:00\", \"posts\": 118}, {\"topic\": \"Open Source\", \"date\": \"2020-02-01T00:00:00\", \"posts\": 94}, {\"topic\": \"Technology\", \"date\": \"2020-07-01T00:00:00\", \"posts\": 310}, {\"topic\": \"Technology\", \"date\": \"2023-03-01T00:00:00\", \"posts\": 453}, {\"topic\": \"Technology\", \"date\": \"2022-07-01T00:00:00\", \"posts\": 336}, {\"topic\": \"Technology\", \"date\": \"2022-04-01T00:00:00\", \"posts\": 269}, {\"topic\": \"Technology\", \"date\": \"2021-12-01T00:00:00\", \"posts\": 300}, {\"topic\": \"Technology\", \"date\": \"2020-10-01T00:00:00\", \"posts\": 318}, {\"topic\": \"Technology\", \"date\": \"2022-02-01T00:00:00\", \"posts\": 330}, {\"topic\": \"Technology\", \"date\": \"2020-09-01T00:00:00\", \"posts\": 299}, {\"topic\": \"Technology\", \"date\": \"2022-05-01T00:00:00\", \"posts\": 314}, {\"topic\": \"Technology\", \"date\": \"2021-09-01T00:00:00\", \"posts\": 343}, {\"topic\": \"Technology\", \"date\": \"2022-10-01T00:00:00\", \"posts\": 379}, {\"topic\": \"Technology\", \"date\": \"2023-02-01T00:00:00\", \"posts\": 398}, {\"topic\": \"Technology\", \"date\": \"2020-03-01T00:00:00\", \"posts\": 271}, {\"topic\": \"Technology\", \"date\": \"2021-05-01T00:00:00\", \"posts\": 357}, {\"topic\": \"Technology\", \"date\": \"2022-06-01T00:00:00\", \"posts\": 297}, {\"topic\": \"Technology\", \"date\": \"2021-08-01T00:00:00\", \"posts\": 389}, {\"topic\": \"Technology\", \"date\": \"2020-05-01T00:00:00\", \"posts\": 310}, {\"topic\": \"Technology\", \"date\": \"2021-01-01T00:00:00\", \"posts\": 387}, {\"topic\": \"Technology\", \"date\": \"2022-11-01T00:00:00\", \"posts\": 354}, {\"topic\": \"Technology\", \"date\": \"2020-12-01T00:00:00\", \"posts\": 345}, {\"topic\": \"Technology\", \"date\": \"2023-04-01T00:00:00\", \"posts\": 404}, {\"topic\": \"Technology\", \"date\": \"2023-01-01T00:00:00\", \"posts\": 396}, {\"topic\": \"Technology\", \"date\": \"2022-03-01T00:00:00\", \"posts\": 320}, {\"topic\": \"Technology\", \"date\": \"2023-05-01T00:00:00\", \"posts\": 427}, {\"topic\": \"Technology\", \"date\": \"2021-11-01T00:00:00\", \"posts\": 334}, {\"topic\": \"Technology\", \"date\": \"2020-04-01T00:00:00\", \"posts\": 288}, {\"topic\": \"Technology\", \"date\": \"2020-11-01T00:00:00\", \"posts\": 285}, {\"topic\": \"Technology\", \"date\": \"2021-07-01T00:00:00\", \"posts\": 333}, {\"topic\": \"Technology\", \"date\": \"2021-02-01T00:00:00\", \"posts\": 326}, {\"topic\": \"Technology\", \"date\": \"2020-08-01T00:00:00\", \"posts\": 330}, {\"topic\": \"Technology\", \"date\": \"2021-03-01T00:00:00\", \"posts\": 317}, {\"topic\": \"Technology\", \"date\": \"2021-10-01T00:00:00\", \"posts\": 369}, {\"topic\": \"Technology\", \"date\": \"2020-01-01T00:00:00\", \"posts\": 276}, {\"topic\": \"Technology\", \"date\": \"2020-06-01T00:00:00\", \"posts\": 358}, {\"topic\": \"Technology\", \"date\": \"2022-09-01T00:00:00\", \"posts\": 348}, {\"topic\": \"Technology\", \"date\": \"2022-08-01T00:00:00\", \"posts\": 324}, {\"topic\": \"Technology\", \"date\": \"2020-02-01T00:00:00\", \"posts\": 284}, {\"topic\": \"Technology\", \"date\": \"2022-01-01T00:00:00\", \"posts\": 314}, {\"topic\": \"Technology\", \"date\": \"2022-12-01T00:00:00\", \"posts\": 345}, {\"topic\": \"Technology\", \"date\": \"2021-04-01T00:00:00\", \"posts\": 390}, {\"topic\": \"Technology\", \"date\": \"2021-06-01T00:00:00\", \"posts\": 317}, {\"topic\": \"Productivity\", \"date\": \"2021-05-01T00:00:00\", \"posts\": 60}, {\"topic\": \"Productivity\", \"date\": \"2020-09-01T00:00:00\", \"posts\": 64}, {\"topic\": \"Productivity\", \"date\": \"2021-09-01T00:00:00\", \"posts\": 53}, {\"topic\": \"Productivity\", \"date\": \"2021-11-01T00:00:00\", \"posts\": 70}, {\"topic\": \"Productivity\", \"date\": \"2023-03-01T00:00:00\", \"posts\": 71}, {\"topic\": \"Productivity\", \"date\": \"2021-03-01T00:00:00\", \"posts\": 55}, {\"topic\": \"Productivity\", \"date\": \"2022-06-01T00:00:00\", \"posts\": 79}, {\"topic\": \"Productivity\", \"date\": \"2021-01-01T00:00:00\", \"posts\": 40}, {\"topic\": \"Productivity\", \"date\": \"2021-08-01T00:00:00\", \"posts\": 56}, {\"topic\": \"Productivity\", \"date\": \"2022-01-01T00:00:00\", \"posts\": 78}, {\"topic\": \"Productivity\", \"date\": \"2023-04-01T00:00:00\", \"posts\": 62}, {\"topic\": \"Productivity\", \"date\": \"2022-10-01T00:00:00\", \"posts\": 65}, {\"topic\": \"Productivity\", \"date\": \"2020-03-01T00:00:00\", \"posts\": 47}, {\"topic\": \"Productivity\", \"date\": \"2022-08-01T00:00:00\", \"posts\": 61}, {\"topic\": \"Productivity\", \"date\": \"2022-09-01T00:00:00\", \"posts\": 64}, {\"topic\": \"Productivity\", \"date\": \"2020-12-01T00:00:00\", \"posts\": 39}, {\"topic\": \"Productivity\", \"date\": \"2022-03-01T00:00:00\", \"posts\": 52}, {\"topic\": \"Productivity\", \"date\": \"2022-02-01T00:00:00\", \"posts\": 73}, {\"topic\": \"Productivity\", \"date\": \"2022-12-01T00:00:00\", \"posts\": 72}, {\"topic\": \"Productivity\", \"date\": \"2020-08-01T00:00:00\", \"posts\": 51}, {\"topic\": \"Productivity\", \"date\": \"2021-10-01T00:00:00\", \"posts\": 59}, {\"topic\": \"Productivity\", \"date\": \"2022-05-01T00:00:00\", \"posts\": 85}, {\"topic\": \"Productivity\", \"date\": \"2020-04-01T00:00:00\", \"posts\": 60}, {\"topic\": \"Productivity\", \"date\": \"2021-06-01T00:00:00\", \"posts\": 55}, {\"topic\": \"Productivity\", \"date\": \"2020-05-01T00:00:00\", \"posts\": 66}, {\"topic\": \"Productivity\", \"date\": \"2020-01-01T00:00:00\", \"posts\": 45}, {\"topic\": \"Productivity\", \"date\": \"2021-02-01T00:00:00\", \"posts\": 48}, {\"topic\": \"Productivity\", \"date\": \"2023-02-01T00:00:00\", \"posts\": 57}, {\"topic\": \"Productivity\", \"date\": \"2021-04-01T00:00:00\", \"posts\": 52}, {\"topic\": \"Productivity\", \"date\": \"2022-11-01T00:00:00\", \"posts\": 71}, {\"topic\": \"Productivity\", \"date\": \"2023-05-01T00:00:00\", \"posts\": 78}, {\"topic\": \"Productivity\", \"date\": \"2020-07-01T00:00:00\", \"posts\": 55}, {\"topic\": \"Productivity\", \"date\": \"2022-04-01T00:00:00\", \"posts\": 61}, {\"topic\": \"Productivity\", \"date\": \"2022-07-01T00:00:00\", \"posts\": 51}, {\"topic\": \"Productivity\", \"date\": \"2023-01-01T00:00:00\", \"posts\": 69}, {\"topic\": \"Productivity\", \"date\": \"2020-02-01T00:00:00\", \"posts\": 37}, {\"topic\": \"Productivity\", \"date\": \"2021-12-01T00:00:00\", \"posts\": 55}, {\"topic\": \"Productivity\", \"date\": \"2020-10-01T00:00:00\", \"posts\": 65}, {\"topic\": \"Productivity\", \"date\": \"2021-07-01T00:00:00\", \"posts\": 56}, {\"topic\": \"Productivity\", \"date\": \"2020-06-01T00:00:00\", \"posts\": 59}, {\"topic\": \"Productivity\", \"date\": \"2020-11-01T00:00:00\", \"posts\": 55}, {\"topic\": \"Natural Language Processing\", \"date\": \"2021-11-01T00:00:00\", \"posts\": 7}, {\"topic\": \"Natural Language Processing\", \"date\": \"2022-07-01T00:00:00\", \"posts\": 11}, {\"topic\": \"Natural Language Processing\", \"date\": \"2020-07-01T00:00:00\", \"posts\": 23}, {\"topic\": \"Natural Language Processing\", \"date\": \"2020-09-01T00:00:00\", \"posts\": 12}, {\"topic\": \"Natural Language Processing\", \"date\": \"2023-03-01T00:00:00\", \"posts\": 71}, {\"topic\": \"Natural Language Processing\", \"date\": \"2020-05-01T00:00:00\", \"posts\": 12}, {\"topic\": \"Natural Language Processing\", \"date\": \"2021-12-01T00:00:00\", \"posts\": 14}, {\"topic\": \"Natural Language Processing\", \"date\": \"2023-04-01T00:00:00\", \"posts\": 66}, {\"topic\": \"Natural Language Processing\", \"date\": \"2022-01-01T00:00:00\", \"posts\": 12}, {\"topic\": \"Natural Language Processing\", \"date\": \"2020-01-01T00:00:00\", \"posts\": 9}, {\"topic\": \"Natural Language Processing\", \"date\": \"2022-12-01T00:00:00\", \"posts\": 25}, {\"topic\": \"Natural Language Processing\", \"date\": \"2023-05-01T00:00:00\", \"posts\": 68}, {\"topic\": \"Natural Language Processing\", \"date\": \"2020-12-01T00:00:00\", \"posts\": 5}, {\"topic\": \"Natural Language Processing\", \"date\": \"2023-01-01T00:00:00\", \"posts\": 36}, {\"topic\": \"Natural Language Processing\", \"date\": \"2021-07-01T00:00:00\", \"posts\": 9}, {\"topic\": \"Natural Language Processing\", \"date\": \"2021-01-01T00:00:00\", \"posts\": 5}, {\"topic\": \"Natural Language Processing\", \"date\": \"2020-08-01T00:00:00\", \"posts\": 17}, {\"topic\": \"Natural Language Processing\", \"date\": \"2022-05-01T00:00:00\", \"posts\": 13}, {\"topic\": \"Natural Language Processing\", \"date\": \"2022-04-01T00:00:00\", \"posts\": 12}, {\"topic\": \"Natural Language Processing\", \"date\": \"2021-08-01T00:00:00\", \"posts\": 7}, {\"topic\": \"Natural Language Processing\", \"date\": \"2023-02-01T00:00:00\", \"posts\": 33}, {\"topic\": \"Natural Language Processing\", \"date\": \"2021-02-01T00:00:00\", \"posts\": 9}, {\"topic\": \"Natural Language Processing\", \"date\": \"2021-09-01T00:00:00\", \"posts\": 8}, {\"topic\": \"Natural Language Processing\", \"date\": \"2020-10-01T00:00:00\", \"posts\": 9}, {\"topic\": \"Natural Language Processing\", \"date\": \"2022-11-01T00:00:00\", \"posts\": 17}, {\"topic\": \"Natural Language Processing\", \"date\": \"2022-10-01T00:00:00\", \"posts\": 15}, {\"topic\": \"Natural Language Processing\", \"date\": \"2021-05-01T00:00:00\", \"posts\": 11}, {\"topic\": \"Natural Language Processing\", \"date\": \"2022-06-01T00:00:00\", \"posts\": 14}, {\"topic\": \"Natural Language Processing\", \"date\": \"2021-10-01T00:00:00\", \"posts\": 10}, {\"topic\": \"Natural Language Processing\", \"date\": \"2022-02-01T00:00:00\", \"posts\": 8}, {\"topic\": \"Natural Language Processing\", \"date\": \"2021-04-01T00:00:00\", \"posts\": 3}, {\"topic\": \"Natural Language Processing\", \"date\": \"2022-09-01T00:00:00\", \"posts\": 13}, {\"topic\": \"Natural Language Processing\", \"date\": \"2021-06-01T00:00:00\", \"posts\": 10}, {\"topic\": \"Natural Language Processing\", \"date\": \"2022-08-01T00:00:00\", \"posts\": 7}, {\"topic\": \"Natural Language Processing\", \"date\": \"2022-03-01T00:00:00\", \"posts\": 16}, {\"topic\": \"Natural Language Processing\", \"date\": \"2020-11-01T00:00:00\", \"posts\": 2}, {\"topic\": \"Natural Language Processing\", \"date\": \"2020-03-01T00:00:00\", \"posts\": 6}, {\"topic\": \"Natural Language Processing\", \"date\": \"2020-06-01T00:00:00\", \"posts\": 6}, {\"topic\": \"Natural Language Processing\", \"date\": \"2021-03-01T00:00:00\", \"posts\": 4}, {\"topic\": \"Natural Language Processing\", \"date\": \"2020-04-01T00:00:00\", \"posts\": 8}, {\"topic\": \"Natural Language Processing\", \"date\": \"2020-02-01T00:00:00\", \"posts\": 6}, {\"topic\": \"GitHub\", \"date\": \"2021-11-01T00:00:00\", \"posts\": 94}, {\"topic\": \"GitHub\", \"date\": \"2023-03-01T00:00:00\", \"posts\": 130}, {\"topic\": \"GitHub\", \"date\": \"2021-12-01T00:00:00\", \"posts\": 88}, {\"topic\": \"GitHub\", \"date\": \"2021-04-01T00:00:00\", \"posts\": 83}, {\"topic\": \"GitHub\", \"date\": \"2022-05-01T00:00:00\", \"posts\": 87}, {\"topic\": \"GitHub\", \"date\": \"2021-05-01T00:00:00\", \"posts\": 87}, {\"topic\": \"GitHub\", \"date\": \"2023-01-01T00:00:00\", \"posts\": 96}, {\"topic\": \"GitHub\", \"date\": \"2020-06-01T00:00:00\", \"posts\": 79}, {\"topic\": \"GitHub\", \"date\": \"2020-04-01T00:00:00\", \"posts\": 94}, {\"topic\": \"GitHub\", \"date\": \"2022-03-01T00:00:00\", \"posts\": 106}, {\"topic\": \"GitHub\", \"date\": \"2022-10-01T00:00:00\", \"posts\": 92}, {\"topic\": \"GitHub\", \"date\": \"2020-09-01T00:00:00\", \"posts\": 94}, {\"topic\": \"GitHub\", \"date\": \"2021-06-01T00:00:00\", \"posts\": 83}, {\"topic\": \"GitHub\", \"date\": \"2022-09-01T00:00:00\", \"posts\": 104}, {\"topic\": \"GitHub\", \"date\": \"2020-10-01T00:00:00\", \"posts\": 76}, {\"topic\": \"GitHub\", \"date\": \"2021-01-01T00:00:00\", \"posts\": 98}, {\"topic\": \"GitHub\", \"date\": \"2021-10-01T00:00:00\", \"posts\": 63}, {\"topic\": \"GitHub\", \"date\": \"2020-01-01T00:00:00\", \"posts\": 70}, {\"topic\": \"GitHub\", \"date\": \"2020-11-01T00:00:00\", \"posts\": 87}, {\"topic\": \"GitHub\", \"date\": \"2020-07-01T00:00:00\", \"posts\": 86}, {\"topic\": \"GitHub\", \"date\": \"2020-02-01T00:00:00\", \"posts\": 76}, {\"topic\": \"GitHub\", \"date\": \"2020-05-01T00:00:00\", \"posts\": 104}, {\"topic\": \"GitHub\", \"date\": \"2022-06-01T00:00:00\", \"posts\": 80}, {\"topic\": \"GitHub\", \"date\": \"2021-02-01T00:00:00\", \"posts\": 90}, {\"topic\": \"GitHub\", \"date\": \"2021-07-01T00:00:00\", \"posts\": 104}, {\"topic\": \"GitHub\", \"date\": \"2022-01-01T00:00:00\", \"posts\": 103}, {\"topic\": \"GitHub\", \"date\": \"2022-08-01T00:00:00\", \"posts\": 95}, {\"topic\": \"GitHub\", \"date\": \"2023-04-01T00:00:00\", \"posts\": 103}, {\"topic\": \"GitHub\", \"date\": \"2022-07-01T00:00:00\", \"posts\": 89}, {\"topic\": \"GitHub\", \"date\": \"2022-02-01T00:00:00\", \"posts\": 91}, {\"topic\": \"GitHub\", \"date\": \"2020-08-01T00:00:00\", \"posts\": 79}, {\"topic\": \"GitHub\", \"date\": \"2023-02-01T00:00:00\", \"posts\": 85}, {\"topic\": \"GitHub\", \"date\": \"2021-03-01T00:00:00\", \"posts\": 90}, {\"topic\": \"GitHub\", \"date\": \"2022-04-01T00:00:00\", \"posts\": 97}, {\"topic\": \"GitHub\", \"date\": \"2020-12-01T00:00:00\", \"posts\": 82}, {\"topic\": \"GitHub\", \"date\": \"2021-09-01T00:00:00\", \"posts\": 102}, {\"topic\": \"GitHub\", \"date\": \"2022-11-01T00:00:00\", \"posts\": 105}, {\"topic\": \"GitHub\", \"date\": \"2023-05-01T00:00:00\", \"posts\": 119}, {\"topic\": \"GitHub\", \"date\": \"2022-12-01T00:00:00\", \"posts\": 101}, {\"topic\": \"GitHub\", \"date\": \"2021-08-01T00:00:00\", \"posts\": 91}, {\"topic\": \"GitHub\", \"date\": \"2020-03-01T00:00:00\", \"posts\": 80}, {\"topic\": \"Artificial Intelligence\", \"date\": \"2020-03-01T00:00:00\", \"posts\": 30}, {\"topic\": \"Artificial Intelligence\", \"date\": \"2023-01-01T00:00:00\", \"posts\": 136}, {\"topic\": \"Artificial Intelligence\", \"date\": \"2023-03-01T00:00:00\", \"posts\": 264}, {\"topic\": \"Artificial Intelligence\", \"date\": \"2021-11-01T00:00:00\", \"posts\": 55}, {\"topic\": \"Artificial Intelligence\", \"date\": \"2021-12-01T00:00:00\", \"posts\": 71}, {\"topic\": \"Artificial Intelligence\", \"date\": \"2022-07-01T00:00:00\", \"posts\": 77}, {\"topic\": \"Artificial Intelligence\", \"date\": \"2022-05-01T00:00:00\", \"posts\": 76}, {\"topic\": \"Artificial Intelligence\", \"date\": \"2020-07-01T00:00:00\", \"posts\": 68}, {\"topic\": \"Artificial Intelligence\", \"date\": \"2023-02-01T00:00:00\", \"posts\": 183}, {\"topic\": \"Artificial Intelligence\", \"date\": \"2022-11-01T00:00:00\", \"posts\": 82}, {\"topic\": \"Artificial Intelligence\", \"date\": \"2020-09-01T00:00:00\", \"posts\": 59}, {\"topic\": \"Artificial Intelligence\", \"date\": \"2023-04-01T00:00:00\", \"posts\": 284}, {\"topic\": \"Artificial Intelligence\", \"date\": \"2023-05-01T00:00:00\", \"posts\": 234}, {\"topic\": \"Artificial Intelligence\", \"date\": \"2021-03-01T00:00:00\", \"posts\": 79}, {\"topic\": \"Artificial Intelligence\", \"date\": \"2021-07-01T00:00:00\", \"posts\": 85}, {\"topic\": \"Artificial Intelligence\", \"date\": \"2020-10-01T00:00:00\", \"posts\": 68}, {\"topic\": \"Artificial Intelligence\", \"date\": \"2021-08-01T00:00:00\", \"posts\": 74}, {\"topic\": \"Artificial Intelligence\", \"date\": \"2022-08-01T00:00:00\", \"posts\": 70}, {\"topic\": \"Artificial Intelligence\", \"date\": \"2022-12-01T00:00:00\", \"posts\": 106}, {\"topic\": \"Artificial Intelligence\", \"date\": \"2022-03-01T00:00:00\", \"posts\": 52}, {\"topic\": \"Artificial Intelligence\", \"date\": \"2020-05-01T00:00:00\", \"posts\": 49}, {\"topic\": \"Artificial Intelligence\", \"date\": \"2021-02-01T00:00:00\", \"posts\": 56}, {\"topic\": \"Artificial Intelligence\", \"date\": \"2021-10-01T00:00:00\", \"posts\": 63}, {\"topic\": \"Artificial Intelligence\", \"date\": \"2020-01-01T00:00:00\", \"posts\": 68}, {\"topic\": \"Artificial Intelligence\", \"date\": \"2021-09-01T00:00:00\", \"posts\": 70}, {\"topic\": \"Artificial Intelligence\", \"date\": \"2020-04-01T00:00:00\", \"posts\": 54}, {\"topic\": \"Artificial Intelligence\", \"date\": \"2021-05-01T00:00:00\", \"posts\": 73}, {\"topic\": \"Artificial Intelligence\", \"date\": \"2021-04-01T00:00:00\", \"posts\": 59}, {\"topic\": \"Artificial Intelligence\", \"date\": \"2021-06-01T00:00:00\", \"posts\": 54}, {\"topic\": \"Artificial Intelligence\", \"date\": \"2022-10-01T00:00:00\", \"posts\": 87}, {\"topic\": \"Artificial Intelligence\", \"date\": \"2021-01-01T00:00:00\", \"posts\": 46}, {\"topic\": \"Artificial Intelligence\", \"date\": \"2022-04-01T00:00:00\", \"posts\": 69}, {\"topic\": \"Artificial Intelligence\", \"date\": \"2020-12-01T00:00:00\", \"posts\": 63}, {\"topic\": \"Artificial Intelligence\", \"date\": \"2020-06-01T00:00:00\", \"posts\": 62}, {\"topic\": \"Artificial Intelligence\", \"date\": \"2020-08-01T00:00:00\", \"posts\": 74}, {\"topic\": \"Artificial Intelligence\", \"date\": \"2022-09-01T00:00:00\", \"posts\": 92}, {\"topic\": \"Artificial Intelligence\", \"date\": \"2022-01-01T00:00:00\", \"posts\": 44}, {\"topic\": \"Artificial Intelligence\", \"date\": \"2022-06-01T00:00:00\", \"posts\": 70}, {\"topic\": \"Artificial Intelligence\", \"date\": \"2022-02-01T00:00:00\", \"posts\": 55}, {\"topic\": \"Artificial Intelligence\", \"date\": \"2020-11-01T00:00:00\", \"posts\": 42}, {\"topic\": \"Artificial Intelligence\", \"date\": \"2020-02-01T00:00:00\", \"posts\": 49}, {\"topic\": \"ChatGPT\", \"date\": \"2023-03-01T00:00:00\", \"posts\": 74}, {\"topic\": \"ChatGPT\", \"date\": \"2023-05-01T00:00:00\", \"posts\": 62}, {\"topic\": \"ChatGPT\", \"date\": \"2022-12-01T00:00:00\", \"posts\": 38}, {\"topic\": \"ChatGPT\", \"date\": \"2023-02-01T00:00:00\", \"posts\": 75}, {\"topic\": \"ChatGPT\", \"date\": \"2023-04-01T00:00:00\", \"posts\": 67}, {\"topic\": \"ChatGPT\", \"date\": \"2023-01-01T00:00:00\", \"posts\": 49}, {\"topic\": \"ChatGPT\", \"date\": \"2020-04-01T00:00:00\", \"posts\": 1}, {\"topic\": \"ChatGPT\", \"date\": \"2022-06-01T00:00:00\", \"posts\": 1}, {\"topic\": \"ChatGPT\", \"date\": \"2020-02-01T00:00:00\", \"posts\": 1}, {\"topic\": \"ChatGPT\", \"date\": \"2022-08-01T00:00:00\", \"posts\": 1}, {\"topic\": \"ChatGPT\", \"date\": \"2020-06-01T00:00:00\", \"posts\": 1}, {\"topic\": \"ChatGPT\", \"date\": \"2022-11-01T00:00:00\", \"posts\": 1}, {\"topic\": \"Layoffs\", \"date\": \"2022-11-01T00:00:00\", \"posts\": 64}, {\"topic\": \"Layoffs\", \"date\": \"2022-09-01T00:00:00\", \"posts\": 15}, {\"topic\": \"Layoffs\", \"date\": \"2023-05-01T00:00:00\", \"posts\": 25}, {\"topic\": \"Layoffs\", \"date\": \"2022-06-01T00:00:00\", \"posts\": 14}, {\"topic\": \"Layoffs\", \"date\": \"2022-10-01T00:00:00\", \"posts\": 20}, {\"topic\": \"Layoffs\", \"date\": \"2023-01-01T00:00:00\", \"posts\": 44}, {\"topic\": \"Layoffs\", \"date\": \"2022-04-01T00:00:00\", \"posts\": 6}, {\"topic\": \"Layoffs\", \"date\": \"2023-02-01T00:00:00\", \"posts\": 48}, {\"topic\": \"Layoffs\", \"date\": \"2020-01-01T00:00:00\", \"posts\": 7}, {\"topic\": \"Layoffs\", \"date\": \"2020-04-01T00:00:00\", \"posts\": 21}, {\"topic\": \"Layoffs\", \"date\": \"2020-03-01T00:00:00\", \"posts\": 10}, {\"topic\": \"Layoffs\", \"date\": \"2020-05-01T00:00:00\", \"posts\": 13}, {\"topic\": \"Layoffs\", \"date\": \"2022-07-01T00:00:00\", \"posts\": 18}, {\"topic\": \"Layoffs\", \"date\": \"2023-04-01T00:00:00\", \"posts\": 25}, {\"topic\": \"Layoffs\", \"date\": \"2022-12-01T00:00:00\", \"posts\": 12}, {\"topic\": \"Layoffs\", \"date\": \"2021-01-01T00:00:00\", \"posts\": 4}, {\"topic\": \"Layoffs\", \"date\": \"2022-08-01T00:00:00\", \"posts\": 12}, {\"topic\": \"Layoffs\", \"date\": \"2022-02-01T00:00:00\", \"posts\": 2}, {\"topic\": \"Layoffs\", \"date\": \"2022-05-01T00:00:00\", \"posts\": 6}, {\"topic\": \"Layoffs\", \"date\": \"2021-12-01T00:00:00\", \"posts\": 5}, {\"topic\": \"Layoffs\", \"date\": \"2020-11-01T00:00:00\", \"posts\": 2}, {\"topic\": \"Layoffs\", \"date\": \"2022-01-01T00:00:00\", \"posts\": 3}, {\"topic\": \"Layoffs\", \"date\": \"2023-03-01T00:00:00\", \"posts\": 32}, {\"topic\": \"Layoffs\", \"date\": \"2020-02-01T00:00:00\", \"posts\": 4}, {\"topic\": \"Layoffs\", \"date\": \"2020-08-01T00:00:00\", \"posts\": 7}, {\"topic\": \"Layoffs\", \"date\": \"2022-03-01T00:00:00\", \"posts\": 4}, {\"topic\": \"Layoffs\", \"date\": \"2020-07-01T00:00:00\", \"posts\": 3}, {\"topic\": \"Layoffs\", \"date\": \"2021-08-01T00:00:00\", \"posts\": 5}, {\"topic\": \"Layoffs\", \"date\": \"2021-05-01T00:00:00\", \"posts\": 1}, {\"topic\": \"Layoffs\", \"date\": \"2020-12-01T00:00:00\", \"posts\": 1}, {\"topic\": \"Layoffs\", \"date\": \"2021-06-01T00:00:00\", \"posts\": 2}, {\"topic\": \"Layoffs\", \"date\": \"2020-10-01T00:00:00\", \"posts\": 2}, {\"topic\": \"Layoffs\", \"date\": \"2021-10-01T00:00:00\", \"posts\": 1}, {\"topic\": \"Layoffs\", \"date\": \"2021-07-01T00:00:00\", \"posts\": 1}, {\"topic\": \"Layoffs\", \"date\": \"2020-09-01T00:00:00\", \"posts\": 2}, {\"topic\": \"Layoffs\", \"date\": \"2021-09-01T00:00:00\", \"posts\": 1}, {\"topic\": \"Layoffs\", \"date\": \"2021-03-01T00:00:00\", \"posts\": 1}, {\"topic\": \"AI\", \"date\": \"2023-03-01T00:00:00\", \"posts\": 94}, {\"topic\": \"AI\", \"date\": \"2023-05-01T00:00:00\", \"posts\": 77}, {\"topic\": \"AI\", \"date\": \"2021-10-01T00:00:00\", \"posts\": 8}, {\"topic\": \"AI\", \"date\": \"2022-03-01T00:00:00\", \"posts\": 13}, {\"topic\": \"AI\", \"date\": \"2021-05-01T00:00:00\", \"posts\": 3}, {\"topic\": \"AI\", \"date\": \"2022-09-01T00:00:00\", \"posts\": 27}, {\"topic\": \"AI\", \"date\": \"2023-02-01T00:00:00\", \"posts\": 58}, {\"topic\": \"AI\", \"date\": \"2022-11-01T00:00:00\", \"posts\": 24}, {\"topic\": \"AI\", \"date\": \"2020-08-01T00:00:00\", \"posts\": 13}, {\"topic\": \"AI\", \"date\": \"2023-04-01T00:00:00\", \"posts\": 75}, {\"topic\": \"AI\", \"date\": \"2021-01-01T00:00:00\", \"posts\": 13}, {\"topic\": \"AI\", \"date\": \"2020-01-01T00:00:00\", \"posts\": 3}, {\"topic\": \"AI\", \"date\": \"2021-12-01T00:00:00\", \"posts\": 9}, {\"topic\": \"AI\", \"date\": \"2020-10-01T00:00:00\", \"posts\": 12}, {\"topic\": \"AI\", \"date\": \"2022-12-01T00:00:00\", \"posts\": 36}, {\"topic\": \"AI\", \"date\": \"2023-01-01T00:00:00\", \"posts\": 42}, {\"topic\": \"AI\", \"date\": \"2021-08-01T00:00:00\", \"posts\": 17}, {\"topic\": \"AI\", \"date\": \"2021-06-01T00:00:00\", \"posts\": 9}, {\"topic\": \"AI\", \"date\": \"2020-12-01T00:00:00\", \"posts\": 13}, {\"topic\": \"AI\", \"date\": \"2020-04-01T00:00:00\", \"posts\": 9}, {\"topic\": \"AI\", \"date\": \"2022-10-01T00:00:00\", \"posts\": 20}, {\"topic\": \"AI\", \"date\": \"2020-02-01T00:00:00\", \"posts\": 15}, {\"topic\": \"AI\", \"date\": \"2020-09-01T00:00:00\", \"posts\": 20}, {\"topic\": \"AI\", \"date\": \"2020-06-01T00:00:00\", \"posts\": 10}, {\"topic\": \"AI\", \"date\": \"2022-07-01T00:00:00\", \"posts\": 14}, {\"topic\": \"AI\", \"date\": \"2021-03-01T00:00:00\", \"posts\": 15}, {\"topic\": \"AI\", \"date\": \"2022-06-01T00:00:00\", \"posts\": 11}, {\"topic\": \"AI\", \"date\": \"2021-02-01T00:00:00\", \"posts\": 8}, {\"topic\": \"AI\", \"date\": \"2022-02-01T00:00:00\", \"posts\": 5}, {\"topic\": \"AI\", \"date\": \"2020-11-01T00:00:00\", \"posts\": 8}, {\"topic\": \"AI\", \"date\": \"2021-11-01T00:00:00\", \"posts\": 6}, {\"topic\": \"AI\", \"date\": \"2022-05-01T00:00:00\", \"posts\": 12}, {\"topic\": \"AI\", \"date\": \"2021-04-01T00:00:00\", \"posts\": 9}, {\"topic\": \"AI\", \"date\": \"2022-08-01T00:00:00\", \"posts\": 19}, {\"topic\": \"AI\", \"date\": \"2020-03-01T00:00:00\", \"posts\": 11}, {\"topic\": \"AI\", \"date\": \"2020-05-01T00:00:00\", \"posts\": 12}, {\"topic\": \"AI\", \"date\": \"2022-01-01T00:00:00\", \"posts\": 9}, {\"topic\": \"AI\", \"date\": \"2021-09-01T00:00:00\", \"posts\": 4}, {\"topic\": \"AI\", \"date\": \"2022-04-01T00:00:00\", \"posts\": 13}, {\"topic\": \"AI\", \"date\": \"2021-07-01T00:00:00\", \"posts\": 10}, {\"topic\": \"AI\", \"date\": \"2020-07-01T00:00:00\", \"posts\": 10}]}}, {\"mode\": \"vega-lite\"});\n",
       "</script>"
      ],
      "text/plain": [
       "alt.LayerChart(...)"
      ]
     },
     "execution_count": 123,
     "metadata": {},
     "output_type": "execute_result"
    }
   ],
   "source": [
    "timeseries_chart(timeseries(up_topics))"
   ]
  },
  {
   "cell_type": "code",
   "execution_count": 124,
   "metadata": {},
   "outputs": [
    {
     "data": {
      "text/html": [
       "\n",
       "<style>\n",
       "  #altair-viz-dd96dcb31d9d4b96a2731914c1fbc3de.vega-embed {\n",
       "    width: 100%;\n",
       "    display: flex;\n",
       "  }\n",
       "\n",
       "  #altair-viz-dd96dcb31d9d4b96a2731914c1fbc3de.vega-embed details,\n",
       "  #altair-viz-dd96dcb31d9d4b96a2731914c1fbc3de.vega-embed details summary {\n",
       "    position: relative;\n",
       "  }\n",
       "</style>\n",
       "<div id=\"altair-viz-dd96dcb31d9d4b96a2731914c1fbc3de\"></div>\n",
       "<script type=\"text/javascript\">\n",
       "  var VEGA_DEBUG = (typeof VEGA_DEBUG == \"undefined\") ? {} : VEGA_DEBUG;\n",
       "  (function(spec, embedOpt){\n",
       "    let outputDiv = document.currentScript.previousElementSibling;\n",
       "    if (outputDiv.id !== \"altair-viz-dd96dcb31d9d4b96a2731914c1fbc3de\") {\n",
       "      outputDiv = document.getElementById(\"altair-viz-dd96dcb31d9d4b96a2731914c1fbc3de\");\n",
       "    }\n",
       "    const paths = {\n",
       "      \"vega\": \"https://cdn.jsdelivr.net/npm/vega@5?noext\",\n",
       "      \"vega-lib\": \"https://cdn.jsdelivr.net/npm/vega-lib?noext\",\n",
       "      \"vega-lite\": \"https://cdn.jsdelivr.net/npm/vega-lite@5.17.0?noext\",\n",
       "      \"vega-embed\": \"https://cdn.jsdelivr.net/npm/vega-embed@6?noext\",\n",
       "    };\n",
       "\n",
       "    function maybeLoadScript(lib, version) {\n",
       "      var key = `${lib.replace(\"-\", \"\")}_version`;\n",
       "      return (VEGA_DEBUG[key] == version) ?\n",
       "        Promise.resolve(paths[lib]) :\n",
       "        new Promise(function(resolve, reject) {\n",
       "          var s = document.createElement('script');\n",
       "          document.getElementsByTagName(\"head\")[0].appendChild(s);\n",
       "          s.async = true;\n",
       "          s.onload = () => {\n",
       "            VEGA_DEBUG[key] = version;\n",
       "            return resolve(paths[lib]);\n",
       "          };\n",
       "          s.onerror = () => reject(`Error loading script: ${paths[lib]}`);\n",
       "          s.src = paths[lib];\n",
       "        });\n",
       "    }\n",
       "\n",
       "    function showError(err) {\n",
       "      outputDiv.innerHTML = `<div class=\"error\" style=\"color:red;\">${err}</div>`;\n",
       "      throw err;\n",
       "    }\n",
       "\n",
       "    function displayChart(vegaEmbed) {\n",
       "      vegaEmbed(outputDiv, spec, embedOpt)\n",
       "        .catch(err => showError(`Javascript Error: ${err.message}<br>This usually means there's a typo in your chart specification. See the javascript console for the full traceback.`));\n",
       "    }\n",
       "\n",
       "    if(typeof define === \"function\" && define.amd) {\n",
       "      requirejs.config({paths});\n",
       "      require([\"vega-embed\"], displayChart, err => showError(`Error loading script: ${err.message}`));\n",
       "    } else {\n",
       "      maybeLoadScript(\"vega\", \"5\")\n",
       "        .then(() => maybeLoadScript(\"vega-lite\", \"5.17.0\"))\n",
       "        .then(() => maybeLoadScript(\"vega-embed\", \"6\"))\n",
       "        .catch(showError)\n",
       "        .then(() => displayChart(vegaEmbed));\n",
       "    }\n",
       "  })({\"arc\": {\"fill\": \"#30a2da\"}, \"area\": {\"fill\": \"#30a2da\"}, \"axis\": {\"domainColor\": \"#cbcbcb\", \"grid\": true, \"gridColor\": \"#cbcbcb\", \"gridWidth\": 1, \"labelColor\": \"#999\", \"labelFontSize\": 24, \"labelPadding\": 4, \"tickColor\": \"#cbcbcb\", \"tickSize\": 10, \"titleColor\": \"#333\", \"titleFontSize\": 24, \"titlePadding\": 10}, \"axisBand\": {\"grid\": false}, \"background\": \"#faf8f4\", \"bar\": {\"binSpacing\": 2, \"fill\": \"#30a2da\", \"stroke\": null}, \"group\": {\"fill\": \"#f0f0f0\"}, \"legend\": {\"labelColor\": \"#333\", \"labelFontSize\": 14, \"padding\": 1, \"symbolSize\": 30, \"symbolType\": \"square\", \"titleColor\": \"#333\", \"titleFontSize\": 16, \"titlePadding\": 20}, \"line\": {\"stroke\": \"#30a2da\", \"strokeWidth\": 2}, \"path\": {\"stroke\": \"#30a2da\", \"strokeWidth\": 0.5}, \"point\": {\"filled\": true, \"shape\": \"circle\"}, \"range\": {\"category\": [\"#30a2da\", \"#fc4f30\", \"#e5ae38\", \"#6d904f\", \"#8b8b8b\", \"#b96db8\", \"#ff9e27\", \"#56cc60\", \"#52d2ca\", \"#52689e\", \"#545454\", \"#9fe4f8\"], \"diverging\": [\"#cc0020\", \"#e77866\", \"#f6e7e1\", \"#d6e8ed\", \"#91bfd9\", \"#1d78b5\"], \"heatmap\": [\"#d6e8ed\", \"#cee0e5\", \"#91bfd9\", \"#549cc6\", \"#1d78b5\"]}, \"rect\": {\"fill\": \"#30a2da\"}, \"shape\": {\"stroke\": \"#30a2da\"}, \"title\": {\"anchor\": \"start\", \"fontSize\": 24, \"fontWeight\": 400, \"offset\": 20}, \"layer\": [{\"mark\": {\"type\": \"line\"}, \"encoding\": {\"color\": {\"field\": \"topic\", \"legend\": {\"direction\": \"horizontal\", \"labelFontSize\": 14, \"legendX\": 100, \"legendY\": 40, \"orient\": \"top\", \"title\": \"\"}, \"type\": \"nominal\"}, \"x\": {\"field\": \"date\", \"type\": \"temporal\"}, \"y\": {\"field\": \"posts\", \"type\": \"quantitative\"}}}, {\"mark\": {\"type\": \"circle\"}, \"encoding\": {\"color\": {\"field\": \"topic\", \"legend\": {\"direction\": \"horizontal\", \"labelFontSize\": 14, \"legendX\": 100, \"legendY\": 40, \"orient\": \"top\", \"title\": \"\"}, \"type\": \"nominal\"}, \"x\": {\"field\": \"last_date['date']\", \"type\": \"temporal\"}, \"y\": {\"field\": \"last_date['posts']\", \"type\": \"quantitative\"}}, \"transform\": [{\"aggregate\": [{\"op\": \"argmax\", \"field\": \"date\", \"as\": \"last_date\"}], \"groupby\": [\"topic\"]}]}, {\"mark\": {\"type\": \"text\", \"align\": \"left\", \"dx\": 4, \"fontSize\": 14}, \"encoding\": {\"color\": {\"field\": \"topic\", \"legend\": {\"direction\": \"horizontal\", \"labelFontSize\": 14, \"legendX\": 100, \"legendY\": 40, \"orient\": \"top\", \"title\": \"\"}, \"type\": \"nominal\"}, \"text\": {\"field\": \"topic\", \"type\": \"nominal\"}, \"x\": {\"field\": \"last_date['date']\", \"type\": \"temporal\"}, \"y\": {\"field\": \"last_date['posts']\", \"type\": \"quantitative\"}}, \"transform\": [{\"aggregate\": [{\"op\": \"argmax\", \"field\": \"date\", \"as\": \"last_date\"}], \"groupby\": [\"topic\"]}]}], \"config\": {\"axis\": {\"labelFontSize\": 16, \"titleFontSize\": 20}}, \"data\": {\"name\": \"data-218ff5d5505f1a2822cb7c9efd2d4992\"}, \"encoding\": {\"x\": {\"axis\": {\"title\": \"\"}, \"title\": \"date\"}, \"y\": {\"title\": \"posts\"}}, \"height\": 700, \"width\": 1000, \"$schema\": \"https://vega.github.io/schema/vega-lite/v5.17.0.json\", \"datasets\": {\"data-218ff5d5505f1a2822cb7c9efd2d4992\": [{\"topic\": \"Apple\", \"date\": \"2022-10-01T00:00:00\", \"posts\": 53}, {\"topic\": \"Apple\", \"date\": \"2023-02-01T00:00:00\", \"posts\": 33}, {\"topic\": \"Apple\", \"date\": \"2020-03-01T00:00:00\", \"posts\": 31}, {\"topic\": \"Apple\", \"date\": \"2020-08-01T00:00:00\", \"posts\": 60}, {\"topic\": \"Apple\", \"date\": \"2020-05-01T00:00:00\", \"posts\": 32}, {\"topic\": \"Apple\", \"date\": \"2021-08-01T00:00:00\", \"posts\": 92}, {\"topic\": \"Apple\", \"date\": \"2022-01-01T00:00:00\", \"posts\": 38}, {\"topic\": \"Apple\", \"date\": \"2023-05-01T00:00:00\", \"posts\": 45}, {\"topic\": \"Apple\", \"date\": \"2020-10-01T00:00:00\", \"posts\": 45}, {\"topic\": \"Apple\", \"date\": \"2022-04-01T00:00:00\", \"posts\": 36}, {\"topic\": \"Apple\", \"date\": \"2021-02-01T00:00:00\", \"posts\": 41}, {\"topic\": \"Apple\", \"date\": \"2021-10-01T00:00:00\", \"posts\": 53}, {\"topic\": \"Apple\", \"date\": \"2022-11-01T00:00:00\", \"posts\": 34}, {\"topic\": \"Apple\", \"date\": \"2021-07-01T00:00:00\", \"posts\": 45}, {\"topic\": \"Apple\", \"date\": \"2022-06-01T00:00:00\", \"posts\": 53}, {\"topic\": \"Apple\", \"date\": \"2022-03-01T00:00:00\", \"posts\": 44}, {\"topic\": \"Apple\", \"date\": \"2021-05-01T00:00:00\", \"posts\": 60}, {\"topic\": \"Apple\", \"date\": \"2021-03-01T00:00:00\", \"posts\": 41}, {\"topic\": \"Apple\", \"date\": \"2023-03-01T00:00:00\", \"posts\": 31}, {\"topic\": \"Apple\", \"date\": \"2022-12-01T00:00:00\", \"posts\": 40}, {\"topic\": \"Apple\", \"date\": \"2022-07-01T00:00:00\", \"posts\": 25}, {\"topic\": \"Apple\", \"date\": \"2021-11-01T00:00:00\", \"posts\": 43}, {\"topic\": \"Apple\", \"date\": \"2023-04-01T00:00:00\", \"posts\": 36}, {\"topic\": \"Apple\", \"date\": \"2020-07-01T00:00:00\", \"posts\": 35}, {\"topic\": \"Apple\", \"date\": \"2020-06-01T00:00:00\", \"posts\": 79}, {\"topic\": \"Apple\", \"date\": \"2023-01-01T00:00:00\", \"posts\": 47}, {\"topic\": \"Apple\", \"date\": \"2020-01-01T00:00:00\", \"posts\": 33}, {\"topic\": \"Apple\", \"date\": \"2021-09-01T00:00:00\", \"posts\": 61}, {\"topic\": \"Apple\", \"date\": \"2021-06-01T00:00:00\", \"posts\": 70}, {\"topic\": \"Apple\", \"date\": \"2022-09-01T00:00:00\", \"posts\": 38}, {\"topic\": \"Apple\", \"date\": \"2020-12-01T00:00:00\", \"posts\": 60}, {\"topic\": \"Apple\", \"date\": \"2022-08-01T00:00:00\", \"posts\": 37}, {\"topic\": \"Apple\", \"date\": \"2021-04-01T00:00:00\", \"posts\": 60}, {\"topic\": \"Apple\", \"date\": \"2020-11-01T00:00:00\", \"posts\": 71}, {\"topic\": \"Apple\", \"date\": \"2020-04-01T00:00:00\", \"posts\": 31}, {\"topic\": \"Apple\", \"date\": \"2020-09-01T00:00:00\", \"posts\": 36}, {\"topic\": \"Apple\", \"date\": \"2021-01-01T00:00:00\", \"posts\": 48}, {\"topic\": \"Apple\", \"date\": \"2020-02-01T00:00:00\", \"posts\": 38}, {\"topic\": \"Apple\", \"date\": \"2022-05-01T00:00:00\", \"posts\": 34}, {\"topic\": \"Apple\", \"date\": \"2021-12-01T00:00:00\", \"posts\": 33}, {\"topic\": \"Apple\", \"date\": \"2022-02-01T00:00:00\", \"posts\": 42}, {\"topic\": \"Coronavirus\", \"date\": \"2020-06-01T00:00:00\", \"posts\": 24}, {\"topic\": \"Coronavirus\", \"date\": \"2023-03-01T00:00:00\", \"posts\": 1}, {\"topic\": \"Coronavirus\", \"date\": \"2021-06-01T00:00:00\", \"posts\": 8}, {\"topic\": \"Coronavirus\", \"date\": \"2020-03-01T00:00:00\", \"posts\": 284}, {\"topic\": \"Coronavirus\", \"date\": \"2020-04-01T00:00:00\", \"posts\": 147}, {\"topic\": \"Coronavirus\", \"date\": \"2020-02-01T00:00:00\", \"posts\": 36}, {\"topic\": \"Coronavirus\", \"date\": \"2020-05-01T00:00:00\", \"posts\": 90}, {\"topic\": \"Coronavirus\", \"date\": \"2020-11-01T00:00:00\", \"posts\": 28}, {\"topic\": \"Coronavirus\", \"date\": \"2020-07-01T00:00:00\", \"posts\": 36}, {\"topic\": \"Coronavirus\", \"date\": \"2021-09-01T00:00:00\", \"posts\": 21}, {\"topic\": \"Coronavirus\", \"date\": \"2021-07-01T00:00:00\", \"posts\": 12}, {\"topic\": \"Coronavirus\", \"date\": \"2023-02-01T00:00:00\", \"posts\": 3}, {\"topic\": \"Coronavirus\", \"date\": \"2021-01-01T00:00:00\", \"posts\": 15}, {\"topic\": \"Coronavirus\", \"date\": \"2022-10-01T00:00:00\", \"posts\": 4}, {\"topic\": \"Coronavirus\", \"date\": \"2021-11-01T00:00:00\", \"posts\": 11}, {\"topic\": \"Coronavirus\", \"date\": \"2022-03-01T00:00:00\", \"posts\": 2}, {\"topic\": \"Coronavirus\", \"date\": \"2022-01-01T00:00:00\", \"posts\": 7}, {\"topic\": \"Coronavirus\", \"date\": \"2021-08-01T00:00:00\", \"posts\": 8}, {\"topic\": \"Coronavirus\", \"date\": \"2021-03-01T00:00:00\", \"posts\": 13}, {\"topic\": \"Coronavirus\", \"date\": \"2022-04-01T00:00:00\", \"posts\": 2}, {\"topic\": \"Coronavirus\", \"date\": \"2022-06-01T00:00:00\", \"posts\": 1}, {\"topic\": \"Coronavirus\", \"date\": \"2021-04-01T00:00:00\", \"posts\": 8}, {\"topic\": \"Coronavirus\", \"date\": \"2020-08-01T00:00:00\", \"posts\": 22}, {\"topic\": \"Coronavirus\", \"date\": \"2020-10-01T00:00:00\", \"posts\": 21}, {\"topic\": \"Coronavirus\", \"date\": \"2020-09-01T00:00:00\", \"posts\": 17}, {\"topic\": \"Coronavirus\", \"date\": \"2021-05-01T00:00:00\", \"posts\": 10}, {\"topic\": \"Coronavirus\", \"date\": \"2020-01-01T00:00:00\", \"posts\": 11}, {\"topic\": \"Coronavirus\", \"date\": \"2021-10-01T00:00:00\", \"posts\": 7}, {\"topic\": \"Coronavirus\", \"date\": \"2021-12-01T00:00:00\", \"posts\": 11}, {\"topic\": \"Coronavirus\", \"date\": \"2020-12-01T00:00:00\", \"posts\": 20}, {\"topic\": \"Coronavirus\", \"date\": \"2021-02-01T00:00:00\", \"posts\": 13}, {\"topic\": \"Coronavirus\", \"date\": \"2023-05-01T00:00:00\", \"posts\": 1}, {\"topic\": \"Coronavirus\", \"date\": \"2022-05-01T00:00:00\", \"posts\": 1}, {\"topic\": \"Coronavirus\", \"date\": \"2022-02-01T00:00:00\", \"posts\": 3}, {\"topic\": \"Facebook\", \"date\": \"2020-08-01T00:00:00\", \"posts\": 32}, {\"topic\": \"Facebook\", \"date\": \"2020-03-01T00:00:00\", \"posts\": 12}, {\"topic\": \"Facebook\", \"date\": \"2022-08-01T00:00:00\", \"posts\": 24}, {\"topic\": \"Facebook\", \"date\": \"2020-09-01T00:00:00\", \"posts\": 28}, {\"topic\": \"Facebook\", \"date\": \"2020-05-01T00:00:00\", \"posts\": 25}, {\"topic\": \"Facebook\", \"date\": \"2020-07-01T00:00:00\", \"posts\": 33}, {\"topic\": \"Facebook\", \"date\": \"2022-10-01T00:00:00\", \"posts\": 33}, {\"topic\": \"Facebook\", \"date\": \"2021-05-01T00:00:00\", \"posts\": 28}, {\"topic\": \"Facebook\", \"date\": \"2021-10-01T00:00:00\", \"posts\": 83}, {\"topic\": \"Facebook\", \"date\": \"2021-08-01T00:00:00\", \"posts\": 37}, {\"topic\": \"Facebook\", \"date\": \"2020-02-01T00:00:00\", \"posts\": 17}, {\"topic\": \"Facebook\", \"date\": \"2021-02-01T00:00:00\", \"posts\": 28}, {\"topic\": \"Facebook\", \"date\": \"2020-06-01T00:00:00\", \"posts\": 49}, {\"topic\": \"Facebook\", \"date\": \"2022-12-01T00:00:00\", \"posts\": 9}, {\"topic\": \"Facebook\", \"date\": \"2023-03-01T00:00:00\", \"posts\": 11}, {\"topic\": \"Facebook\", \"date\": \"2020-10-01T00:00:00\", \"posts\": 30}, {\"topic\": \"Facebook\", \"date\": \"2022-09-01T00:00:00\", \"posts\": 17}, {\"topic\": \"Facebook\", \"date\": \"2021-07-01T00:00:00\", \"posts\": 30}, {\"topic\": \"Facebook\", \"date\": \"2023-05-01T00:00:00\", \"posts\": 14}, {\"topic\": \"Facebook\", \"date\": \"2021-03-01T00:00:00\", \"posts\": 17}, {\"topic\": \"Facebook\", \"date\": \"2021-11-01T00:00:00\", \"posts\": 17}, {\"topic\": \"Facebook\", \"date\": \"2020-04-01T00:00:00\", \"posts\": 9}, {\"topic\": \"Facebook\", \"date\": \"2021-12-01T00:00:00\", \"posts\": 21}, {\"topic\": \"Facebook\", \"date\": \"2022-02-01T00:00:00\", \"posts\": 27}, {\"topic\": \"Facebook\", \"date\": \"2021-06-01T00:00:00\", \"posts\": 16}, {\"topic\": \"Facebook\", \"date\": \"2020-11-01T00:00:00\", \"posts\": 19}, {\"topic\": \"Facebook\", \"date\": \"2022-04-01T00:00:00\", \"posts\": 11}, {\"topic\": \"Facebook\", \"date\": \"2020-12-01T00:00:00\", \"posts\": 37}, {\"topic\": \"Facebook\", \"date\": \"2021-09-01T00:00:00\", \"posts\": 35}, {\"topic\": \"Facebook\", \"date\": \"2022-06-01T00:00:00\", \"posts\": 10}, {\"topic\": \"Facebook\", \"date\": \"2020-01-01T00:00:00\", \"posts\": 24}, {\"topic\": \"Facebook\", \"date\": \"2022-01-01T00:00:00\", \"posts\": 17}, {\"topic\": \"Facebook\", \"date\": \"2021-04-01T00:00:00\", \"posts\": 48}, {\"topic\": \"Facebook\", \"date\": \"2022-07-01T00:00:00\", \"posts\": 11}, {\"topic\": \"Facebook\", \"date\": \"2022-05-01T00:00:00\", \"posts\": 8}, {\"topic\": \"Facebook\", \"date\": \"2023-02-01T00:00:00\", \"posts\": 9}, {\"topic\": \"Facebook\", \"date\": \"2023-04-01T00:00:00\", \"posts\": 12}, {\"topic\": \"Facebook\", \"date\": \"2023-01-01T00:00:00\", \"posts\": 9}, {\"topic\": \"Facebook\", \"date\": \"2021-01-01T00:00:00\", \"posts\": 56}, {\"topic\": \"Facebook\", \"date\": \"2022-03-01T00:00:00\", \"posts\": 6}, {\"topic\": \"Facebook\", \"date\": \"2022-11-01T00:00:00\", \"posts\": 17}, {\"topic\": \"China\", \"date\": \"2020-06-01T00:00:00\", \"posts\": 22}, {\"topic\": \"China\", \"date\": \"2021-09-01T00:00:00\", \"posts\": 28}, {\"topic\": \"China\", \"date\": \"2022-07-01T00:00:00\", \"posts\": 12}, {\"topic\": \"China\", \"date\": \"2021-06-01T00:00:00\", \"posts\": 28}, {\"topic\": \"China\", \"date\": \"2020-07-01T00:00:00\", \"posts\": 25}, {\"topic\": \"China\", \"date\": \"2020-11-01T00:00:00\", \"posts\": 12}, {\"topic\": \"China\", \"date\": \"2022-03-01T00:00:00\", \"posts\": 13}, {\"topic\": \"China\", \"date\": \"2021-02-01T00:00:00\", \"posts\": 16}, {\"topic\": \"China\", \"date\": \"2021-04-01T00:00:00\", \"posts\": 23}, {\"topic\": \"China\", \"date\": \"2022-05-01T00:00:00\", \"posts\": 7}, {\"topic\": \"China\", \"date\": \"2021-12-01T00:00:00\", \"posts\": 27}, {\"topic\": \"China\", \"date\": \"2021-11-01T00:00:00\", \"posts\": 17}, {\"topic\": \"China\", \"date\": \"2020-02-01T00:00:00\", \"posts\": 13}, {\"topic\": \"China\", \"date\": \"2023-04-01T00:00:00\", \"posts\": 17}, {\"topic\": \"China\", \"date\": \"2022-08-01T00:00:00\", \"posts\": 11}, {\"topic\": \"China\", \"date\": \"2022-02-01T00:00:00\", \"posts\": 10}, {\"topic\": \"China\", \"date\": \"2021-08-01T00:00:00\", \"posts\": 31}, {\"topic\": \"China\", \"date\": \"2020-03-01T00:00:00\", \"posts\": 16}, {\"topic\": \"China\", \"date\": \"2022-01-01T00:00:00\", \"posts\": 11}, {\"topic\": \"China\", \"date\": \"2022-10-01T00:00:00\", \"posts\": 14}, {\"topic\": \"China\", \"date\": \"2020-09-01T00:00:00\", \"posts\": 19}, {\"topic\": \"China\", \"date\": \"2020-01-01T00:00:00\", \"posts\": 18}, {\"topic\": \"China\", \"date\": \"2021-01-01T00:00:00\", \"posts\": 29}, {\"topic\": \"China\", \"date\": \"2023-01-01T00:00:00\", \"posts\": 17}, {\"topic\": \"China\", \"date\": \"2021-05-01T00:00:00\", \"posts\": 22}, {\"topic\": \"China\", \"date\": \"2022-11-01T00:00:00\", \"posts\": 15}, {\"topic\": \"China\", \"date\": \"2020-08-01T00:00:00\", \"posts\": 28}, {\"topic\": \"China\", \"date\": \"2023-05-01T00:00:00\", \"posts\": 16}, {\"topic\": \"China\", \"date\": \"2020-12-01T00:00:00\", \"posts\": 18}, {\"topic\": \"China\", \"date\": \"2021-03-01T00:00:00\", \"posts\": 27}, {\"topic\": \"China\", \"date\": \"2022-04-01T00:00:00\", \"posts\": 7}, {\"topic\": \"China\", \"date\": \"2023-03-01T00:00:00\", \"posts\": 23}, {\"topic\": \"China\", \"date\": \"2022-12-01T00:00:00\", \"posts\": 8}, {\"topic\": \"China\", \"date\": \"2021-10-01T00:00:00\", \"posts\": 14}, {\"topic\": \"China\", \"date\": \"2023-02-01T00:00:00\", \"posts\": 16}, {\"topic\": \"China\", \"date\": \"2021-07-01T00:00:00\", \"posts\": 20}, {\"topic\": \"China\", \"date\": \"2020-05-01T00:00:00\", \"posts\": 10}, {\"topic\": \"China\", \"date\": \"2022-06-01T00:00:00\", \"posts\": 6}, {\"topic\": \"China\", \"date\": \"2020-04-01T00:00:00\", \"posts\": 14}, {\"topic\": \"China\", \"date\": \"2020-10-01T00:00:00\", \"posts\": 7}, {\"topic\": \"China\", \"date\": \"2022-09-01T00:00:00\", \"posts\": 3}, {\"topic\": \"COVID-19\", \"date\": \"2023-01-01T00:00:00\", \"posts\": 8}, {\"topic\": \"COVID-19\", \"date\": \"2021-11-01T00:00:00\", \"posts\": 51}, {\"topic\": \"COVID-19\", \"date\": \"2021-07-01T00:00:00\", \"posts\": 52}, {\"topic\": \"COVID-19\", \"date\": \"2020-08-01T00:00:00\", \"posts\": 54}, {\"topic\": \"COVID-19\", \"date\": \"2022-04-01T00:00:00\", \"posts\": 11}, {\"topic\": \"COVID-19\", \"date\": \"2022-09-01T00:00:00\", \"posts\": 9}, {\"topic\": \"COVID-19\", \"date\": \"2023-02-01T00:00:00\", \"posts\": 14}, {\"topic\": \"COVID-19\", \"date\": \"2021-09-01T00:00:00\", \"posts\": 68}, {\"topic\": \"COVID-19\", \"date\": \"2020-04-01T00:00:00\", \"posts\": 189}, {\"topic\": \"COVID-19\", \"date\": \"2022-01-01T00:00:00\", \"posts\": 65}, {\"topic\": \"COVID-19\", \"date\": \"2020-09-01T00:00:00\", \"posts\": 35}, {\"topic\": \"COVID-19\", \"date\": \"2021-04-01T00:00:00\", \"posts\": 45}, {\"topic\": \"COVID-19\", \"date\": \"2021-10-01T00:00:00\", \"posts\": 55}, {\"topic\": \"COVID-19\", \"date\": \"2020-11-01T00:00:00\", \"posts\": 43}, {\"topic\": \"COVID-19\", \"date\": \"2020-10-01T00:00:00\", \"posts\": 41}, {\"topic\": \"COVID-19\", \"date\": \"2020-05-01T00:00:00\", \"posts\": 117}, {\"topic\": \"COVID-19\", \"date\": \"2023-03-01T00:00:00\", \"posts\": 9}, {\"topic\": \"COVID-19\", \"date\": \"2020-03-01T00:00:00\", \"posts\": 242}, {\"topic\": \"COVID-19\", \"date\": \"2020-02-01T00:00:00\", \"posts\": 26}, {\"topic\": \"COVID-19\", \"date\": \"2021-08-01T00:00:00\", \"posts\": 70}, {\"topic\": \"COVID-19\", \"date\": \"2020-07-01T00:00:00\", \"posts\": 64}, {\"topic\": \"COVID-19\", \"date\": \"2022-03-01T00:00:00\", \"posts\": 18}, {\"topic\": \"COVID-19\", \"date\": \"2022-02-01T00:00:00\", \"posts\": 22}, {\"topic\": \"COVID-19\", \"date\": \"2021-06-01T00:00:00\", \"posts\": 34}, {\"topic\": \"COVID-19\", \"date\": \"2020-06-01T00:00:00\", \"posts\": 63}, {\"topic\": \"COVID-19\", \"date\": \"2021-05-01T00:00:00\", \"posts\": 37}, {\"topic\": \"COVID-19\", \"date\": \"2022-11-01T00:00:00\", \"posts\": 15}, {\"topic\": \"COVID-19\", \"date\": \"2021-01-01T00:00:00\", \"posts\": 36}, {\"topic\": \"COVID-19\", \"date\": \"2021-12-01T00:00:00\", \"posts\": 41}, {\"topic\": \"COVID-19\", \"date\": \"2021-03-01T00:00:00\", \"posts\": 38}, {\"topic\": \"COVID-19\", \"date\": \"2022-08-01T00:00:00\", \"posts\": 7}, {\"topic\": \"COVID-19\", \"date\": \"2023-04-01T00:00:00\", \"posts\": 4}, {\"topic\": \"COVID-19\", \"date\": \"2022-06-01T00:00:00\", \"posts\": 10}, {\"topic\": \"COVID-19\", \"date\": \"2020-12-01T00:00:00\", \"posts\": 54}, {\"topic\": \"COVID-19\", \"date\": \"2022-05-01T00:00:00\", \"posts\": 10}, {\"topic\": \"COVID-19\", \"date\": \"2022-12-01T00:00:00\", \"posts\": 8}, {\"topic\": \"COVID-19\", \"date\": \"2023-05-01T00:00:00\", \"posts\": 5}, {\"topic\": \"COVID-19\", \"date\": \"2021-02-01T00:00:00\", \"posts\": 28}, {\"topic\": \"COVID-19\", \"date\": \"2022-07-01T00:00:00\", \"posts\": 10}, {\"topic\": \"COVID-19\", \"date\": \"2022-10-01T00:00:00\", \"posts\": 10}, {\"topic\": \"COVID-19\", \"date\": \"2020-01-01T00:00:00\", \"posts\": 2}, {\"topic\": \"Pandemic\", \"date\": \"2023-03-01T00:00:00\", \"posts\": 9}, {\"topic\": \"Pandemic\", \"date\": \"2021-11-01T00:00:00\", \"posts\": 32}, {\"topic\": \"Pandemic\", \"date\": \"2021-06-01T00:00:00\", \"posts\": 29}, {\"topic\": \"Pandemic\", \"date\": \"2022-03-01T00:00:00\", \"posts\": 13}, {\"topic\": \"Pandemic\", \"date\": \"2022-04-01T00:00:00\", \"posts\": 9}, {\"topic\": \"Pandemic\", \"date\": \"2021-07-01T00:00:00\", \"posts\": 23}, {\"topic\": \"Pandemic\", \"date\": \"2020-02-01T00:00:00\", \"posts\": 24}, {\"topic\": \"Pandemic\", \"date\": \"2020-05-01T00:00:00\", \"posts\": 62}, {\"topic\": \"Pandemic\", \"date\": \"2020-09-01T00:00:00\", \"posts\": 26}, {\"topic\": \"Pandemic\", \"date\": \"2020-06-01T00:00:00\", \"posts\": 33}, {\"topic\": \"Pandemic\", \"date\": \"2020-11-01T00:00:00\", \"posts\": 34}, {\"topic\": \"Pandemic\", \"date\": \"2021-04-01T00:00:00\", \"posts\": 29}, {\"topic\": \"Pandemic\", \"date\": \"2020-03-01T00:00:00\", \"posts\": 164}, {\"topic\": \"Pandemic\", \"date\": \"2020-04-01T00:00:00\", \"posts\": 114}, {\"topic\": \"Pandemic\", \"date\": \"2022-02-01T00:00:00\", \"posts\": 12}, {\"topic\": \"Pandemic\", \"date\": \"2021-09-01T00:00:00\", \"posts\": 30}, {\"topic\": \"Pandemic\", \"date\": \"2020-07-01T00:00:00\", \"posts\": 38}, {\"topic\": \"Pandemic\", \"date\": \"2023-02-01T00:00:00\", \"posts\": 6}, {\"topic\": \"Pandemic\", \"date\": \"2021-12-01T00:00:00\", \"posts\": 25}, {\"topic\": \"Pandemic\", \"date\": \"2022-08-01T00:00:00\", \"posts\": 3}, {\"topic\": \"Pandemic\", \"date\": \"2021-08-01T00:00:00\", \"posts\": 39}, {\"topic\": \"Pandemic\", \"date\": \"2021-05-01T00:00:00\", \"posts\": 24}, {\"topic\": \"Pandemic\", \"date\": \"2021-01-01T00:00:00\", \"posts\": 27}, {\"topic\": \"Pandemic\", \"date\": \"2022-10-01T00:00:00\", \"posts\": 8}, {\"topic\": \"Pandemic\", \"date\": \"2022-11-01T00:00:00\", \"posts\": 4}, {\"topic\": \"Pandemic\", \"date\": \"2021-10-01T00:00:00\", \"posts\": 28}, {\"topic\": \"Pandemic\", \"date\": \"2020-12-01T00:00:00\", \"posts\": 39}, {\"topic\": \"Pandemic\", \"date\": \"2020-08-01T00:00:00\", \"posts\": 36}, {\"topic\": \"Pandemic\", \"date\": \"2022-01-01T00:00:00\", \"posts\": 28}, {\"topic\": \"Pandemic\", \"date\": \"2022-09-01T00:00:00\", \"posts\": 5}, {\"topic\": \"Pandemic\", \"date\": \"2023-01-01T00:00:00\", \"posts\": 5}, {\"topic\": \"Pandemic\", \"date\": \"2022-06-01T00:00:00\", \"posts\": 4}, {\"topic\": \"Pandemic\", \"date\": \"2020-10-01T00:00:00\", \"posts\": 32}, {\"topic\": \"Pandemic\", \"date\": \"2021-03-01T00:00:00\", \"posts\": 20}, {\"topic\": \"Pandemic\", \"date\": \"2022-05-01T00:00:00\", \"posts\": 7}, {\"topic\": \"Pandemic\", \"date\": \"2022-12-01T00:00:00\", \"posts\": 9}, {\"topic\": \"Pandemic\", \"date\": \"2020-01-01T00:00:00\", \"posts\": 6}, {\"topic\": \"Pandemic\", \"date\": \"2023-05-01T00:00:00\", \"posts\": 4}, {\"topic\": \"Pandemic\", \"date\": \"2021-02-01T00:00:00\", \"posts\": 22}, {\"topic\": \"Pandemic\", \"date\": \"2023-04-01T00:00:00\", \"posts\": 5}, {\"topic\": \"Pandemic\", \"date\": \"2022-07-01T00:00:00\", \"posts\": 9}, {\"topic\": \"Epidemiology\", \"date\": \"2021-11-01T00:00:00\", \"posts\": 12}, {\"topic\": \"Epidemiology\", \"date\": \"2020-02-01T00:00:00\", \"posts\": 9}, {\"topic\": \"Epidemiology\", \"date\": \"2020-11-01T00:00:00\", \"posts\": 14}, {\"topic\": \"Epidemiology\", \"date\": \"2022-09-01T00:00:00\", \"posts\": 3}, {\"topic\": \"Epidemiology\", \"date\": \"2020-08-01T00:00:00\", \"posts\": 7}, {\"topic\": \"Epidemiology\", \"date\": \"2020-03-01T00:00:00\", \"posts\": 45}, {\"topic\": \"Epidemiology\", \"date\": \"2021-08-01T00:00:00\", \"posts\": 14}, {\"topic\": \"Epidemiology\", \"date\": \"2020-05-01T00:00:00\", \"posts\": 25}, {\"topic\": \"Epidemiology\", \"date\": \"2021-09-01T00:00:00\", \"posts\": 9}, {\"topic\": \"Epidemiology\", \"date\": \"2021-04-01T00:00:00\", \"posts\": 13}, {\"topic\": \"Epidemiology\", \"date\": \"2022-11-01T00:00:00\", \"posts\": 5}, {\"topic\": \"Epidemiology\", \"date\": \"2021-05-01T00:00:00\", \"posts\": 9}, {\"topic\": \"Epidemiology\", \"date\": \"2020-01-01T00:00:00\", \"posts\": 7}, {\"topic\": \"Epidemiology\", \"date\": \"2022-07-01T00:00:00\", \"posts\": 8}, {\"topic\": \"Epidemiology\", \"date\": \"2022-02-01T00:00:00\", \"posts\": 8}, {\"topic\": \"Epidemiology\", \"date\": \"2021-03-01T00:00:00\", \"posts\": 9}, {\"topic\": \"Epidemiology\", \"date\": \"2020-06-01T00:00:00\", \"posts\": 12}, {\"topic\": \"Epidemiology\", \"date\": \"2021-12-01T00:00:00\", \"posts\": 13}, {\"topic\": \"Epidemiology\", \"date\": \"2020-04-01T00:00:00\", \"posts\": 43}, {\"topic\": \"Epidemiology\", \"date\": \"2022-10-01T00:00:00\", \"posts\": 5}, {\"topic\": \"Epidemiology\", \"date\": \"2020-07-01T00:00:00\", \"posts\": 6}, {\"topic\": \"Epidemiology\", \"date\": \"2022-01-01T00:00:00\", \"posts\": 15}, {\"topic\": \"Epidemiology\", \"date\": \"2020-10-01T00:00:00\", \"posts\": 13}, {\"topic\": \"Epidemiology\", \"date\": \"2022-05-01T00:00:00\", \"posts\": 8}, {\"topic\": \"Epidemiology\", \"date\": \"2021-06-01T00:00:00\", \"posts\": 8}, {\"topic\": \"Epidemiology\", \"date\": \"2023-05-01T00:00:00\", \"posts\": 3}, {\"topic\": \"Epidemiology\", \"date\": \"2020-09-01T00:00:00\", \"posts\": 10}, {\"topic\": \"Epidemiology\", \"date\": \"2021-10-01T00:00:00\", \"posts\": 9}, {\"topic\": \"Epidemiology\", \"date\": \"2021-02-01T00:00:00\", \"posts\": 6}, {\"topic\": \"Epidemiology\", \"date\": \"2021-07-01T00:00:00\", \"posts\": 10}, {\"topic\": \"Epidemiology\", \"date\": \"2022-04-01T00:00:00\", \"posts\": 4}, {\"topic\": \"Epidemiology\", \"date\": \"2022-03-01T00:00:00\", \"posts\": 5}, {\"topic\": \"Epidemiology\", \"date\": \"2023-01-01T00:00:00\", \"posts\": 4}, {\"topic\": \"Epidemiology\", \"date\": \"2021-01-01T00:00:00\", \"posts\": 6}, {\"topic\": \"Epidemiology\", \"date\": \"2020-12-01T00:00:00\", \"posts\": 10}, {\"topic\": \"Epidemiology\", \"date\": \"2023-03-01T00:00:00\", \"posts\": 7}, {\"topic\": \"Epidemiology\", \"date\": \"2023-02-01T00:00:00\", \"posts\": 3}, {\"topic\": \"Epidemiology\", \"date\": \"2022-12-01T00:00:00\", \"posts\": 3}, {\"topic\": \"Epidemiology\", \"date\": \"2022-06-01T00:00:00\", \"posts\": 4}, {\"topic\": \"Epidemiology\", \"date\": \"2023-04-01T00:00:00\", \"posts\": 1}, {\"topic\": \"Epidemiology\", \"date\": \"2022-08-01T00:00:00\", \"posts\": 3}, {\"topic\": \"Public Health\", \"date\": \"2021-03-01T00:00:00\", \"posts\": 25}, {\"topic\": \"Public Health\", \"date\": \"2021-11-01T00:00:00\", \"posts\": 23}, {\"topic\": \"Public Health\", \"date\": \"2023-04-01T00:00:00\", \"posts\": 14}, {\"topic\": \"Public Health\", \"date\": \"2022-04-01T00:00:00\", \"posts\": 17}, {\"topic\": \"Public Health\", \"date\": \"2020-02-01T00:00:00\", \"posts\": 24}, {\"topic\": \"Public Health\", \"date\": \"2022-09-01T00:00:00\", \"posts\": 7}, {\"topic\": \"Public Health\", \"date\": \"2020-07-01T00:00:00\", \"posts\": 25}, {\"topic\": \"Public Health\", \"date\": \"2021-04-01T00:00:00\", \"posts\": 26}, {\"topic\": \"Public Health\", \"date\": \"2020-04-01T00:00:00\", \"posts\": 60}, {\"topic\": \"Public Health\", \"date\": \"2020-05-01T00:00:00\", \"posts\": 34}, {\"topic\": \"Public Health\", \"date\": \"2023-03-01T00:00:00\", \"posts\": 17}, {\"topic\": \"Public Health\", \"date\": \"2020-03-01T00:00:00\", \"posts\": 104}, {\"topic\": \"Public Health\", \"date\": \"2022-01-01T00:00:00\", \"posts\": 33}, {\"topic\": \"Public Health\", \"date\": \"2020-12-01T00:00:00\", \"posts\": 25}, {\"topic\": \"Public Health\", \"date\": \"2021-08-01T00:00:00\", \"posts\": 42}, {\"topic\": \"Public Health\", \"date\": \"2022-02-01T00:00:00\", \"posts\": 15}, {\"topic\": \"Public Health\", \"date\": \"2020-11-01T00:00:00\", \"posts\": 22}, {\"topic\": \"Public Health\", \"date\": \"2020-06-01T00:00:00\", \"posts\": 28}, {\"topic\": \"Public Health\", \"date\": \"2021-05-01T00:00:00\", \"posts\": 24}, {\"topic\": \"Public Health\", \"date\": \"2022-11-01T00:00:00\", \"posts\": 14}, {\"topic\": \"Public Health\", \"date\": \"2020-01-01T00:00:00\", \"posts\": 15}, {\"topic\": \"Public Health\", \"date\": \"2022-10-01T00:00:00\", \"posts\": 13}, {\"topic\": \"Public Health\", \"date\": \"2021-09-01T00:00:00\", \"posts\": 32}, {\"topic\": \"Public Health\", \"date\": \"2023-01-01T00:00:00\", \"posts\": 13}, {\"topic\": \"Public Health\", \"date\": \"2021-01-01T00:00:00\", \"posts\": 16}, {\"topic\": \"Public Health\", \"date\": \"2022-07-01T00:00:00\", \"posts\": 14}, {\"topic\": \"Public Health\", \"date\": \"2021-10-01T00:00:00\", \"posts\": 27}, {\"topic\": \"Public Health\", \"date\": \"2021-12-01T00:00:00\", \"posts\": 24}, {\"topic\": \"Public Health\", \"date\": \"2020-08-01T00:00:00\", \"posts\": 21}, {\"topic\": \"Public Health\", \"date\": \"2022-06-01T00:00:00\", \"posts\": 12}, {\"topic\": \"Public Health\", \"date\": \"2020-10-01T00:00:00\", \"posts\": 22}, {\"topic\": \"Public Health\", \"date\": \"2021-07-01T00:00:00\", \"posts\": 20}, {\"topic\": \"Public Health\", \"date\": \"2022-05-01T00:00:00\", \"posts\": 16}, {\"topic\": \"Public Health\", \"date\": \"2023-05-01T00:00:00\", \"posts\": 17}, {\"topic\": \"Public Health\", \"date\": \"2021-02-01T00:00:00\", \"posts\": 17}, {\"topic\": \"Public Health\", \"date\": \"2020-09-01T00:00:00\", \"posts\": 14}, {\"topic\": \"Public Health\", \"date\": \"2021-06-01T00:00:00\", \"posts\": 17}, {\"topic\": \"Public Health\", \"date\": \"2023-02-01T00:00:00\", \"posts\": 14}, {\"topic\": \"Public Health\", \"date\": \"2022-12-01T00:00:00\", \"posts\": 13}, {\"topic\": \"Public Health\", \"date\": \"2022-03-01T00:00:00\", \"posts\": 9}, {\"topic\": \"Public Health\", \"date\": \"2022-08-01T00:00:00\", \"posts\": 13}, {\"topic\": \"Privacy\", \"date\": \"2020-09-01T00:00:00\", \"posts\": 48}, {\"topic\": \"Privacy\", \"date\": \"2021-03-01T00:00:00\", \"posts\": 77}, {\"topic\": \"Privacy\", \"date\": \"2021-08-01T00:00:00\", \"posts\": 105}, {\"topic\": \"Privacy\", \"date\": \"2022-07-01T00:00:00\", \"posts\": 46}, {\"topic\": \"Privacy\", \"date\": \"2022-01-01T00:00:00\", \"posts\": 46}, {\"topic\": \"Privacy\", \"date\": \"2022-02-01T00:00:00\", \"posts\": 53}, {\"topic\": \"Privacy\", \"date\": \"2021-10-01T00:00:00\", \"posts\": 76}, {\"topic\": \"Privacy\", \"date\": \"2022-06-01T00:00:00\", \"posts\": 49}, {\"topic\": \"Privacy\", \"date\": \"2023-04-01T00:00:00\", \"posts\": 61}, {\"topic\": \"Privacy\", \"date\": \"2022-11-01T00:00:00\", \"posts\": 51}, {\"topic\": \"Privacy\", \"date\": \"2020-10-01T00:00:00\", \"posts\": 66}, {\"topic\": \"Privacy\", \"date\": \"2022-08-01T00:00:00\", \"posts\": 59}, {\"topic\": \"Privacy\", \"date\": \"2023-03-01T00:00:00\", \"posts\": 62}, {\"topic\": \"Privacy\", \"date\": \"2021-09-01T00:00:00\", \"posts\": 78}, {\"topic\": \"Privacy\", \"date\": \"2021-01-01T00:00:00\", \"posts\": 82}, {\"topic\": \"Privacy\", \"date\": \"2022-10-01T00:00:00\", \"posts\": 48}, {\"topic\": \"Privacy\", \"date\": \"2021-12-01T00:00:00\", \"posts\": 62}, {\"topic\": \"Privacy\", \"date\": \"2021-07-01T00:00:00\", \"posts\": 76}, {\"topic\": \"Privacy\", \"date\": \"2022-09-01T00:00:00\", \"posts\": 46}, {\"topic\": \"Privacy\", \"date\": \"2020-07-01T00:00:00\", \"posts\": 59}, {\"topic\": \"Privacy\", \"date\": \"2021-06-01T00:00:00\", \"posts\": 64}, {\"topic\": \"Privacy\", \"date\": \"2020-08-01T00:00:00\", \"posts\": 54}, {\"topic\": \"Privacy\", \"date\": \"2021-05-01T00:00:00\", \"posts\": 65}, {\"topic\": \"Privacy\", \"date\": \"2021-04-01T00:00:00\", \"posts\": 77}, {\"topic\": \"Privacy\", \"date\": \"2020-02-01T00:00:00\", \"posts\": 56}, {\"topic\": \"Privacy\", \"date\": \"2020-11-01T00:00:00\", \"posts\": 56}, {\"topic\": \"Privacy\", \"date\": \"2022-12-01T00:00:00\", \"posts\": 50}, {\"topic\": \"Privacy\", \"date\": \"2020-04-01T00:00:00\", \"posts\": 67}, {\"topic\": \"Privacy\", \"date\": \"2022-03-01T00:00:00\", \"posts\": 46}, {\"topic\": \"Privacy\", \"date\": \"2020-05-01T00:00:00\", \"posts\": 52}, {\"topic\": \"Privacy\", \"date\": \"2023-02-01T00:00:00\", \"posts\": 52}, {\"topic\": \"Privacy\", \"date\": \"2021-11-01T00:00:00\", \"posts\": 48}, {\"topic\": \"Privacy\", \"date\": \"2020-06-01T00:00:00\", \"posts\": 68}, {\"topic\": \"Privacy\", \"date\": \"2020-12-01T00:00:00\", \"posts\": 55}, {\"topic\": \"Privacy\", \"date\": \"2022-05-01T00:00:00\", \"posts\": 48}, {\"topic\": \"Privacy\", \"date\": \"2023-05-01T00:00:00\", \"posts\": 68}, {\"topic\": \"Privacy\", \"date\": \"2020-01-01T00:00:00\", \"posts\": 55}, {\"topic\": \"Privacy\", \"date\": \"2022-04-01T00:00:00\", \"posts\": 38}, {\"topic\": \"Privacy\", \"date\": \"2023-01-01T00:00:00\", \"posts\": 53}, {\"topic\": \"Privacy\", \"date\": \"2020-03-01T00:00:00\", \"posts\": 50}, {\"topic\": \"Privacy\", \"date\": \"2021-02-01T00:00:00\", \"posts\": 53}, {\"topic\": \"Health\", \"date\": \"2021-03-01T00:00:00\", \"posts\": 29}, {\"topic\": \"Health\", \"date\": \"2021-09-01T00:00:00\", \"posts\": 36}, {\"topic\": \"Health\", \"date\": \"2022-10-01T00:00:00\", \"posts\": 22}, {\"topic\": \"Health\", \"date\": \"2023-02-01T00:00:00\", \"posts\": 18}, {\"topic\": \"Health\", \"date\": \"2022-03-01T00:00:00\", \"posts\": 20}, {\"topic\": \"Health\", \"date\": \"2021-02-01T00:00:00\", \"posts\": 19}, {\"topic\": \"Health\", \"date\": \"2022-12-01T00:00:00\", \"posts\": 12}, {\"topic\": \"Health\", \"date\": \"2022-08-01T00:00:00\", \"posts\": 16}, {\"topic\": \"Health\", \"date\": \"2021-05-01T00:00:00\", \"posts\": 26}, {\"topic\": \"Health\", \"date\": \"2023-05-01T00:00:00\", \"posts\": 25}, {\"topic\": \"Health\", \"date\": \"2020-02-01T00:00:00\", \"posts\": 31}, {\"topic\": \"Health\", \"date\": \"2023-01-01T00:00:00\", \"posts\": 27}, {\"topic\": \"Health\", \"date\": \"2021-11-01T00:00:00\", \"posts\": 30}, {\"topic\": \"Health\", \"date\": \"2022-07-01T00:00:00\", \"posts\": 31}, {\"topic\": \"Health\", \"date\": \"2020-11-01T00:00:00\", \"posts\": 26}, {\"topic\": \"Health\", \"date\": \"2021-01-01T00:00:00\", \"posts\": 31}, {\"topic\": \"Health\", \"date\": \"2022-01-01T00:00:00\", \"posts\": 35}, {\"topic\": \"Health\", \"date\": \"2021-10-01T00:00:00\", \"posts\": 26}, {\"topic\": \"Health\", \"date\": \"2023-03-01T00:00:00\", \"posts\": 24}, {\"topic\": \"Health\", \"date\": \"2020-03-01T00:00:00\", \"posts\": 85}, {\"topic\": \"Health\", \"date\": \"2020-04-01T00:00:00\", \"posts\": 44}, {\"topic\": \"Health\", \"date\": \"2023-04-01T00:00:00\", \"posts\": 20}, {\"topic\": \"Health\", \"date\": \"2020-12-01T00:00:00\", \"posts\": 30}, {\"topic\": \"Health\", \"date\": \"2021-08-01T00:00:00\", \"posts\": 38}, {\"topic\": \"Health\", \"date\": \"2020-05-01T00:00:00\", \"posts\": 22}, {\"topic\": \"Health\", \"date\": \"2022-04-01T00:00:00\", \"posts\": 21}, {\"topic\": \"Health\", \"date\": \"2020-07-01T00:00:00\", \"posts\": 21}, {\"topic\": \"Health\", \"date\": \"2020-01-01T00:00:00\", \"posts\": 29}, {\"topic\": \"Health\", \"date\": \"2020-10-01T00:00:00\", \"posts\": 28}, {\"topic\": \"Health\", \"date\": \"2020-09-01T00:00:00\", \"posts\": 20}, {\"topic\": \"Health\", \"date\": \"2022-06-01T00:00:00\", \"posts\": 19}, {\"topic\": \"Health\", \"date\": \"2021-12-01T00:00:00\", \"posts\": 29}, {\"topic\": \"Health\", \"date\": \"2022-02-01T00:00:00\", \"posts\": 20}, {\"topic\": \"Health\", \"date\": \"2022-11-01T00:00:00\", \"posts\": 18}, {\"topic\": \"Health\", \"date\": \"2022-05-01T00:00:00\", \"posts\": 22}, {\"topic\": \"Health\", \"date\": \"2021-06-01T00:00:00\", \"posts\": 23}, {\"topic\": \"Health\", \"date\": \"2022-09-01T00:00:00\", \"posts\": 25}, {\"topic\": \"Health\", \"date\": \"2020-06-01T00:00:00\", \"posts\": 16}, {\"topic\": \"Health\", \"date\": \"2020-08-01T00:00:00\", \"posts\": 27}, {\"topic\": \"Health\", \"date\": \"2021-04-01T00:00:00\", \"posts\": 27}, {\"topic\": \"Health\", \"date\": \"2021-07-01T00:00:00\", \"posts\": 28}]}}, {\"mode\": \"vega-lite\"});\n",
       "</script>"
      ],
      "text/plain": [
       "alt.LayerChart(...)"
      ]
     },
     "execution_count": 124,
     "metadata": {},
     "output_type": "execute_result"
    }
   ],
   "source": [
    "timeseries_chart(timeseries(down_topics))"
   ]
  },
  {
   "cell_type": "code",
   "execution_count": null,
   "metadata": {},
   "outputs": [],
   "source": []
  }
 ],
 "metadata": {
  "kernelspec": {
   "display_name": "Python 3",
   "language": "python",
   "name": "python3"
  },
  "language_info": {
   "codemirror_mode": {
    "name": "ipython",
    "version": 3
   },
   "file_extension": ".py",
   "mimetype": "text/x-python",
   "name": "python",
   "nbconvert_exporter": "python",
   "pygments_lexer": "ipython3",
   "version": "3.9.18"
  }
 },
 "nbformat": 4,
 "nbformat_minor": 2
}
