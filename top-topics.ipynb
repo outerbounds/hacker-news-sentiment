{
 "cells": [
  {
   "cell_type": "code",
   "execution_count": 69,
   "metadata": {},
   "outputs": [],
   "source": [
    "import duckdb\n",
    "post_times = dict(duckdb.query(\"select id, time from 'story.parquet' where to_timestamp(time) > timestamp '2020-01-01'\").execute().fetchall())"
   ]
  },
  {
   "cell_type": "code",
   "execution_count": 70,
   "metadata": {},
   "outputs": [
    {
     "name": "stdout",
     "output_type": "stream",
     "text": [
      "num docs 84365\n"
     ]
    },
    {
     "data": {
      "text/plain": [
       "Run('HNSentimentAnalyzePosts/argo-hnsentiment.user.tuulosgmail.com.hnsentimentanalyzeposts-rhdls')"
      ]
     },
     "execution_count": 70,
     "metadata": {},
     "output_type": "execute_result"
    }
   ],
   "source": [
    "from metaflow import Flow, namespace\n",
    "namespace(None)\n",
    "post_run =  next(Flow('HNSentimentAnalyzePosts').runs('analyze_this'))\n",
    "topics = {int(post_id): list({t.lower().capitalize() for t in topics}) for post_id, (topics, _) in post_run['end'].task['post_tags'].data.items()}\n",
    "print('num docs', len(topics))\n",
    "post_run"
   ]
  },
  {
   "cell_type": "code",
   "execution_count": 71,
   "metadata": {},
   "outputs": [],
   "source": [
    "from collections import Counter\n",
    "def all_topics(filterset=None):\n",
    "    for post_id, topic_lst in topics.items():\n",
    "        if filterset is None or post_id in filterset:\n",
    "            for topic in topic_lst:\n",
    "                yield topic.strip()"
   ]
  },
  {
   "cell_type": "markdown",
   "metadata": {},
   "source": []
  },
  {
   "cell_type": "code",
   "execution_count": 80,
   "metadata": {},
   "outputs": [
    {
     "name": "stdout",
     "output_type": "stream",
     "text": [
      "top % 0.09515687396550557\n",
      "num topics 144788\n"
     ]
    },
    {
     "data": {
      "text/html": [
       "\n",
       "<style>\n",
       "  #altair-viz-ccfe4758d8f549d89124fb8740f10882.vega-embed {\n",
       "    width: 100%;\n",
       "    display: flex;\n",
       "  }\n",
       "\n",
       "  #altair-viz-ccfe4758d8f549d89124fb8740f10882.vega-embed details,\n",
       "  #altair-viz-ccfe4758d8f549d89124fb8740f10882.vega-embed details summary {\n",
       "    position: relative;\n",
       "  }\n",
       "</style>\n",
       "<div id=\"altair-viz-ccfe4758d8f549d89124fb8740f10882\"></div>\n",
       "<script type=\"text/javascript\">\n",
       "  var VEGA_DEBUG = (typeof VEGA_DEBUG == \"undefined\") ? {} : VEGA_DEBUG;\n",
       "  (function(spec, embedOpt){\n",
       "    let outputDiv = document.currentScript.previousElementSibling;\n",
       "    if (outputDiv.id !== \"altair-viz-ccfe4758d8f549d89124fb8740f10882\") {\n",
       "      outputDiv = document.getElementById(\"altair-viz-ccfe4758d8f549d89124fb8740f10882\");\n",
       "    }\n",
       "    const paths = {\n",
       "      \"vega\": \"https://cdn.jsdelivr.net/npm/vega@5?noext\",\n",
       "      \"vega-lib\": \"https://cdn.jsdelivr.net/npm/vega-lib?noext\",\n",
       "      \"vega-lite\": \"https://cdn.jsdelivr.net/npm/vega-lite@5.17.0?noext\",\n",
       "      \"vega-embed\": \"https://cdn.jsdelivr.net/npm/vega-embed@6?noext\",\n",
       "    };\n",
       "\n",
       "    function maybeLoadScript(lib, version) {\n",
       "      var key = `${lib.replace(\"-\", \"\")}_version`;\n",
       "      return (VEGA_DEBUG[key] == version) ?\n",
       "        Promise.resolve(paths[lib]) :\n",
       "        new Promise(function(resolve, reject) {\n",
       "          var s = document.createElement('script');\n",
       "          document.getElementsByTagName(\"head\")[0].appendChild(s);\n",
       "          s.async = true;\n",
       "          s.onload = () => {\n",
       "            VEGA_DEBUG[key] = version;\n",
       "            return resolve(paths[lib]);\n",
       "          };\n",
       "          s.onerror = () => reject(`Error loading script: ${paths[lib]}`);\n",
       "          s.src = paths[lib];\n",
       "        });\n",
       "    }\n",
       "\n",
       "    function showError(err) {\n",
       "      outputDiv.innerHTML = `<div class=\"error\" style=\"color:red;\">${err}</div>`;\n",
       "      throw err;\n",
       "    }\n",
       "\n",
       "    function displayChart(vegaEmbed) {\n",
       "      vegaEmbed(outputDiv, spec, embedOpt)\n",
       "        .catch(err => showError(`Javascript Error: ${err.message}<br>This usually means there's a typo in your chart specification. See the javascript console for the full traceback.`));\n",
       "    }\n",
       "\n",
       "    if(typeof define === \"function\" && define.amd) {\n",
       "      requirejs.config({paths});\n",
       "      require([\"vega-embed\"], displayChart, err => showError(`Error loading script: ${err.message}`));\n",
       "    } else {\n",
       "      maybeLoadScript(\"vega\", \"5\")\n",
       "        .then(() => maybeLoadScript(\"vega-lite\", \"5.17.0\"))\n",
       "        .then(() => maybeLoadScript(\"vega-embed\", \"6\"))\n",
       "        .catch(showError)\n",
       "        .then(() => displayChart(vegaEmbed));\n",
       "    }\n",
       "  })({\"arc\": {\"fill\": \"#30a2da\"}, \"area\": {\"fill\": \"#30a2da\"}, \"axis\": {\"domainColor\": \"#cbcbcb\", \"grid\": true, \"gridColor\": \"#cbcbcb\", \"gridWidth\": 1, \"labelColor\": \"#999\", \"labelFontSize\": 24, \"labelPadding\": 4, \"tickColor\": \"#cbcbcb\", \"tickSize\": 10, \"titleColor\": \"#333\", \"titleFontSize\": 24, \"titlePadding\": 10}, \"axisBand\": {\"grid\": false}, \"background\": \"#faf8f4\", \"bar\": {\"binSpacing\": 2, \"fill\": \"#30a2da\", \"stroke\": null}, \"group\": {\"fill\": \"#f0f0f0\"}, \"legend\": {\"labelColor\": \"#333\", \"labelFontSize\": 14, \"padding\": 1, \"symbolSize\": 30, \"symbolType\": \"square\", \"titleColor\": \"#333\", \"titleFontSize\": 16, \"titlePadding\": 20}, \"line\": {\"stroke\": \"#30a2da\", \"strokeWidth\": 2}, \"path\": {\"stroke\": \"#30a2da\", \"strokeWidth\": 0.5}, \"point\": {\"filled\": true, \"shape\": \"circle\"}, \"range\": {\"category\": [\"#30a2da\", \"#fc4f30\", \"#e5ae38\", \"#6d904f\", \"#8b8b8b\", \"#b96db8\", \"#ff9e27\", \"#56cc60\", \"#52d2ca\", \"#52689e\", \"#545454\", \"#9fe4f8\"], \"diverging\": [\"#cc0020\", \"#e77866\", \"#f6e7e1\", \"#d6e8ed\", \"#91bfd9\", \"#1d78b5\"], \"heatmap\": [\"#d6e8ed\", \"#cee0e5\", \"#91bfd9\", \"#549cc6\", \"#1d78b5\"]}, \"rect\": {\"fill\": \"#30a2da\"}, \"shape\": {\"stroke\": \"#30a2da\"}, \"title\": {\"anchor\": \"start\", \"fontSize\": 24, \"fontWeight\": 400, \"offset\": 20}, \"layer\": [{\"mark\": {\"type\": \"bar\"}, \"encoding\": {\"text\": {\"field\": \"Count\", \"type\": \"quantitative\"}, \"x\": {\"field\": \"Count\", \"title\": \"Number of posts\", \"type\": \"quantitative\"}, \"y\": {\"field\": \"Topic\", \"sort\": \"-x\", \"type\": \"nominal\"}}}, {\"mark\": {\"type\": \"text\", \"align\": \"left\", \"dx\": 5, \"fontSize\": 22}, \"encoding\": {\"text\": {\"field\": \"Count\", \"type\": \"quantitative\"}, \"x\": {\"field\": \"Count\", \"title\": \"Number of posts\", \"type\": \"quantitative\"}, \"y\": {\"field\": \"Topic\", \"sort\": \"-x\", \"type\": \"nominal\"}}}], \"config\": {\"axis\": {\"labelFontSize\": 22, \"titleFontSize\": 22}, \"padding\": 40}, \"data\": {\"name\": \"data-9852d046dff80a573265d649f29d8849\"}, \"height\": 900, \"width\": 1000, \"$schema\": \"https://vega.github.io/schema/vega-lite/v5.17.0.json\", \"datasets\": {\"data-9852d046dff80a573265d649f29d8849\": [{\"Topic\": \"Technology\", \"Count\": 14159}, {\"Topic\": \"Open source\", \"Count\": 6076}, {\"Topic\": \"Software development\", \"Count\": 5813}, {\"Topic\": \"Programming\", \"Count\": 3875}, {\"Topic\": \"Web development\", \"Count\": 3868}, {\"Topic\": \"Github\", \"Count\": 3831}, {\"Topic\": \"Artificial intelligence\", \"Count\": 3734}, {\"Topic\": \"Javascript\", \"Count\": 3410}, {\"Topic\": \"Cybersecurity\", \"Count\": 3276}, {\"Topic\": \"Security\", \"Count\": 3086}, {\"Topic\": \"Linux\", \"Count\": 2925}, {\"Topic\": \"Computer science\", \"Count\": 2707}, {\"Topic\": \"Innovation\", \"Count\": 2684}, {\"Topic\": \"Science\", \"Count\": 2598}, {\"Topic\": \"Machine learning\", \"Count\": 2592}, {\"Topic\": \"Productivity\", \"Count\": 2582}, {\"Topic\": \"Open-source\", \"Count\": 2566}, {\"Topic\": \"Social media\", \"Count\": 2540}, {\"Topic\": \"Cloud computing\", \"Count\": 2519}, {\"Topic\": \"Privacy\", \"Count\": 2483}]}}, {\"mode\": \"vega-lite\"});\n",
       "</script>"
      ],
      "text/plain": [
       "alt.LayerChart(...)"
      ]
     },
     "execution_count": 80,
     "metadata": {},
     "output_type": "execute_result"
    }
   ],
   "source": [
    "from itertools import chain, islice\n",
    "\n",
    "import altair as alt\n",
    "import pandas as pd\n",
    "\n",
    "alt.renderers.enable('html')\n",
    "\n",
    "from altair_theme import THEME\n",
    "alt.themes.register('ob', lambda: THEME)\n",
    "alt.themes.enable('ob')\n",
    "\n",
    "#alt.themes.enable('fivethirtyeight')\n",
    "#theme = alt.themes.get()\n",
    "#theme['config']['background'] = 'black'\n",
    "\n",
    "c = Counter(all_topics())\n",
    "df = pd.DataFrame(c.most_common(20), columns=['Topic', 'Count'])\n",
    "print('top %', sum(v for k, v in c.most_common(20)) / sum(c.values()))\n",
    "\n",
    "base = alt.Chart(df).encode(\n",
    "    x=alt.X('Count', title=\"Number of posts\"),\n",
    "    y=alt.Y(\"Topic\").sort('-x'),\n",
    "    text='Count',\n",
    "\n",
    ").properties(width=1000, height=900)\n",
    "chart = base.mark_bar() + base.mark_text(align='left', dx=5, fontSize=22)\n",
    "chart.configure(axis=alt.AxisConfig(labelFontSize=22, titleFontSize=22),\n",
    "                padding=40)"
   ]
  },
  {
   "cell_type": "code",
   "execution_count": 73,
   "metadata": {},
   "outputs": [
    {
     "data": {
      "text/plain": [
       "frozenset({'Ai',\n",
       "           'Artificial intelligence',\n",
       "           'Chatgpt',\n",
       "           'Layoffs',\n",
       "           'Machine learning',\n",
       "           'Natural language processing',\n",
       "           'Open source',\n",
       "           'Software development',\n",
       "           'Technology',\n",
       "           'Web development'})"
      ]
     },
     "execution_count": 73,
     "metadata": {},
     "output_type": "execute_result"
    }
   ],
   "source": [
    "from datetime import datetime\n",
    "cutoff = datetime(2022, 1, 1).timestamp()\n",
    "old = {post_id for post_id, t in post_times.items() if t < cutoff}\n",
    "new = {post_id for post_id, t in post_times.items() if t >= cutoff}\n",
    "\n",
    "old_topics = Counter(all_topics(old))\n",
    "new_topics = Counter(all_topics(new))\n",
    "\n",
    "diff = []\n",
    "for topic in set(old_topics).union(new_topics):\n",
    "    old_f = old_topics.get(topic, 0)\n",
    "    new_f = new_topics.get(topic, 0)\n",
    "    if old_f + new_f < 100:\n",
    "        continue\n",
    "    diff.append((old_f / len(old) - new_f / len(new), topic))\n",
    "\n",
    "diff.sort()\n",
    "\n",
    "up_topics = frozenset(t for _, t in diff[:10])\n",
    "down_topics = frozenset(t for _, t in diff[-10:])\n",
    "up_topics"
   ]
  },
  {
   "cell_type": "code",
   "execution_count": 74,
   "metadata": {},
   "outputs": [],
   "source": [
    "from datetime import datetime\n",
    "import pandas as pd\n",
    "\n",
    "CUTOFF = datetime(2023, 6, 1).timestamp()\n",
    "\n",
    "def timeseries(toi):\n",
    "    days = {t: Counter() for t in toi}\n",
    "    for post_id, tstamp in post_times.items():\n",
    "        if tstamp < CUTOFF and post_id in topics:\n",
    "            for t in topics[post_id]:      \n",
    "                if t in toi:\n",
    "                    day = datetime.fromtimestamp(tstamp).replace(day=1, hour=0, minute=0, second=0)\n",
    "                    days[t][day] += 1\n",
    "    dfdata = []\n",
    "    for t, series in days.items():\n",
    "        for day, count in series.items():\n",
    "            dfdata.append({'topic': t, 'date': day, 'posts': count})  \n",
    "    return pd.DataFrame(dfdata)"
   ]
  },
  {
   "cell_type": "code",
   "execution_count": 75,
   "metadata": {},
   "outputs": [],
   "source": [
    "def timeseries_chart(df, enable_legend=True):\n",
    "    if enable_legend:\n",
    "        legend = alt.Legend(\n",
    "                legendX=100,\n",
    "                legendY=40,\n",
    "                direction='horizontal',\n",
    "                orient='top',\n",
    "                labelFontSize=22,\n",
    "                title='',\n",
    "        )\n",
    "    else:\n",
    "        legend = None\n",
    "    base = alt.Chart(df).encode(\n",
    "        color=alt.Color(\"topic\", legend=legend)\n",
    "    )\n",
    "    line = base.mark_line().encode(x=\"date\", y=\"posts\")\n",
    "    last_dot = base.mark_circle().encode(\n",
    "       alt.X(\"last_date['date']:T\"),\n",
    "       alt.Y(\"last_date['posts']:Q\")\n",
    "    ).transform_aggregate(\n",
    "        last_date=\"argmax(date)\",\n",
    "        groupby=[\"topic\"]\n",
    "    )\n",
    "    topic_name = last_dot.mark_text(align=\"left\", dx=4, fontSize=20).encode(text=\"topic\")\n",
    "    chart = (line + last_dot + topic_name).encode(\n",
    "        x=alt.X(axis=alt.Axis(title='')).title(\"date\"),\n",
    "        y=alt.Y().title(\"posts\")\n",
    "    ).properties(width=1000, height=900)\\\n",
    "     .configure(axis=alt.AxisConfig(labelFontSize=22, titleFontSize=22),\n",
    "                padding=40)\n",
    "    return chart"
   ]
  },
  {
   "cell_type": "code",
   "execution_count": 76,
   "metadata": {},
   "outputs": [
    {
     "data": {
      "text/html": [
       "\n",
       "<style>\n",
       "  #altair-viz-ec552a0b03024820b62d05a0940bd55e.vega-embed {\n",
       "    width: 100%;\n",
       "    display: flex;\n",
       "  }\n",
       "\n",
       "  #altair-viz-ec552a0b03024820b62d05a0940bd55e.vega-embed details,\n",
       "  #altair-viz-ec552a0b03024820b62d05a0940bd55e.vega-embed details summary {\n",
       "    position: relative;\n",
       "  }\n",
       "</style>\n",
       "<div id=\"altair-viz-ec552a0b03024820b62d05a0940bd55e\"></div>\n",
       "<script type=\"text/javascript\">\n",
       "  var VEGA_DEBUG = (typeof VEGA_DEBUG == \"undefined\") ? {} : VEGA_DEBUG;\n",
       "  (function(spec, embedOpt){\n",
       "    let outputDiv = document.currentScript.previousElementSibling;\n",
       "    if (outputDiv.id !== \"altair-viz-ec552a0b03024820b62d05a0940bd55e\") {\n",
       "      outputDiv = document.getElementById(\"altair-viz-ec552a0b03024820b62d05a0940bd55e\");\n",
       "    }\n",
       "    const paths = {\n",
       "      \"vega\": \"https://cdn.jsdelivr.net/npm/vega@5?noext\",\n",
       "      \"vega-lib\": \"https://cdn.jsdelivr.net/npm/vega-lib?noext\",\n",
       "      \"vega-lite\": \"https://cdn.jsdelivr.net/npm/vega-lite@5.17.0?noext\",\n",
       "      \"vega-embed\": \"https://cdn.jsdelivr.net/npm/vega-embed@6?noext\",\n",
       "    };\n",
       "\n",
       "    function maybeLoadScript(lib, version) {\n",
       "      var key = `${lib.replace(\"-\", \"\")}_version`;\n",
       "      return (VEGA_DEBUG[key] == version) ?\n",
       "        Promise.resolve(paths[lib]) :\n",
       "        new Promise(function(resolve, reject) {\n",
       "          var s = document.createElement('script');\n",
       "          document.getElementsByTagName(\"head\")[0].appendChild(s);\n",
       "          s.async = true;\n",
       "          s.onload = () => {\n",
       "            VEGA_DEBUG[key] = version;\n",
       "            return resolve(paths[lib]);\n",
       "          };\n",
       "          s.onerror = () => reject(`Error loading script: ${paths[lib]}`);\n",
       "          s.src = paths[lib];\n",
       "        });\n",
       "    }\n",
       "\n",
       "    function showError(err) {\n",
       "      outputDiv.innerHTML = `<div class=\"error\" style=\"color:red;\">${err}</div>`;\n",
       "      throw err;\n",
       "    }\n",
       "\n",
       "    function displayChart(vegaEmbed) {\n",
       "      vegaEmbed(outputDiv, spec, embedOpt)\n",
       "        .catch(err => showError(`Javascript Error: ${err.message}<br>This usually means there's a typo in your chart specification. See the javascript console for the full traceback.`));\n",
       "    }\n",
       "\n",
       "    if(typeof define === \"function\" && define.amd) {\n",
       "      requirejs.config({paths});\n",
       "      require([\"vega-embed\"], displayChart, err => showError(`Error loading script: ${err.message}`));\n",
       "    } else {\n",
       "      maybeLoadScript(\"vega\", \"5\")\n",
       "        .then(() => maybeLoadScript(\"vega-lite\", \"5.17.0\"))\n",
       "        .then(() => maybeLoadScript(\"vega-embed\", \"6\"))\n",
       "        .catch(showError)\n",
       "        .then(() => displayChart(vegaEmbed));\n",
       "    }\n",
       "  })({\"arc\": {\"fill\": \"#30a2da\"}, \"area\": {\"fill\": \"#30a2da\"}, \"axis\": {\"domainColor\": \"#cbcbcb\", \"grid\": true, \"gridColor\": \"#cbcbcb\", \"gridWidth\": 1, \"labelColor\": \"#999\", \"labelFontSize\": 24, \"labelPadding\": 4, \"tickColor\": \"#cbcbcb\", \"tickSize\": 10, \"titleColor\": \"#333\", \"titleFontSize\": 24, \"titlePadding\": 10}, \"axisBand\": {\"grid\": false}, \"background\": \"#faf8f4\", \"bar\": {\"binSpacing\": 2, \"fill\": \"#30a2da\", \"stroke\": null}, \"group\": {\"fill\": \"#f0f0f0\"}, \"legend\": {\"labelColor\": \"#333\", \"labelFontSize\": 14, \"padding\": 1, \"symbolSize\": 30, \"symbolType\": \"square\", \"titleColor\": \"#333\", \"titleFontSize\": 16, \"titlePadding\": 20}, \"line\": {\"stroke\": \"#30a2da\", \"strokeWidth\": 2}, \"path\": {\"stroke\": \"#30a2da\", \"strokeWidth\": 0.5}, \"point\": {\"filled\": true, \"shape\": \"circle\"}, \"range\": {\"category\": [\"#30a2da\", \"#fc4f30\", \"#e5ae38\", \"#6d904f\", \"#8b8b8b\", \"#b96db8\", \"#ff9e27\", \"#56cc60\", \"#52d2ca\", \"#52689e\", \"#545454\", \"#9fe4f8\"], \"diverging\": [\"#cc0020\", \"#e77866\", \"#f6e7e1\", \"#d6e8ed\", \"#91bfd9\", \"#1d78b5\"], \"heatmap\": [\"#d6e8ed\", \"#cee0e5\", \"#91bfd9\", \"#549cc6\", \"#1d78b5\"]}, \"rect\": {\"fill\": \"#30a2da\"}, \"shape\": {\"stroke\": \"#30a2da\"}, \"title\": {\"anchor\": \"start\", \"fontSize\": 24, \"fontWeight\": 400, \"offset\": 20}, \"layer\": [{\"mark\": {\"type\": \"line\"}, \"encoding\": {\"color\": {\"field\": \"topic\", \"legend\": null, \"type\": \"nominal\"}, \"x\": {\"field\": \"date\", \"type\": \"temporal\"}, \"y\": {\"field\": \"posts\", \"type\": \"quantitative\"}}}, {\"mark\": {\"type\": \"circle\"}, \"encoding\": {\"color\": {\"field\": \"topic\", \"legend\": null, \"type\": \"nominal\"}, \"x\": {\"field\": \"last_date['date']\", \"type\": \"temporal\"}, \"y\": {\"field\": \"last_date['posts']\", \"type\": \"quantitative\"}}, \"transform\": [{\"aggregate\": [{\"op\": \"argmax\", \"field\": \"date\", \"as\": \"last_date\"}], \"groupby\": [\"topic\"]}]}, {\"mark\": {\"type\": \"text\", \"align\": \"left\", \"dx\": 4, \"fontSize\": 20}, \"encoding\": {\"color\": {\"field\": \"topic\", \"legend\": null, \"type\": \"nominal\"}, \"text\": {\"field\": \"topic\", \"type\": \"nominal\"}, \"x\": {\"field\": \"last_date['date']\", \"type\": \"temporal\"}, \"y\": {\"field\": \"last_date['posts']\", \"type\": \"quantitative\"}}, \"transform\": [{\"aggregate\": [{\"op\": \"argmax\", \"field\": \"date\", \"as\": \"last_date\"}], \"groupby\": [\"topic\"]}]}], \"config\": {\"axis\": {\"labelFontSize\": 22, \"titleFontSize\": 22}, \"padding\": 40}, \"data\": {\"name\": \"data-3b5fe5b2c1c3d700e68f9bdcdcfa1193\"}, \"encoding\": {\"x\": {\"axis\": {\"title\": \"\"}, \"title\": \"date\"}, \"y\": {\"title\": \"posts\"}}, \"height\": 900, \"width\": 1000, \"$schema\": \"https://vega.github.io/schema/vega-lite/v5.17.0.json\", \"datasets\": {\"data-3b5fe5b2c1c3d700e68f9bdcdcfa1193\": [{\"topic\": \"Artificial intelligence\", \"date\": \"2020-03-01T00:00:00\", \"posts\": 37}, {\"topic\": \"Artificial intelligence\", \"date\": \"2023-01-01T00:00:00\", \"posts\": 138}, {\"topic\": \"Artificial intelligence\", \"date\": \"2023-03-01T00:00:00\", \"posts\": 274}, {\"topic\": \"Artificial intelligence\", \"date\": \"2021-12-01T00:00:00\", \"posts\": 79}, {\"topic\": \"Artificial intelligence\", \"date\": \"2021-11-01T00:00:00\", \"posts\": 57}, {\"topic\": \"Artificial intelligence\", \"date\": \"2022-07-01T00:00:00\", \"posts\": 82}, {\"topic\": \"Artificial intelligence\", \"date\": \"2022-05-01T00:00:00\", \"posts\": 83}, {\"topic\": \"Artificial intelligence\", \"date\": \"2020-07-01T00:00:00\", \"posts\": 73}, {\"topic\": \"Artificial intelligence\", \"date\": \"2023-02-01T00:00:00\", \"posts\": 192}, {\"topic\": \"Artificial intelligence\", \"date\": \"2022-11-01T00:00:00\", \"posts\": 90}, {\"topic\": \"Artificial intelligence\", \"date\": \"2020-09-01T00:00:00\", \"posts\": 64}, {\"topic\": \"Artificial intelligence\", \"date\": \"2023-04-01T00:00:00\", \"posts\": 295}, {\"topic\": \"Artificial intelligence\", \"date\": \"2023-05-01T00:00:00\", \"posts\": 243}, {\"topic\": \"Artificial intelligence\", \"date\": \"2021-03-01T00:00:00\", \"posts\": 89}, {\"topic\": \"Artificial intelligence\", \"date\": \"2021-07-01T00:00:00\", \"posts\": 94}, {\"topic\": \"Artificial intelligence\", \"date\": \"2020-10-01T00:00:00\", \"posts\": 73}, {\"topic\": \"Artificial intelligence\", \"date\": \"2021-08-01T00:00:00\", \"posts\": 78}, {\"topic\": \"Artificial intelligence\", \"date\": \"2022-08-01T00:00:00\", \"posts\": 80}, {\"topic\": \"Artificial intelligence\", \"date\": \"2022-12-01T00:00:00\", \"posts\": 112}, {\"topic\": \"Artificial intelligence\", \"date\": \"2022-03-01T00:00:00\", \"posts\": 54}, {\"topic\": \"Artificial intelligence\", \"date\": \"2020-05-01T00:00:00\", \"posts\": 53}, {\"topic\": \"Artificial intelligence\", \"date\": \"2021-02-01T00:00:00\", \"posts\": 61}, {\"topic\": \"Artificial intelligence\", \"date\": \"2021-10-01T00:00:00\", \"posts\": 68}, {\"topic\": \"Artificial intelligence\", \"date\": \"2020-01-01T00:00:00\", \"posts\": 74}, {\"topic\": \"Artificial intelligence\", \"date\": \"2020-11-01T00:00:00\", \"posts\": 46}, {\"topic\": \"Artificial intelligence\", \"date\": \"2022-09-01T00:00:00\", \"posts\": 99}, {\"topic\": \"Artificial intelligence\", \"date\": \"2021-09-01T00:00:00\", \"posts\": 73}, {\"topic\": \"Artificial intelligence\", \"date\": \"2020-04-01T00:00:00\", \"posts\": 58}, {\"topic\": \"Artificial intelligence\", \"date\": \"2021-05-01T00:00:00\", \"posts\": 81}, {\"topic\": \"Artificial intelligence\", \"date\": \"2021-04-01T00:00:00\", \"posts\": 65}, {\"topic\": \"Artificial intelligence\", \"date\": \"2022-01-01T00:00:00\", \"posts\": 48}, {\"topic\": \"Artificial intelligence\", \"date\": \"2021-06-01T00:00:00\", \"posts\": 56}, {\"topic\": \"Artificial intelligence\", \"date\": \"2022-10-01T00:00:00\", \"posts\": 92}, {\"topic\": \"Artificial intelligence\", \"date\": \"2021-01-01T00:00:00\", \"posts\": 55}, {\"topic\": \"Artificial intelligence\", \"date\": \"2022-04-01T00:00:00\", \"posts\": 72}, {\"topic\": \"Artificial intelligence\", \"date\": \"2020-12-01T00:00:00\", \"posts\": 69}, {\"topic\": \"Artificial intelligence\", \"date\": \"2020-06-01T00:00:00\", \"posts\": 66}, {\"topic\": \"Artificial intelligence\", \"date\": \"2020-08-01T00:00:00\", \"posts\": 75}, {\"topic\": \"Artificial intelligence\", \"date\": \"2022-06-01T00:00:00\", \"posts\": 76}, {\"topic\": \"Artificial intelligence\", \"date\": \"2022-02-01T00:00:00\", \"posts\": 64}, {\"topic\": \"Artificial intelligence\", \"date\": \"2020-02-01T00:00:00\", \"posts\": 52}, {\"topic\": \"Machine learning\", \"date\": \"2020-03-01T00:00:00\", \"posts\": 33}, {\"topic\": \"Machine learning\", \"date\": \"2023-01-01T00:00:00\", \"posts\": 89}, {\"topic\": \"Machine learning\", \"date\": \"2023-03-01T00:00:00\", \"posts\": 153}, {\"topic\": \"Machine learning\", \"date\": \"2020-09-01T00:00:00\", \"posts\": 57}, {\"topic\": \"Machine learning\", \"date\": \"2021-11-01T00:00:00\", \"posts\": 51}, {\"topic\": \"Machine learning\", \"date\": \"2022-07-01T00:00:00\", \"posts\": 61}, {\"topic\": \"Machine learning\", \"date\": \"2020-07-01T00:00:00\", \"posts\": 64}, {\"topic\": \"Machine learning\", \"date\": \"2021-12-01T00:00:00\", \"posts\": 62}, {\"topic\": \"Machine learning\", \"date\": \"2021-10-01T00:00:00\", \"posts\": 55}, {\"topic\": \"Machine learning\", \"date\": \"2021-03-01T00:00:00\", \"posts\": 61}, {\"topic\": \"Machine learning\", \"date\": \"2022-03-01T00:00:00\", \"posts\": 56}, {\"topic\": \"Machine learning\", \"date\": \"2022-05-01T00:00:00\", \"posts\": 56}, {\"topic\": \"Machine learning\", \"date\": \"2022-11-01T00:00:00\", \"posts\": 58}, {\"topic\": \"Machine learning\", \"date\": \"2021-08-01T00:00:00\", \"posts\": 52}, {\"topic\": \"Machine learning\", \"date\": \"2020-06-01T00:00:00\", \"posts\": 53}, {\"topic\": \"Machine learning\", \"date\": \"2020-05-01T00:00:00\", \"posts\": 48}, {\"topic\": \"Machine learning\", \"date\": \"2021-02-01T00:00:00\", \"posts\": 44}, {\"topic\": \"Machine learning\", \"date\": \"2023-04-01T00:00:00\", \"posts\": 158}, {\"topic\": \"Machine learning\", \"date\": \"2022-01-01T00:00:00\", \"posts\": 47}, {\"topic\": \"Machine learning\", \"date\": \"2022-09-01T00:00:00\", \"posts\": 71}, {\"topic\": \"Machine learning\", \"date\": \"2020-01-01T00:00:00\", \"posts\": 50}, {\"topic\": \"Machine learning\", \"date\": \"2022-04-01T00:00:00\", \"posts\": 60}, {\"topic\": \"Machine learning\", \"date\": \"2020-10-01T00:00:00\", \"posts\": 60}, {\"topic\": \"Machine learning\", \"date\": \"2021-09-01T00:00:00\", \"posts\": 65}, {\"topic\": \"Machine learning\", \"date\": \"2020-02-01T00:00:00\", \"posts\": 44}, {\"topic\": \"Machine learning\", \"date\": \"2021-01-01T00:00:00\", \"posts\": 44}, {\"topic\": \"Machine learning\", \"date\": \"2020-08-01T00:00:00\", \"posts\": 61}, {\"topic\": \"Machine learning\", \"date\": \"2022-10-01T00:00:00\", \"posts\": 62}, {\"topic\": \"Machine learning\", \"date\": \"2023-02-01T00:00:00\", \"posts\": 86}, {\"topic\": \"Machine learning\", \"date\": \"2020-12-01T00:00:00\", \"posts\": 50}, {\"topic\": \"Machine learning\", \"date\": \"2022-08-01T00:00:00\", \"posts\": 51}, {\"topic\": \"Machine learning\", \"date\": \"2022-06-01T00:00:00\", \"posts\": 65}, {\"topic\": \"Machine learning\", \"date\": \"2021-06-01T00:00:00\", \"posts\": 51}, {\"topic\": \"Machine learning\", \"date\": \"2023-05-01T00:00:00\", \"posts\": 125}, {\"topic\": \"Machine learning\", \"date\": \"2022-12-01T00:00:00\", \"posts\": 78}, {\"topic\": \"Machine learning\", \"date\": \"2020-04-01T00:00:00\", \"posts\": 43}, {\"topic\": \"Machine learning\", \"date\": \"2021-07-01T00:00:00\", \"posts\": 69}, {\"topic\": \"Machine learning\", \"date\": \"2022-02-01T00:00:00\", \"posts\": 47}, {\"topic\": \"Machine learning\", \"date\": \"2020-11-01T00:00:00\", \"posts\": 43}, {\"topic\": \"Machine learning\", \"date\": \"2021-05-01T00:00:00\", \"posts\": 52}, {\"topic\": \"Machine learning\", \"date\": \"2021-04-01T00:00:00\", \"posts\": 38}, {\"topic\": \"Open source\", \"date\": \"2020-07-01T00:00:00\", \"posts\": 117}, {\"topic\": \"Open source\", \"date\": \"2021-10-01T00:00:00\", \"posts\": 127}, {\"topic\": \"Open source\", \"date\": \"2021-11-01T00:00:00\", \"posts\": 146}, {\"topic\": \"Open source\", \"date\": \"2021-01-01T00:00:00\", \"posts\": 177}, {\"topic\": \"Open source\", \"date\": \"2022-01-01T00:00:00\", \"posts\": 163}, {\"topic\": \"Open source\", \"date\": \"2022-09-01T00:00:00\", \"posts\": 154}, {\"topic\": \"Open source\", \"date\": \"2023-03-01T00:00:00\", \"posts\": 162}, {\"topic\": \"Open source\", \"date\": \"2022-04-01T00:00:00\", \"posts\": 163}, {\"topic\": \"Open source\", \"date\": \"2021-03-01T00:00:00\", \"posts\": 158}, {\"topic\": \"Open source\", \"date\": \"2022-12-01T00:00:00\", \"posts\": 156}, {\"topic\": \"Open source\", \"date\": \"2022-11-01T00:00:00\", \"posts\": 183}, {\"topic\": \"Open source\", \"date\": \"2022-08-01T00:00:00\", \"posts\": 141}, {\"topic\": \"Open source\", \"date\": \"2021-04-01T00:00:00\", \"posts\": 146}, {\"topic\": \"Open source\", \"date\": \"2021-08-01T00:00:00\", \"posts\": 133}, {\"topic\": \"Open source\", \"date\": \"2023-05-01T00:00:00\", \"posts\": 154}, {\"topic\": \"Open source\", \"date\": \"2021-05-01T00:00:00\", \"posts\": 145}, {\"topic\": \"Open source\", \"date\": \"2020-03-01T00:00:00\", \"posts\": 127}, {\"topic\": \"Open source\", \"date\": \"2021-12-01T00:00:00\", \"posts\": 172}, {\"topic\": \"Open source\", \"date\": \"2022-03-01T00:00:00\", \"posts\": 158}, {\"topic\": \"Open source\", \"date\": \"2020-08-01T00:00:00\", \"posts\": 149}, {\"topic\": \"Open source\", \"date\": \"2022-05-01T00:00:00\", \"posts\": 175}, {\"topic\": \"Open source\", \"date\": \"2020-04-01T00:00:00\", \"posts\": 134}, {\"topic\": \"Open source\", \"date\": \"2022-10-01T00:00:00\", \"posts\": 158}, {\"topic\": \"Open source\", \"date\": \"2020-09-01T00:00:00\", \"posts\": 157}, {\"topic\": \"Open source\", \"date\": \"2021-02-01T00:00:00\", \"posts\": 147}, {\"topic\": \"Open source\", \"date\": \"2020-10-01T00:00:00\", \"posts\": 137}, {\"topic\": \"Open source\", \"date\": \"2022-07-01T00:00:00\", \"posts\": 134}, {\"topic\": \"Open source\", \"date\": \"2020-12-01T00:00:00\", \"posts\": 142}, {\"topic\": \"Open source\", \"date\": \"2020-11-01T00:00:00\", \"posts\": 144}, {\"topic\": \"Open source\", \"date\": \"2020-01-01T00:00:00\", \"posts\": 121}, {\"topic\": \"Open source\", \"date\": \"2023-04-01T00:00:00\", \"posts\": 147}, {\"topic\": \"Open source\", \"date\": \"2021-06-01T00:00:00\", \"posts\": 124}, {\"topic\": \"Open source\", \"date\": \"2020-05-01T00:00:00\", \"posts\": 141}, {\"topic\": \"Open source\", \"date\": \"2021-09-01T00:00:00\", \"posts\": 160}, {\"topic\": \"Open source\", \"date\": \"2021-07-01T00:00:00\", \"posts\": 151}, {\"topic\": \"Open source\", \"date\": \"2023-02-01T00:00:00\", \"posts\": 156}, {\"topic\": \"Open source\", \"date\": \"2020-06-01T00:00:00\", \"posts\": 136}, {\"topic\": \"Open source\", \"date\": \"2022-02-01T00:00:00\", \"posts\": 150}, {\"topic\": \"Open source\", \"date\": \"2023-01-01T00:00:00\", \"posts\": 149}, {\"topic\": \"Open source\", \"date\": \"2022-06-01T00:00:00\", \"posts\": 145}, {\"topic\": \"Open source\", \"date\": \"2020-02-01T00:00:00\", \"posts\": 113}, {\"topic\": \"Technology\", \"date\": \"2020-07-01T00:00:00\", \"posts\": 314}, {\"topic\": \"Technology\", \"date\": \"2023-03-01T00:00:00\", \"posts\": 463}, {\"topic\": \"Technology\", \"date\": \"2022-07-01T00:00:00\", \"posts\": 343}, {\"topic\": \"Technology\", \"date\": \"2022-04-01T00:00:00\", \"posts\": 273}, {\"topic\": \"Technology\", \"date\": \"2021-12-01T00:00:00\", \"posts\": 304}, {\"topic\": \"Technology\", \"date\": \"2020-10-01T00:00:00\", \"posts\": 323}, {\"topic\": \"Technology\", \"date\": \"2022-02-01T00:00:00\", \"posts\": 336}, {\"topic\": \"Technology\", \"date\": \"2020-09-01T00:00:00\", \"posts\": 305}, {\"topic\": \"Technology\", \"date\": \"2022-05-01T00:00:00\", \"posts\": 321}, {\"topic\": \"Technology\", \"date\": \"2021-09-01T00:00:00\", \"posts\": 350}, {\"topic\": \"Technology\", \"date\": \"2022-10-01T00:00:00\", \"posts\": 385}, {\"topic\": \"Technology\", \"date\": \"2023-02-01T00:00:00\", \"posts\": 404}, {\"topic\": \"Technology\", \"date\": \"2020-03-01T00:00:00\", \"posts\": 274}, {\"topic\": \"Technology\", \"date\": \"2021-05-01T00:00:00\", \"posts\": 363}, {\"topic\": \"Technology\", \"date\": \"2022-06-01T00:00:00\", \"posts\": 304}, {\"topic\": \"Technology\", \"date\": \"2021-08-01T00:00:00\", \"posts\": 397}, {\"topic\": \"Technology\", \"date\": \"2020-05-01T00:00:00\", \"posts\": 315}, {\"topic\": \"Technology\", \"date\": \"2021-01-01T00:00:00\", \"posts\": 398}, {\"topic\": \"Technology\", \"date\": \"2022-11-01T00:00:00\", \"posts\": 358}, {\"topic\": \"Technology\", \"date\": \"2020-12-01T00:00:00\", \"posts\": 348}, {\"topic\": \"Technology\", \"date\": \"2023-04-01T00:00:00\", \"posts\": 407}, {\"topic\": \"Technology\", \"date\": \"2023-01-01T00:00:00\", \"posts\": 406}, {\"topic\": \"Technology\", \"date\": \"2022-03-01T00:00:00\", \"posts\": 322}, {\"topic\": \"Technology\", \"date\": \"2023-05-01T00:00:00\", \"posts\": 433}, {\"topic\": \"Technology\", \"date\": \"2021-11-01T00:00:00\", \"posts\": 339}, {\"topic\": \"Technology\", \"date\": \"2020-04-01T00:00:00\", \"posts\": 291}, {\"topic\": \"Technology\", \"date\": \"2020-11-01T00:00:00\", \"posts\": 292}, {\"topic\": \"Technology\", \"date\": \"2021-07-01T00:00:00\", \"posts\": 338}, {\"topic\": \"Technology\", \"date\": \"2021-02-01T00:00:00\", \"posts\": 331}, {\"topic\": \"Technology\", \"date\": \"2020-08-01T00:00:00\", \"posts\": 336}, {\"topic\": \"Technology\", \"date\": \"2021-03-01T00:00:00\", \"posts\": 323}, {\"topic\": \"Technology\", \"date\": \"2021-10-01T00:00:00\", \"posts\": 374}, {\"topic\": \"Technology\", \"date\": \"2020-01-01T00:00:00\", \"posts\": 280}, {\"topic\": \"Technology\", \"date\": \"2020-06-01T00:00:00\", \"posts\": 359}, {\"topic\": \"Technology\", \"date\": \"2022-09-01T00:00:00\", \"posts\": 358}, {\"topic\": \"Technology\", \"date\": \"2022-08-01T00:00:00\", \"posts\": 334}, {\"topic\": \"Technology\", \"date\": \"2020-02-01T00:00:00\", \"posts\": 288}, {\"topic\": \"Technology\", \"date\": \"2022-01-01T00:00:00\", \"posts\": 323}, {\"topic\": \"Technology\", \"date\": \"2022-12-01T00:00:00\", \"posts\": 352}, {\"topic\": \"Technology\", \"date\": \"2021-04-01T00:00:00\", \"posts\": 397}, {\"topic\": \"Technology\", \"date\": \"2021-06-01T00:00:00\", \"posts\": 322}, {\"topic\": \"Web development\", \"date\": \"2020-01-01T00:00:00\", \"posts\": 67}, {\"topic\": \"Web development\", \"date\": \"2023-03-01T00:00:00\", \"posts\": 101}, {\"topic\": \"Web development\", \"date\": \"2022-01-01T00:00:00\", \"posts\": 123}, {\"topic\": \"Web development\", \"date\": \"2022-11-01T00:00:00\", \"posts\": 117}, {\"topic\": \"Web development\", \"date\": \"2022-06-01T00:00:00\", \"posts\": 100}, {\"topic\": \"Web development\", \"date\": \"2021-02-01T00:00:00\", \"posts\": 81}, {\"topic\": \"Web development\", \"date\": \"2023-01-01T00:00:00\", \"posts\": 116}, {\"topic\": \"Web development\", \"date\": \"2022-05-01T00:00:00\", \"posts\": 118}, {\"topic\": \"Web development\", \"date\": \"2020-10-01T00:00:00\", \"posts\": 94}, {\"topic\": \"Web development\", \"date\": \"2020-05-01T00:00:00\", \"posts\": 118}, {\"topic\": \"Web development\", \"date\": \"2020-07-01T00:00:00\", \"posts\": 98}, {\"topic\": \"Web development\", \"date\": \"2021-04-01T00:00:00\", \"posts\": 105}, {\"topic\": \"Web development\", \"date\": \"2021-03-01T00:00:00\", \"posts\": 85}, {\"topic\": \"Web development\", \"date\": \"2020-08-01T00:00:00\", \"posts\": 87}, {\"topic\": \"Web development\", \"date\": \"2022-09-01T00:00:00\", \"posts\": 91}, {\"topic\": \"Web development\", \"date\": \"2022-10-01T00:00:00\", \"posts\": 103}, {\"topic\": \"Web development\", \"date\": \"2022-12-01T00:00:00\", \"posts\": 84}, {\"topic\": \"Web development\", \"date\": \"2020-06-01T00:00:00\", \"posts\": 97}, {\"topic\": \"Web development\", \"date\": \"2023-05-01T00:00:00\", \"posts\": 106}, {\"topic\": \"Web development\", \"date\": \"2021-08-01T00:00:00\", \"posts\": 76}, {\"topic\": \"Web development\", \"date\": \"2022-03-01T00:00:00\", \"posts\": 97}, {\"topic\": \"Web development\", \"date\": \"2020-12-01T00:00:00\", \"posts\": 90}, {\"topic\": \"Web development\", \"date\": \"2020-11-01T00:00:00\", \"posts\": 84}, {\"topic\": \"Web development\", \"date\": \"2023-04-01T00:00:00\", \"posts\": 92}, {\"topic\": \"Web development\", \"date\": \"2020-09-01T00:00:00\", \"posts\": 80}, {\"topic\": \"Web development\", \"date\": \"2021-01-01T00:00:00\", \"posts\": 83}, {\"topic\": \"Web development\", \"date\": \"2022-08-01T00:00:00\", \"posts\": 86}, {\"topic\": \"Web development\", \"date\": \"2023-02-01T00:00:00\", \"posts\": 112}, {\"topic\": \"Web development\", \"date\": \"2021-09-01T00:00:00\", \"posts\": 91}, {\"topic\": \"Web development\", \"date\": \"2021-11-01T00:00:00\", \"posts\": 100}, {\"topic\": \"Web development\", \"date\": \"2021-12-01T00:00:00\", \"posts\": 101}, {\"topic\": \"Web development\", \"date\": \"2021-06-01T00:00:00\", \"posts\": 87}, {\"topic\": \"Web development\", \"date\": \"2020-02-01T00:00:00\", \"posts\": 78}, {\"topic\": \"Web development\", \"date\": \"2021-05-01T00:00:00\", \"posts\": 89}, {\"topic\": \"Web development\", \"date\": \"2022-07-01T00:00:00\", \"posts\": 96}, {\"topic\": \"Web development\", \"date\": \"2020-03-01T00:00:00\", \"posts\": 76}, {\"topic\": \"Web development\", \"date\": \"2021-10-01T00:00:00\", \"posts\": 93}, {\"topic\": \"Web development\", \"date\": \"2021-07-01T00:00:00\", \"posts\": 64}, {\"topic\": \"Web development\", \"date\": \"2022-04-01T00:00:00\", \"posts\": 96}, {\"topic\": \"Web development\", \"date\": \"2022-02-01T00:00:00\", \"posts\": 113}, {\"topic\": \"Web development\", \"date\": \"2020-04-01T00:00:00\", \"posts\": 86}, {\"topic\": \"Layoffs\", \"date\": \"2022-11-01T00:00:00\", \"posts\": 65}, {\"topic\": \"Layoffs\", \"date\": \"2022-09-01T00:00:00\", \"posts\": 15}, {\"topic\": \"Layoffs\", \"date\": \"2023-05-01T00:00:00\", \"posts\": 25}, {\"topic\": \"Layoffs\", \"date\": \"2022-06-01T00:00:00\", \"posts\": 15}, {\"topic\": \"Layoffs\", \"date\": \"2022-10-01T00:00:00\", \"posts\": 20}, {\"topic\": \"Layoffs\", \"date\": \"2023-01-01T00:00:00\", \"posts\": 44}, {\"topic\": \"Layoffs\", \"date\": \"2022-04-01T00:00:00\", \"posts\": 6}, {\"topic\": \"Layoffs\", \"date\": \"2023-02-01T00:00:00\", \"posts\": 48}, {\"topic\": \"Layoffs\", \"date\": \"2020-01-01T00:00:00\", \"posts\": 7}, {\"topic\": \"Layoffs\", \"date\": \"2020-04-01T00:00:00\", \"posts\": 21}, {\"topic\": \"Layoffs\", \"date\": \"2020-03-01T00:00:00\", \"posts\": 10}, {\"topic\": \"Layoffs\", \"date\": \"2020-05-01T00:00:00\", \"posts\": 13}, {\"topic\": \"Layoffs\", \"date\": \"2022-07-01T00:00:00\", \"posts\": 18}, {\"topic\": \"Layoffs\", \"date\": \"2023-04-01T00:00:00\", \"posts\": 25}, {\"topic\": \"Layoffs\", \"date\": \"2022-12-01T00:00:00\", \"posts\": 12}, {\"topic\": \"Layoffs\", \"date\": \"2021-01-01T00:00:00\", \"posts\": 4}, {\"topic\": \"Layoffs\", \"date\": \"2022-08-01T00:00:00\", \"posts\": 12}, {\"topic\": \"Layoffs\", \"date\": \"2022-02-01T00:00:00\", \"posts\": 2}, {\"topic\": \"Layoffs\", \"date\": \"2022-05-01T00:00:00\", \"posts\": 6}, {\"topic\": \"Layoffs\", \"date\": \"2020-11-01T00:00:00\", \"posts\": 3}, {\"topic\": \"Layoffs\", \"date\": \"2021-12-01T00:00:00\", \"posts\": 5}, {\"topic\": \"Layoffs\", \"date\": \"2022-01-01T00:00:00\", \"posts\": 3}, {\"topic\": \"Layoffs\", \"date\": \"2023-03-01T00:00:00\", \"posts\": 32}, {\"topic\": \"Layoffs\", \"date\": \"2020-02-01T00:00:00\", \"posts\": 4}, {\"topic\": \"Layoffs\", \"date\": \"2020-08-01T00:00:00\", \"posts\": 7}, {\"topic\": \"Layoffs\", \"date\": \"2022-03-01T00:00:00\", \"posts\": 4}, {\"topic\": \"Layoffs\", \"date\": \"2020-07-01T00:00:00\", \"posts\": 3}, {\"topic\": \"Layoffs\", \"date\": \"2021-08-01T00:00:00\", \"posts\": 5}, {\"topic\": \"Layoffs\", \"date\": \"2021-05-01T00:00:00\", \"posts\": 1}, {\"topic\": \"Layoffs\", \"date\": \"2020-12-01T00:00:00\", \"posts\": 1}, {\"topic\": \"Layoffs\", \"date\": \"2021-06-01T00:00:00\", \"posts\": 2}, {\"topic\": \"Layoffs\", \"date\": \"2020-10-01T00:00:00\", \"posts\": 2}, {\"topic\": \"Layoffs\", \"date\": \"2021-10-01T00:00:00\", \"posts\": 1}, {\"topic\": \"Layoffs\", \"date\": \"2021-07-01T00:00:00\", \"posts\": 1}, {\"topic\": \"Layoffs\", \"date\": \"2020-09-01T00:00:00\", \"posts\": 2}, {\"topic\": \"Layoffs\", \"date\": \"2021-09-01T00:00:00\", \"posts\": 1}, {\"topic\": \"Layoffs\", \"date\": \"2021-03-01T00:00:00\", \"posts\": 1}, {\"topic\": \"Ai\", \"date\": \"2023-03-01T00:00:00\", \"posts\": 95}, {\"topic\": \"Ai\", \"date\": \"2023-05-01T00:00:00\", \"posts\": 78}, {\"topic\": \"Ai\", \"date\": \"2021-10-01T00:00:00\", \"posts\": 8}, {\"topic\": \"Ai\", \"date\": \"2023-01-01T00:00:00\", \"posts\": 43}, {\"topic\": \"Ai\", \"date\": \"2022-03-01T00:00:00\", \"posts\": 13}, {\"topic\": \"Ai\", \"date\": \"2021-05-01T00:00:00\", \"posts\": 3}, {\"topic\": \"Ai\", \"date\": \"2022-09-01T00:00:00\", \"posts\": 27}, {\"topic\": \"Ai\", \"date\": \"2023-02-01T00:00:00\", \"posts\": 58}, {\"topic\": \"Ai\", \"date\": \"2022-11-01T00:00:00\", \"posts\": 24}, {\"topic\": \"Ai\", \"date\": \"2020-08-01T00:00:00\", \"posts\": 13}, {\"topic\": \"Ai\", \"date\": \"2023-04-01T00:00:00\", \"posts\": 76}, {\"topic\": \"Ai\", \"date\": \"2021-01-01T00:00:00\", \"posts\": 13}, {\"topic\": \"Ai\", \"date\": \"2020-01-01T00:00:00\", \"posts\": 3}, {\"topic\": \"Ai\", \"date\": \"2021-12-01T00:00:00\", \"posts\": 9}, {\"topic\": \"Ai\", \"date\": \"2020-10-01T00:00:00\", \"posts\": 12}, {\"topic\": \"Ai\", \"date\": \"2022-12-01T00:00:00\", \"posts\": 36}, {\"topic\": \"Ai\", \"date\": \"2021-08-01T00:00:00\", \"posts\": 17}, {\"topic\": \"Ai\", \"date\": \"2021-06-01T00:00:00\", \"posts\": 9}, {\"topic\": \"Ai\", \"date\": \"2020-12-01T00:00:00\", \"posts\": 14}, {\"topic\": \"Ai\", \"date\": \"2020-04-01T00:00:00\", \"posts\": 9}, {\"topic\": \"Ai\", \"date\": \"2022-10-01T00:00:00\", \"posts\": 20}, {\"topic\": \"Ai\", \"date\": \"2020-02-01T00:00:00\", \"posts\": 15}, {\"topic\": \"Ai\", \"date\": \"2020-09-01T00:00:00\", \"posts\": 20}, {\"topic\": \"Ai\", \"date\": \"2020-06-01T00:00:00\", \"posts\": 10}, {\"topic\": \"Ai\", \"date\": \"2022-07-01T00:00:00\", \"posts\": 14}, {\"topic\": \"Ai\", \"date\": \"2021-03-01T00:00:00\", \"posts\": 15}, {\"topic\": \"Ai\", \"date\": \"2022-06-01T00:00:00\", \"posts\": 11}, {\"topic\": \"Ai\", \"date\": \"2021-02-01T00:00:00\", \"posts\": 8}, {\"topic\": \"Ai\", \"date\": \"2022-02-01T00:00:00\", \"posts\": 5}, {\"topic\": \"Ai\", \"date\": \"2020-11-01T00:00:00\", \"posts\": 8}, {\"topic\": \"Ai\", \"date\": \"2021-11-01T00:00:00\", \"posts\": 6}, {\"topic\": \"Ai\", \"date\": \"2022-05-01T00:00:00\", \"posts\": 12}, {\"topic\": \"Ai\", \"date\": \"2021-04-01T00:00:00\", \"posts\": 9}, {\"topic\": \"Ai\", \"date\": \"2022-08-01T00:00:00\", \"posts\": 19}, {\"topic\": \"Ai\", \"date\": \"2020-03-01T00:00:00\", \"posts\": 11}, {\"topic\": \"Ai\", \"date\": \"2020-05-01T00:00:00\", \"posts\": 12}, {\"topic\": \"Ai\", \"date\": \"2022-01-01T00:00:00\", \"posts\": 9}, {\"topic\": \"Ai\", \"date\": \"2021-09-01T00:00:00\", \"posts\": 4}, {\"topic\": \"Ai\", \"date\": \"2022-04-01T00:00:00\", \"posts\": 13}, {\"topic\": \"Ai\", \"date\": \"2021-07-01T00:00:00\", \"posts\": 10}, {\"topic\": \"Ai\", \"date\": \"2020-07-01T00:00:00\", \"posts\": 10}, {\"topic\": \"Natural language processing\", \"date\": \"2021-11-01T00:00:00\", \"posts\": 8}, {\"topic\": \"Natural language processing\", \"date\": \"2022-07-01T00:00:00\", \"posts\": 11}, {\"topic\": \"Natural language processing\", \"date\": \"2020-07-01T00:00:00\", \"posts\": 23}, {\"topic\": \"Natural language processing\", \"date\": \"2020-09-01T00:00:00\", \"posts\": 13}, {\"topic\": \"Natural language processing\", \"date\": \"2023-03-01T00:00:00\", \"posts\": 75}, {\"topic\": \"Natural language processing\", \"date\": \"2020-05-01T00:00:00\", \"posts\": 13}, {\"topic\": \"Natural language processing\", \"date\": \"2021-12-01T00:00:00\", \"posts\": 15}, {\"topic\": \"Natural language processing\", \"date\": \"2023-04-01T00:00:00\", \"posts\": 68}, {\"topic\": \"Natural language processing\", \"date\": \"2022-01-01T00:00:00\", \"posts\": 13}, {\"topic\": \"Natural language processing\", \"date\": \"2020-01-01T00:00:00\", \"posts\": 9}, {\"topic\": \"Natural language processing\", \"date\": \"2022-12-01T00:00:00\", \"posts\": 26}, {\"topic\": \"Natural language processing\", \"date\": \"2023-05-01T00:00:00\", \"posts\": 68}, {\"topic\": \"Natural language processing\", \"date\": \"2020-12-01T00:00:00\", \"posts\": 5}, {\"topic\": \"Natural language processing\", \"date\": \"2023-01-01T00:00:00\", \"posts\": 36}, {\"topic\": \"Natural language processing\", \"date\": \"2021-07-01T00:00:00\", \"posts\": 10}, {\"topic\": \"Natural language processing\", \"date\": \"2021-01-01T00:00:00\", \"posts\": 5}, {\"topic\": \"Natural language processing\", \"date\": \"2020-08-01T00:00:00\", \"posts\": 18}, {\"topic\": \"Natural language processing\", \"date\": \"2022-05-01T00:00:00\", \"posts\": 13}, {\"topic\": \"Natural language processing\", \"date\": \"2022-04-01T00:00:00\", \"posts\": 14}, {\"topic\": \"Natural language processing\", \"date\": \"2021-08-01T00:00:00\", \"posts\": 8}, {\"topic\": \"Natural language processing\", \"date\": \"2023-02-01T00:00:00\", \"posts\": 34}, {\"topic\": \"Natural language processing\", \"date\": \"2021-02-01T00:00:00\", \"posts\": 9}, {\"topic\": \"Natural language processing\", \"date\": \"2021-09-01T00:00:00\", \"posts\": 9}, {\"topic\": \"Natural language processing\", \"date\": \"2020-10-01T00:00:00\", \"posts\": 9}, {\"topic\": \"Natural language processing\", \"date\": \"2022-11-01T00:00:00\", \"posts\": 18}, {\"topic\": \"Natural language processing\", \"date\": \"2022-10-01T00:00:00\", \"posts\": 16}, {\"topic\": \"Natural language processing\", \"date\": \"2021-05-01T00:00:00\", \"posts\": 12}, {\"topic\": \"Natural language processing\", \"date\": \"2022-06-01T00:00:00\", \"posts\": 14}, {\"topic\": \"Natural language processing\", \"date\": \"2021-10-01T00:00:00\", \"posts\": 11}, {\"topic\": \"Natural language processing\", \"date\": \"2022-02-01T00:00:00\", \"posts\": 8}, {\"topic\": \"Natural language processing\", \"date\": \"2021-04-01T00:00:00\", \"posts\": 3}, {\"topic\": \"Natural language processing\", \"date\": \"2022-09-01T00:00:00\", \"posts\": 13}, {\"topic\": \"Natural language processing\", \"date\": \"2021-06-01T00:00:00\", \"posts\": 10}, {\"topic\": \"Natural language processing\", \"date\": \"2022-08-01T00:00:00\", \"posts\": 8}, {\"topic\": \"Natural language processing\", \"date\": \"2022-03-01T00:00:00\", \"posts\": 16}, {\"topic\": \"Natural language processing\", \"date\": \"2020-11-01T00:00:00\", \"posts\": 2}, {\"topic\": \"Natural language processing\", \"date\": \"2020-03-01T00:00:00\", \"posts\": 7}, {\"topic\": \"Natural language processing\", \"date\": \"2020-06-01T00:00:00\", \"posts\": 7}, {\"topic\": \"Natural language processing\", \"date\": \"2021-03-01T00:00:00\", \"posts\": 4}, {\"topic\": \"Natural language processing\", \"date\": \"2020-04-01T00:00:00\", \"posts\": 8}, {\"topic\": \"Natural language processing\", \"date\": \"2020-02-01T00:00:00\", \"posts\": 6}, {\"topic\": \"Chatgpt\", \"date\": \"2023-03-01T00:00:00\", \"posts\": 74}, {\"topic\": \"Chatgpt\", \"date\": \"2023-05-01T00:00:00\", \"posts\": 63}, {\"topic\": \"Chatgpt\", \"date\": \"2022-12-01T00:00:00\", \"posts\": 39}, {\"topic\": \"Chatgpt\", \"date\": \"2023-02-01T00:00:00\", \"posts\": 75}, {\"topic\": \"Chatgpt\", \"date\": \"2023-04-01T00:00:00\", \"posts\": 68}, {\"topic\": \"Chatgpt\", \"date\": \"2023-01-01T00:00:00\", \"posts\": 49}, {\"topic\": \"Chatgpt\", \"date\": \"2020-04-01T00:00:00\", \"posts\": 1}, {\"topic\": \"Chatgpt\", \"date\": \"2022-06-01T00:00:00\", \"posts\": 1}, {\"topic\": \"Chatgpt\", \"date\": \"2020-02-01T00:00:00\", \"posts\": 1}, {\"topic\": \"Chatgpt\", \"date\": \"2022-08-01T00:00:00\", \"posts\": 1}, {\"topic\": \"Chatgpt\", \"date\": \"2020-06-01T00:00:00\", \"posts\": 1}, {\"topic\": \"Chatgpt\", \"date\": \"2022-11-01T00:00:00\", \"posts\": 1}, {\"topic\": \"Software development\", \"date\": \"2020-07-01T00:00:00\", \"posts\": 113}, {\"topic\": \"Software development\", \"date\": \"2020-08-01T00:00:00\", \"posts\": 126}, {\"topic\": \"Software development\", \"date\": \"2020-01-01T00:00:00\", \"posts\": 128}, {\"topic\": \"Software development\", \"date\": \"2021-05-01T00:00:00\", \"posts\": 155}, {\"topic\": \"Software development\", \"date\": \"2020-03-01T00:00:00\", \"posts\": 111}, {\"topic\": \"Software development\", \"date\": \"2021-11-01T00:00:00\", \"posts\": 139}, {\"topic\": \"Software development\", \"date\": \"2022-05-01T00:00:00\", \"posts\": 161}, {\"topic\": \"Software development\", \"date\": \"2023-03-01T00:00:00\", \"posts\": 166}, {\"topic\": \"Software development\", \"date\": \"2020-09-01T00:00:00\", \"posts\": 140}, {\"topic\": \"Software development\", \"date\": \"2021-12-01T00:00:00\", \"posts\": 130}, {\"topic\": \"Software development\", \"date\": \"2021-01-01T00:00:00\", \"posts\": 152}, {\"topic\": \"Software development\", \"date\": \"2022-08-01T00:00:00\", \"posts\": 150}, {\"topic\": \"Software development\", \"date\": \"2023-05-01T00:00:00\", \"posts\": 141}, {\"topic\": \"Software development\", \"date\": \"2022-01-01T00:00:00\", \"posts\": 149}, {\"topic\": \"Software development\", \"date\": \"2020-05-01T00:00:00\", \"posts\": 130}, {\"topic\": \"Software development\", \"date\": \"2022-03-01T00:00:00\", \"posts\": 167}, {\"topic\": \"Software development\", \"date\": \"2023-02-01T00:00:00\", \"posts\": 168}, {\"topic\": \"Software development\", \"date\": \"2021-02-01T00:00:00\", \"posts\": 149}, {\"topic\": \"Software development\", \"date\": \"2020-12-01T00:00:00\", \"posts\": 144}, {\"topic\": \"Software development\", \"date\": \"2020-06-01T00:00:00\", \"posts\": 124}, {\"topic\": \"Software development\", \"date\": \"2022-09-01T00:00:00\", \"posts\": 164}, {\"topic\": \"Software development\", \"date\": \"2021-06-01T00:00:00\", \"posts\": 142}, {\"topic\": \"Software development\", \"date\": \"2021-04-01T00:00:00\", \"posts\": 135}, {\"topic\": \"Software development\", \"date\": \"2022-02-01T00:00:00\", \"posts\": 140}, {\"topic\": \"Software development\", \"date\": \"2021-10-01T00:00:00\", \"posts\": 143}, {\"topic\": \"Software development\", \"date\": \"2020-02-01T00:00:00\", \"posts\": 102}, {\"topic\": \"Software development\", \"date\": \"2022-06-01T00:00:00\", \"posts\": 149}, {\"topic\": \"Software development\", \"date\": \"2020-11-01T00:00:00\", \"posts\": 133}, {\"topic\": \"Software development\", \"date\": \"2021-03-01T00:00:00\", \"posts\": 153}, {\"topic\": \"Software development\", \"date\": \"2022-11-01T00:00:00\", \"posts\": 143}, {\"topic\": \"Software development\", \"date\": \"2023-04-01T00:00:00\", \"posts\": 134}, {\"topic\": \"Software development\", \"date\": \"2022-12-01T00:00:00\", \"posts\": 151}, {\"topic\": \"Software development\", \"date\": \"2021-07-01T00:00:00\", \"posts\": 132}, {\"topic\": \"Software development\", \"date\": \"2022-04-01T00:00:00\", \"posts\": 148}, {\"topic\": \"Software development\", \"date\": \"2020-04-01T00:00:00\", \"posts\": 136}, {\"topic\": \"Software development\", \"date\": \"2021-09-01T00:00:00\", \"posts\": 129}, {\"topic\": \"Software development\", \"date\": \"2020-10-01T00:00:00\", \"posts\": 129}, {\"topic\": \"Software development\", \"date\": \"2021-08-01T00:00:00\", \"posts\": 152}, {\"topic\": \"Software development\", \"date\": \"2023-01-01T00:00:00\", \"posts\": 161}, {\"topic\": \"Software development\", \"date\": \"2022-10-01T00:00:00\", \"posts\": 134}, {\"topic\": \"Software development\", \"date\": \"2022-07-01T00:00:00\", \"posts\": 141}]}}, {\"mode\": \"vega-lite\"});\n",
       "</script>"
      ],
      "text/plain": [
       "alt.LayerChart(...)"
      ]
     },
     "execution_count": 76,
     "metadata": {},
     "output_type": "execute_result"
    }
   ],
   "source": [
    "timeseries_chart(timeseries(up_topics), enable_legend=False)"
   ]
  },
  {
   "cell_type": "code",
   "execution_count": 77,
   "metadata": {},
   "outputs": [
    {
     "data": {
      "text/html": [
       "\n",
       "<style>\n",
       "  #altair-viz-260fee5188934fe2b8c00c2b4c24ed5e.vega-embed {\n",
       "    width: 100%;\n",
       "    display: flex;\n",
       "  }\n",
       "\n",
       "  #altair-viz-260fee5188934fe2b8c00c2b4c24ed5e.vega-embed details,\n",
       "  #altair-viz-260fee5188934fe2b8c00c2b4c24ed5e.vega-embed details summary {\n",
       "    position: relative;\n",
       "  }\n",
       "</style>\n",
       "<div id=\"altair-viz-260fee5188934fe2b8c00c2b4c24ed5e\"></div>\n",
       "<script type=\"text/javascript\">\n",
       "  var VEGA_DEBUG = (typeof VEGA_DEBUG == \"undefined\") ? {} : VEGA_DEBUG;\n",
       "  (function(spec, embedOpt){\n",
       "    let outputDiv = document.currentScript.previousElementSibling;\n",
       "    if (outputDiv.id !== \"altair-viz-260fee5188934fe2b8c00c2b4c24ed5e\") {\n",
       "      outputDiv = document.getElementById(\"altair-viz-260fee5188934fe2b8c00c2b4c24ed5e\");\n",
       "    }\n",
       "    const paths = {\n",
       "      \"vega\": \"https://cdn.jsdelivr.net/npm/vega@5?noext\",\n",
       "      \"vega-lib\": \"https://cdn.jsdelivr.net/npm/vega-lib?noext\",\n",
       "      \"vega-lite\": \"https://cdn.jsdelivr.net/npm/vega-lite@5.17.0?noext\",\n",
       "      \"vega-embed\": \"https://cdn.jsdelivr.net/npm/vega-embed@6?noext\",\n",
       "    };\n",
       "\n",
       "    function maybeLoadScript(lib, version) {\n",
       "      var key = `${lib.replace(\"-\", \"\")}_version`;\n",
       "      return (VEGA_DEBUG[key] == version) ?\n",
       "        Promise.resolve(paths[lib]) :\n",
       "        new Promise(function(resolve, reject) {\n",
       "          var s = document.createElement('script');\n",
       "          document.getElementsByTagName(\"head\")[0].appendChild(s);\n",
       "          s.async = true;\n",
       "          s.onload = () => {\n",
       "            VEGA_DEBUG[key] = version;\n",
       "            return resolve(paths[lib]);\n",
       "          };\n",
       "          s.onerror = () => reject(`Error loading script: ${paths[lib]}`);\n",
       "          s.src = paths[lib];\n",
       "        });\n",
       "    }\n",
       "\n",
       "    function showError(err) {\n",
       "      outputDiv.innerHTML = `<div class=\"error\" style=\"color:red;\">${err}</div>`;\n",
       "      throw err;\n",
       "    }\n",
       "\n",
       "    function displayChart(vegaEmbed) {\n",
       "      vegaEmbed(outputDiv, spec, embedOpt)\n",
       "        .catch(err => showError(`Javascript Error: ${err.message}<br>This usually means there's a typo in your chart specification. See the javascript console for the full traceback.`));\n",
       "    }\n",
       "\n",
       "    if(typeof define === \"function\" && define.amd) {\n",
       "      requirejs.config({paths});\n",
       "      require([\"vega-embed\"], displayChart, err => showError(`Error loading script: ${err.message}`));\n",
       "    } else {\n",
       "      maybeLoadScript(\"vega\", \"5\")\n",
       "        .then(() => maybeLoadScript(\"vega-lite\", \"5.17.0\"))\n",
       "        .then(() => maybeLoadScript(\"vega-embed\", \"6\"))\n",
       "        .catch(showError)\n",
       "        .then(() => displayChart(vegaEmbed));\n",
       "    }\n",
       "  })({\"arc\": {\"fill\": \"#30a2da\"}, \"area\": {\"fill\": \"#30a2da\"}, \"axis\": {\"domainColor\": \"#cbcbcb\", \"grid\": true, \"gridColor\": \"#cbcbcb\", \"gridWidth\": 1, \"labelColor\": \"#999\", \"labelFontSize\": 24, \"labelPadding\": 4, \"tickColor\": \"#cbcbcb\", \"tickSize\": 10, \"titleColor\": \"#333\", \"titleFontSize\": 24, \"titlePadding\": 10}, \"axisBand\": {\"grid\": false}, \"background\": \"#faf8f4\", \"bar\": {\"binSpacing\": 2, \"fill\": \"#30a2da\", \"stroke\": null}, \"group\": {\"fill\": \"#f0f0f0\"}, \"legend\": {\"labelColor\": \"#333\", \"labelFontSize\": 14, \"padding\": 1, \"symbolSize\": 30, \"symbolType\": \"square\", \"titleColor\": \"#333\", \"titleFontSize\": 16, \"titlePadding\": 20}, \"line\": {\"stroke\": \"#30a2da\", \"strokeWidth\": 2}, \"path\": {\"stroke\": \"#30a2da\", \"strokeWidth\": 0.5}, \"point\": {\"filled\": true, \"shape\": \"circle\"}, \"range\": {\"category\": [\"#30a2da\", \"#fc4f30\", \"#e5ae38\", \"#6d904f\", \"#8b8b8b\", \"#b96db8\", \"#ff9e27\", \"#56cc60\", \"#52d2ca\", \"#52689e\", \"#545454\", \"#9fe4f8\"], \"diverging\": [\"#cc0020\", \"#e77866\", \"#f6e7e1\", \"#d6e8ed\", \"#91bfd9\", \"#1d78b5\"], \"heatmap\": [\"#d6e8ed\", \"#cee0e5\", \"#91bfd9\", \"#549cc6\", \"#1d78b5\"]}, \"rect\": {\"fill\": \"#30a2da\"}, \"shape\": {\"stroke\": \"#30a2da\"}, \"title\": {\"anchor\": \"start\", \"fontSize\": 24, \"fontWeight\": 400, \"offset\": 20}, \"layer\": [{\"mark\": {\"type\": \"line\"}, \"encoding\": {\"color\": {\"field\": \"topic\", \"legend\": {\"direction\": \"horizontal\", \"labelFontSize\": 22, \"legendX\": 100, \"legendY\": 40, \"orient\": \"top\", \"title\": \"\"}, \"type\": \"nominal\"}, \"x\": {\"field\": \"date\", \"type\": \"temporal\"}, \"y\": {\"field\": \"posts\", \"type\": \"quantitative\"}}}, {\"mark\": {\"type\": \"circle\"}, \"encoding\": {\"color\": {\"field\": \"topic\", \"legend\": {\"direction\": \"horizontal\", \"labelFontSize\": 22, \"legendX\": 100, \"legendY\": 40, \"orient\": \"top\", \"title\": \"\"}, \"type\": \"nominal\"}, \"x\": {\"field\": \"last_date['date']\", \"type\": \"temporal\"}, \"y\": {\"field\": \"last_date['posts']\", \"type\": \"quantitative\"}}, \"transform\": [{\"aggregate\": [{\"op\": \"argmax\", \"field\": \"date\", \"as\": \"last_date\"}], \"groupby\": [\"topic\"]}]}, {\"mark\": {\"type\": \"text\", \"align\": \"left\", \"dx\": 4, \"fontSize\": 20}, \"encoding\": {\"color\": {\"field\": \"topic\", \"legend\": {\"direction\": \"horizontal\", \"labelFontSize\": 22, \"legendX\": 100, \"legendY\": 40, \"orient\": \"top\", \"title\": \"\"}, \"type\": \"nominal\"}, \"text\": {\"field\": \"topic\", \"type\": \"nominal\"}, \"x\": {\"field\": \"last_date['date']\", \"type\": \"temporal\"}, \"y\": {\"field\": \"last_date['posts']\", \"type\": \"quantitative\"}}, \"transform\": [{\"aggregate\": [{\"op\": \"argmax\", \"field\": \"date\", \"as\": \"last_date\"}], \"groupby\": [\"topic\"]}]}], \"config\": {\"axis\": {\"labelFontSize\": 22, \"titleFontSize\": 22}, \"padding\": 40}, \"data\": {\"name\": \"data-8634c3fbd3724167043faa9a195f39b7\"}, \"encoding\": {\"x\": {\"axis\": {\"title\": \"\"}, \"title\": \"date\"}, \"y\": {\"title\": \"posts\"}}, \"height\": 900, \"width\": 1000, \"$schema\": \"https://vega.github.io/schema/vega-lite/v5.17.0.json\", \"datasets\": {\"data-8634c3fbd3724167043faa9a195f39b7\": [{\"topic\": \"Surveillance\", \"date\": \"2020-09-01T00:00:00\", \"posts\": 26}, {\"topic\": \"Surveillance\", \"date\": \"2021-08-01T00:00:00\", \"posts\": 77}, {\"topic\": \"Surveillance\", \"date\": \"2021-10-01T00:00:00\", \"posts\": 29}, {\"topic\": \"Surveillance\", \"date\": \"2020-01-01T00:00:00\", \"posts\": 27}, {\"topic\": \"Surveillance\", \"date\": \"2022-08-01T00:00:00\", \"posts\": 28}, {\"topic\": \"Surveillance\", \"date\": \"2022-10-01T00:00:00\", \"posts\": 24}, {\"topic\": \"Surveillance\", \"date\": \"2021-07-01T00:00:00\", \"posts\": 52}, {\"topic\": \"Surveillance\", \"date\": \"2021-12-01T00:00:00\", \"posts\": 32}, {\"topic\": \"Surveillance\", \"date\": \"2023-05-01T00:00:00\", \"posts\": 31}, {\"topic\": \"Surveillance\", \"date\": \"2022-07-01T00:00:00\", \"posts\": 23}, {\"topic\": \"Surveillance\", \"date\": \"2020-06-01T00:00:00\", \"posts\": 36}, {\"topic\": \"Surveillance\", \"date\": \"2020-02-01T00:00:00\", \"posts\": 33}, {\"topic\": \"Surveillance\", \"date\": \"2020-11-01T00:00:00\", \"posts\": 23}, {\"topic\": \"Surveillance\", \"date\": \"2022-12-01T00:00:00\", \"posts\": 30}, {\"topic\": \"Surveillance\", \"date\": \"2021-06-01T00:00:00\", \"posts\": 27}, {\"topic\": \"Surveillance\", \"date\": \"2021-05-01T00:00:00\", \"posts\": 21}, {\"topic\": \"Surveillance\", \"date\": \"2020-08-01T00:00:00\", \"posts\": 31}, {\"topic\": \"Surveillance\", \"date\": \"2020-05-01T00:00:00\", \"posts\": 35}, {\"topic\": \"Surveillance\", \"date\": \"2022-09-01T00:00:00\", \"posts\": 30}, {\"topic\": \"Surveillance\", \"date\": \"2021-11-01T00:00:00\", \"posts\": 22}, {\"topic\": \"Surveillance\", \"date\": \"2021-03-01T00:00:00\", \"posts\": 30}, {\"topic\": \"Surveillance\", \"date\": \"2021-09-01T00:00:00\", \"posts\": 48}, {\"topic\": \"Surveillance\", \"date\": \"2023-03-01T00:00:00\", \"posts\": 28}, {\"topic\": \"Surveillance\", \"date\": \"2022-06-01T00:00:00\", \"posts\": 26}, {\"topic\": \"Surveillance\", \"date\": \"2022-03-01T00:00:00\", \"posts\": 18}, {\"topic\": \"Surveillance\", \"date\": \"2020-04-01T00:00:00\", \"posts\": 32}, {\"topic\": \"Surveillance\", \"date\": \"2021-01-01T00:00:00\", \"posts\": 26}, {\"topic\": \"Surveillance\", \"date\": \"2020-07-01T00:00:00\", \"posts\": 26}, {\"topic\": \"Surveillance\", \"date\": \"2023-02-01T00:00:00\", \"posts\": 36}, {\"topic\": \"Surveillance\", \"date\": \"2021-04-01T00:00:00\", \"posts\": 34}, {\"topic\": \"Surveillance\", \"date\": \"2022-02-01T00:00:00\", \"posts\": 20}, {\"topic\": \"Surveillance\", \"date\": \"2022-11-01T00:00:00\", \"posts\": 18}, {\"topic\": \"Surveillance\", \"date\": \"2020-12-01T00:00:00\", \"posts\": 31}, {\"topic\": \"Surveillance\", \"date\": \"2021-02-01T00:00:00\", \"posts\": 16}, {\"topic\": \"Surveillance\", \"date\": \"2022-04-01T00:00:00\", \"posts\": 17}, {\"topic\": \"Surveillance\", \"date\": \"2023-04-01T00:00:00\", \"posts\": 21}, {\"topic\": \"Surveillance\", \"date\": \"2022-01-01T00:00:00\", \"posts\": 21}, {\"topic\": \"Surveillance\", \"date\": \"2022-05-01T00:00:00\", \"posts\": 17}, {\"topic\": \"Surveillance\", \"date\": \"2020-03-01T00:00:00\", \"posts\": 28}, {\"topic\": \"Surveillance\", \"date\": \"2020-10-01T00:00:00\", \"posts\": 35}, {\"topic\": \"Surveillance\", \"date\": \"2023-01-01T00:00:00\", \"posts\": 26}, {\"topic\": \"Coronavirus\", \"date\": \"2020-06-01T00:00:00\", \"posts\": 25}, {\"topic\": \"Coronavirus\", \"date\": \"2023-03-01T00:00:00\", \"posts\": 1}, {\"topic\": \"Coronavirus\", \"date\": \"2021-06-01T00:00:00\", \"posts\": 8}, {\"topic\": \"Coronavirus\", \"date\": \"2020-03-01T00:00:00\", \"posts\": 285}, {\"topic\": \"Coronavirus\", \"date\": \"2020-04-01T00:00:00\", \"posts\": 149}, {\"topic\": \"Coronavirus\", \"date\": \"2020-02-01T00:00:00\", \"posts\": 37}, {\"topic\": \"Coronavirus\", \"date\": \"2020-05-01T00:00:00\", \"posts\": 90}, {\"topic\": \"Coronavirus\", \"date\": \"2020-11-01T00:00:00\", \"posts\": 28}, {\"topic\": \"Coronavirus\", \"date\": \"2020-07-01T00:00:00\", \"posts\": 36}, {\"topic\": \"Coronavirus\", \"date\": \"2021-09-01T00:00:00\", \"posts\": 21}, {\"topic\": \"Coronavirus\", \"date\": \"2021-07-01T00:00:00\", \"posts\": 12}, {\"topic\": \"Coronavirus\", \"date\": \"2023-02-01T00:00:00\", \"posts\": 3}, {\"topic\": \"Coronavirus\", \"date\": \"2021-01-01T00:00:00\", \"posts\": 15}, {\"topic\": \"Coronavirus\", \"date\": \"2022-10-01T00:00:00\", \"posts\": 4}, {\"topic\": \"Coronavirus\", \"date\": \"2021-11-01T00:00:00\", \"posts\": 11}, {\"topic\": \"Coronavirus\", \"date\": \"2022-03-01T00:00:00\", \"posts\": 2}, {\"topic\": \"Coronavirus\", \"date\": \"2022-01-01T00:00:00\", \"posts\": 7}, {\"topic\": \"Coronavirus\", \"date\": \"2021-08-01T00:00:00\", \"posts\": 8}, {\"topic\": \"Coronavirus\", \"date\": \"2021-03-01T00:00:00\", \"posts\": 13}, {\"topic\": \"Coronavirus\", \"date\": \"2022-04-01T00:00:00\", \"posts\": 2}, {\"topic\": \"Coronavirus\", \"date\": \"2022-06-01T00:00:00\", \"posts\": 1}, {\"topic\": \"Coronavirus\", \"date\": \"2021-04-01T00:00:00\", \"posts\": 8}, {\"topic\": \"Coronavirus\", \"date\": \"2020-08-01T00:00:00\", \"posts\": 22}, {\"topic\": \"Coronavirus\", \"date\": \"2020-10-01T00:00:00\", \"posts\": 21}, {\"topic\": \"Coronavirus\", \"date\": \"2020-09-01T00:00:00\", \"posts\": 17}, {\"topic\": \"Coronavirus\", \"date\": \"2021-05-01T00:00:00\", \"posts\": 10}, {\"topic\": \"Coronavirus\", \"date\": \"2020-01-01T00:00:00\", \"posts\": 12}, {\"topic\": \"Coronavirus\", \"date\": \"2021-10-01T00:00:00\", \"posts\": 7}, {\"topic\": \"Coronavirus\", \"date\": \"2021-12-01T00:00:00\", \"posts\": 11}, {\"topic\": \"Coronavirus\", \"date\": \"2020-12-01T00:00:00\", \"posts\": 20}, {\"topic\": \"Coronavirus\", \"date\": \"2021-02-01T00:00:00\", \"posts\": 13}, {\"topic\": \"Coronavirus\", \"date\": \"2023-05-01T00:00:00\", \"posts\": 1}, {\"topic\": \"Coronavirus\", \"date\": \"2022-05-01T00:00:00\", \"posts\": 1}, {\"topic\": \"Coronavirus\", \"date\": \"2022-02-01T00:00:00\", \"posts\": 3}, {\"topic\": \"Public health\", \"date\": \"2021-03-01T00:00:00\", \"posts\": 35}, {\"topic\": \"Public health\", \"date\": \"2021-05-01T00:00:00\", \"posts\": 34}, {\"topic\": \"Public health\", \"date\": \"2021-11-01T00:00:00\", \"posts\": 44}, {\"topic\": \"Public health\", \"date\": \"2023-04-01T00:00:00\", \"posts\": 17}, {\"topic\": \"Public health\", \"date\": \"2021-07-01T00:00:00\", \"posts\": 43}, {\"topic\": \"Public health\", \"date\": \"2022-04-01T00:00:00\", \"posts\": 21}, {\"topic\": \"Public health\", \"date\": \"2020-02-01T00:00:00\", \"posts\": 33}, {\"topic\": \"Public health\", \"date\": \"2022-09-01T00:00:00\", \"posts\": 15}, {\"topic\": \"Public health\", \"date\": \"2020-07-01T00:00:00\", \"posts\": 35}, {\"topic\": \"Public health\", \"date\": \"2023-05-01T00:00:00\", \"posts\": 25}, {\"topic\": \"Public health\", \"date\": \"2020-11-01T00:00:00\", \"posts\": 39}, {\"topic\": \"Public health\", \"date\": \"2021-04-01T00:00:00\", \"posts\": 38}, {\"topic\": \"Public health\", \"date\": \"2020-04-01T00:00:00\", \"posts\": 88}, {\"topic\": \"Public health\", \"date\": \"2022-01-01T00:00:00\", \"posts\": 45}, {\"topic\": \"Public health\", \"date\": \"2020-08-01T00:00:00\", \"posts\": 33}, {\"topic\": \"Public health\", \"date\": \"2020-05-01T00:00:00\", \"posts\": 55}, {\"topic\": \"Public health\", \"date\": \"2023-03-01T00:00:00\", \"posts\": 26}, {\"topic\": \"Public health\", \"date\": \"2020-03-01T00:00:00\", \"posts\": 148}, {\"topic\": \"Public health\", \"date\": \"2021-02-01T00:00:00\", \"posts\": 25}, {\"topic\": \"Public health\", \"date\": \"2020-12-01T00:00:00\", \"posts\": 38}, {\"topic\": \"Public health\", \"date\": \"2021-08-01T00:00:00\", \"posts\": 58}, {\"topic\": \"Public health\", \"date\": \"2021-09-01T00:00:00\", \"posts\": 54}, {\"topic\": \"Public health\", \"date\": \"2022-02-01T00:00:00\", \"posts\": 20}, {\"topic\": \"Public health\", \"date\": \"2023-01-01T00:00:00\", \"posts\": 21}, {\"topic\": \"Public health\", \"date\": \"2022-07-01T00:00:00\", \"posts\": 20}, {\"topic\": \"Public health\", \"date\": \"2022-03-01T00:00:00\", \"posts\": 17}, {\"topic\": \"Public health\", \"date\": \"2020-06-01T00:00:00\", \"posts\": 34}, {\"topic\": \"Public health\", \"date\": \"2022-11-01T00:00:00\", \"posts\": 22}, {\"topic\": \"Public health\", \"date\": \"2020-01-01T00:00:00\", \"posts\": 20}, {\"topic\": \"Public health\", \"date\": \"2022-10-01T00:00:00\", \"posts\": 19}, {\"topic\": \"Public health\", \"date\": \"2021-01-01T00:00:00\", \"posts\": 24}, {\"topic\": \"Public health\", \"date\": \"2021-10-01T00:00:00\", \"posts\": 39}, {\"topic\": \"Public health\", \"date\": \"2021-12-01T00:00:00\", \"posts\": 46}, {\"topic\": \"Public health\", \"date\": \"2020-10-01T00:00:00\", \"posts\": 29}, {\"topic\": \"Public health\", \"date\": \"2023-02-01T00:00:00\", \"posts\": 23}, {\"topic\": \"Public health\", \"date\": \"2022-06-01T00:00:00\", \"posts\": 17}, {\"topic\": \"Public health\", \"date\": \"2022-05-01T00:00:00\", \"posts\": 23}, {\"topic\": \"Public health\", \"date\": \"2020-09-01T00:00:00\", \"posts\": 21}, {\"topic\": \"Public health\", \"date\": \"2021-06-01T00:00:00\", \"posts\": 25}, {\"topic\": \"Public health\", \"date\": \"2022-08-01T00:00:00\", \"posts\": 21}, {\"topic\": \"Public health\", \"date\": \"2022-12-01T00:00:00\", \"posts\": 23}, {\"topic\": \"Facebook\", \"date\": \"2020-08-01T00:00:00\", \"posts\": 32}, {\"topic\": \"Facebook\", \"date\": \"2020-03-01T00:00:00\", \"posts\": 12}, {\"topic\": \"Facebook\", \"date\": \"2022-08-01T00:00:00\", \"posts\": 25}, {\"topic\": \"Facebook\", \"date\": \"2020-09-01T00:00:00\", \"posts\": 28}, {\"topic\": \"Facebook\", \"date\": \"2020-05-01T00:00:00\", \"posts\": 25}, {\"topic\": \"Facebook\", \"date\": \"2020-07-01T00:00:00\", \"posts\": 33}, {\"topic\": \"Facebook\", \"date\": \"2022-10-01T00:00:00\", \"posts\": 33}, {\"topic\": \"Facebook\", \"date\": \"2021-05-01T00:00:00\", \"posts\": 28}, {\"topic\": \"Facebook\", \"date\": \"2021-10-01T00:00:00\", \"posts\": 83}, {\"topic\": \"Facebook\", \"date\": \"2021-08-01T00:00:00\", \"posts\": 37}, {\"topic\": \"Facebook\", \"date\": \"2020-02-01T00:00:00\", \"posts\": 17}, {\"topic\": \"Facebook\", \"date\": \"2021-02-01T00:00:00\", \"posts\": 28}, {\"topic\": \"Facebook\", \"date\": \"2020-06-01T00:00:00\", \"posts\": 49}, {\"topic\": \"Facebook\", \"date\": \"2022-12-01T00:00:00\", \"posts\": 9}, {\"topic\": \"Facebook\", \"date\": \"2023-03-01T00:00:00\", \"posts\": 11}, {\"topic\": \"Facebook\", \"date\": \"2020-10-01T00:00:00\", \"posts\": 30}, {\"topic\": \"Facebook\", \"date\": \"2022-09-01T00:00:00\", \"posts\": 17}, {\"topic\": \"Facebook\", \"date\": \"2021-07-01T00:00:00\", \"posts\": 30}, {\"topic\": \"Facebook\", \"date\": \"2023-05-01T00:00:00\", \"posts\": 14}, {\"topic\": \"Facebook\", \"date\": \"2021-03-01T00:00:00\", \"posts\": 17}, {\"topic\": \"Facebook\", \"date\": \"2021-11-01T00:00:00\", \"posts\": 17}, {\"topic\": \"Facebook\", \"date\": \"2020-04-01T00:00:00\", \"posts\": 9}, {\"topic\": \"Facebook\", \"date\": \"2021-12-01T00:00:00\", \"posts\": 21}, {\"topic\": \"Facebook\", \"date\": \"2022-02-01T00:00:00\", \"posts\": 27}, {\"topic\": \"Facebook\", \"date\": \"2021-06-01T00:00:00\", \"posts\": 16}, {\"topic\": \"Facebook\", \"date\": \"2020-11-01T00:00:00\", \"posts\": 19}, {\"topic\": \"Facebook\", \"date\": \"2022-04-01T00:00:00\", \"posts\": 11}, {\"topic\": \"Facebook\", \"date\": \"2020-12-01T00:00:00\", \"posts\": 37}, {\"topic\": \"Facebook\", \"date\": \"2021-09-01T00:00:00\", \"posts\": 35}, {\"topic\": \"Facebook\", \"date\": \"2022-06-01T00:00:00\", \"posts\": 10}, {\"topic\": \"Facebook\", \"date\": \"2020-01-01T00:00:00\", \"posts\": 24}, {\"topic\": \"Facebook\", \"date\": \"2022-01-01T00:00:00\", \"posts\": 17}, {\"topic\": \"Facebook\", \"date\": \"2021-04-01T00:00:00\", \"posts\": 48}, {\"topic\": \"Facebook\", \"date\": \"2022-07-01T00:00:00\", \"posts\": 11}, {\"topic\": \"Facebook\", \"date\": \"2022-05-01T00:00:00\", \"posts\": 8}, {\"topic\": \"Facebook\", \"date\": \"2023-02-01T00:00:00\", \"posts\": 9}, {\"topic\": \"Facebook\", \"date\": \"2023-04-01T00:00:00\", \"posts\": 12}, {\"topic\": \"Facebook\", \"date\": \"2023-01-01T00:00:00\", \"posts\": 9}, {\"topic\": \"Facebook\", \"date\": \"2021-01-01T00:00:00\", \"posts\": 56}, {\"topic\": \"Facebook\", \"date\": \"2022-03-01T00:00:00\", \"posts\": 6}, {\"topic\": \"Facebook\", \"date\": \"2022-11-01T00:00:00\", \"posts\": 17}, {\"topic\": \"China\", \"date\": \"2020-06-01T00:00:00\", \"posts\": 21}, {\"topic\": \"China\", \"date\": \"2021-09-01T00:00:00\", \"posts\": 28}, {\"topic\": \"China\", \"date\": \"2022-07-01T00:00:00\", \"posts\": 12}, {\"topic\": \"China\", \"date\": \"2021-06-01T00:00:00\", \"posts\": 28}, {\"topic\": \"China\", \"date\": \"2020-07-01T00:00:00\", \"posts\": 25}, {\"topic\": \"China\", \"date\": \"2020-11-01T00:00:00\", \"posts\": 12}, {\"topic\": \"China\", \"date\": \"2022-03-01T00:00:00\", \"posts\": 14}, {\"topic\": \"China\", \"date\": \"2021-02-01T00:00:00\", \"posts\": 16}, {\"topic\": \"China\", \"date\": \"2021-04-01T00:00:00\", \"posts\": 23}, {\"topic\": \"China\", \"date\": \"2022-05-01T00:00:00\", \"posts\": 7}, {\"topic\": \"China\", \"date\": \"2021-12-01T00:00:00\", \"posts\": 27}, {\"topic\": \"China\", \"date\": \"2021-11-01T00:00:00\", \"posts\": 17}, {\"topic\": \"China\", \"date\": \"2020-02-01T00:00:00\", \"posts\": 13}, {\"topic\": \"China\", \"date\": \"2023-04-01T00:00:00\", \"posts\": 17}, {\"topic\": \"China\", \"date\": \"2022-08-01T00:00:00\", \"posts\": 11}, {\"topic\": \"China\", \"date\": \"2022-02-01T00:00:00\", \"posts\": 10}, {\"topic\": \"China\", \"date\": \"2021-08-01T00:00:00\", \"posts\": 31}, {\"topic\": \"China\", \"date\": \"2020-03-01T00:00:00\", \"posts\": 16}, {\"topic\": \"China\", \"date\": \"2022-01-01T00:00:00\", \"posts\": 11}, {\"topic\": \"China\", \"date\": \"2022-10-01T00:00:00\", \"posts\": 14}, {\"topic\": \"China\", \"date\": \"2020-09-01T00:00:00\", \"posts\": 19}, {\"topic\": \"China\", \"date\": \"2020-01-01T00:00:00\", \"posts\": 18}, {\"topic\": \"China\", \"date\": \"2021-01-01T00:00:00\", \"posts\": 29}, {\"topic\": \"China\", \"date\": \"2023-01-01T00:00:00\", \"posts\": 17}, {\"topic\": \"China\", \"date\": \"2021-05-01T00:00:00\", \"posts\": 22}, {\"topic\": \"China\", \"date\": \"2022-11-01T00:00:00\", \"posts\": 15}, {\"topic\": \"China\", \"date\": \"2020-08-01T00:00:00\", \"posts\": 28}, {\"topic\": \"China\", \"date\": \"2023-05-01T00:00:00\", \"posts\": 16}, {\"topic\": \"China\", \"date\": \"2020-12-01T00:00:00\", \"posts\": 18}, {\"topic\": \"China\", \"date\": \"2021-03-01T00:00:00\", \"posts\": 27}, {\"topic\": \"China\", \"date\": \"2022-04-01T00:00:00\", \"posts\": 7}, {\"topic\": \"China\", \"date\": \"2023-03-01T00:00:00\", \"posts\": 23}, {\"topic\": \"China\", \"date\": \"2022-12-01T00:00:00\", \"posts\": 8}, {\"topic\": \"China\", \"date\": \"2021-10-01T00:00:00\", \"posts\": 14}, {\"topic\": \"China\", \"date\": \"2023-02-01T00:00:00\", \"posts\": 16}, {\"topic\": \"China\", \"date\": \"2021-07-01T00:00:00\", \"posts\": 20}, {\"topic\": \"China\", \"date\": \"2020-05-01T00:00:00\", \"posts\": 10}, {\"topic\": \"China\", \"date\": \"2022-06-01T00:00:00\", \"posts\": 6}, {\"topic\": \"China\", \"date\": \"2020-04-01T00:00:00\", \"posts\": 14}, {\"topic\": \"China\", \"date\": \"2020-10-01T00:00:00\", \"posts\": 7}, {\"topic\": \"China\", \"date\": \"2022-09-01T00:00:00\", \"posts\": 3}, {\"topic\": \"Covid-19\", \"date\": \"2021-05-01T00:00:00\", \"posts\": 43}, {\"topic\": \"Covid-19\", \"date\": \"2023-01-01T00:00:00\", \"posts\": 10}, {\"topic\": \"Covid-19\", \"date\": \"2021-11-01T00:00:00\", \"posts\": 56}, {\"topic\": \"Covid-19\", \"date\": \"2021-07-01T00:00:00\", \"posts\": 59}, {\"topic\": \"Covid-19\", \"date\": \"2020-08-01T00:00:00\", \"posts\": 63}, {\"topic\": \"Covid-19\", \"date\": \"2022-04-01T00:00:00\", \"posts\": 17}, {\"topic\": \"Covid-19\", \"date\": \"2022-09-01T00:00:00\", \"posts\": 9}, {\"topic\": \"Covid-19\", \"date\": \"2023-02-01T00:00:00\", \"posts\": 17}, {\"topic\": \"Covid-19\", \"date\": \"2021-06-01T00:00:00\", \"posts\": 42}, {\"topic\": \"Covid-19\", \"date\": \"2021-09-01T00:00:00\", \"posts\": 75}, {\"topic\": \"Covid-19\", \"date\": \"2020-04-01T00:00:00\", \"posts\": 203}, {\"topic\": \"Covid-19\", \"date\": \"2022-01-01T00:00:00\", \"posts\": 73}, {\"topic\": \"Covid-19\", \"date\": \"2020-09-01T00:00:00\", \"posts\": 44}, {\"topic\": \"Covid-19\", \"date\": \"2020-11-01T00:00:00\", \"posts\": 51}, {\"topic\": \"Covid-19\", \"date\": \"2021-04-01T00:00:00\", \"posts\": 51}, {\"topic\": \"Covid-19\", \"date\": \"2021-10-01T00:00:00\", \"posts\": 60}, {\"topic\": \"Covid-19\", \"date\": \"2022-02-01T00:00:00\", \"posts\": 29}, {\"topic\": \"Covid-19\", \"date\": \"2020-10-01T00:00:00\", \"posts\": 53}, {\"topic\": \"Covid-19\", \"date\": \"2020-05-01T00:00:00\", \"posts\": 130}, {\"topic\": \"Covid-19\", \"date\": \"2023-03-01T00:00:00\", \"posts\": 12}, {\"topic\": \"Covid-19\", \"date\": \"2020-03-01T00:00:00\", \"posts\": 260}, {\"topic\": \"Covid-19\", \"date\": \"2020-02-01T00:00:00\", \"posts\": 28}, {\"topic\": \"Covid-19\", \"date\": \"2021-08-01T00:00:00\", \"posts\": 80}, {\"topic\": \"Covid-19\", \"date\": \"2020-07-01T00:00:00\", \"posts\": 73}, {\"topic\": \"Covid-19\", \"date\": \"2022-03-01T00:00:00\", \"posts\": 19}, {\"topic\": \"Covid-19\", \"date\": \"2020-06-01T00:00:00\", \"posts\": 67}, {\"topic\": \"Covid-19\", \"date\": \"2022-11-01T00:00:00\", \"posts\": 17}, {\"topic\": \"Covid-19\", \"date\": \"2021-01-01T00:00:00\", \"posts\": 45}, {\"topic\": \"Covid-19\", \"date\": \"2021-12-01T00:00:00\", \"posts\": 45}, {\"topic\": \"Covid-19\", \"date\": \"2021-03-01T00:00:00\", \"posts\": 46}, {\"topic\": \"Covid-19\", \"date\": \"2022-08-01T00:00:00\", \"posts\": 9}, {\"topic\": \"Covid-19\", \"date\": \"2022-10-01T00:00:00\", \"posts\": 15}, {\"topic\": \"Covid-19\", \"date\": \"2022-06-01T00:00:00\", \"posts\": 13}, {\"topic\": \"Covid-19\", \"date\": \"2023-04-01T00:00:00\", \"posts\": 6}, {\"topic\": \"Covid-19\", \"date\": \"2022-12-01T00:00:00\", \"posts\": 12}, {\"topic\": \"Covid-19\", \"date\": \"2020-12-01T00:00:00\", \"posts\": 61}, {\"topic\": \"Covid-19\", \"date\": \"2022-05-01T00:00:00\", \"posts\": 11}, {\"topic\": \"Covid-19\", \"date\": \"2023-05-01T00:00:00\", \"posts\": 6}, {\"topic\": \"Covid-19\", \"date\": \"2021-02-01T00:00:00\", \"posts\": 35}, {\"topic\": \"Covid-19\", \"date\": \"2022-07-01T00:00:00\", \"posts\": 16}, {\"topic\": \"Covid-19\", \"date\": \"2020-01-01T00:00:00\", \"posts\": 3}, {\"topic\": \"Pandemic\", \"date\": \"2023-03-01T00:00:00\", \"posts\": 9}, {\"topic\": \"Pandemic\", \"date\": \"2021-11-01T00:00:00\", \"posts\": 32}, {\"topic\": \"Pandemic\", \"date\": \"2021-06-01T00:00:00\", \"posts\": 29}, {\"topic\": \"Pandemic\", \"date\": \"2022-03-01T00:00:00\", \"posts\": 13}, {\"topic\": \"Pandemic\", \"date\": \"2022-04-01T00:00:00\", \"posts\": 9}, {\"topic\": \"Pandemic\", \"date\": \"2021-07-01T00:00:00\", \"posts\": 23}, {\"topic\": \"Pandemic\", \"date\": \"2020-02-01T00:00:00\", \"posts\": 24}, {\"topic\": \"Pandemic\", \"date\": \"2020-05-01T00:00:00\", \"posts\": 63}, {\"topic\": \"Pandemic\", \"date\": \"2020-09-01T00:00:00\", \"posts\": 26}, {\"topic\": \"Pandemic\", \"date\": \"2020-06-01T00:00:00\", \"posts\": 34}, {\"topic\": \"Pandemic\", \"date\": \"2020-11-01T00:00:00\", \"posts\": 34}, {\"topic\": \"Pandemic\", \"date\": \"2021-04-01T00:00:00\", \"posts\": 29}, {\"topic\": \"Pandemic\", \"date\": \"2020-03-01T00:00:00\", \"posts\": 167}, {\"topic\": \"Pandemic\", \"date\": \"2020-04-01T00:00:00\", \"posts\": 115}, {\"topic\": \"Pandemic\", \"date\": \"2022-02-01T00:00:00\", \"posts\": 12}, {\"topic\": \"Pandemic\", \"date\": \"2021-09-01T00:00:00\", \"posts\": 30}, {\"topic\": \"Pandemic\", \"date\": \"2020-07-01T00:00:00\", \"posts\": 38}, {\"topic\": \"Pandemic\", \"date\": \"2023-02-01T00:00:00\", \"posts\": 6}, {\"topic\": \"Pandemic\", \"date\": \"2021-12-01T00:00:00\", \"posts\": 26}, {\"topic\": \"Pandemic\", \"date\": \"2022-08-01T00:00:00\", \"posts\": 3}, {\"topic\": \"Pandemic\", \"date\": \"2021-08-01T00:00:00\", \"posts\": 40}, {\"topic\": \"Pandemic\", \"date\": \"2021-05-01T00:00:00\", \"posts\": 24}, {\"topic\": \"Pandemic\", \"date\": \"2021-01-01T00:00:00\", \"posts\": 27}, {\"topic\": \"Pandemic\", \"date\": \"2022-10-01T00:00:00\", \"posts\": 8}, {\"topic\": \"Pandemic\", \"date\": \"2022-11-01T00:00:00\", \"posts\": 4}, {\"topic\": \"Pandemic\", \"date\": \"2021-10-01T00:00:00\", \"posts\": 28}, {\"topic\": \"Pandemic\", \"date\": \"2020-12-01T00:00:00\", \"posts\": 39}, {\"topic\": \"Pandemic\", \"date\": \"2020-08-01T00:00:00\", \"posts\": 36}, {\"topic\": \"Pandemic\", \"date\": \"2022-01-01T00:00:00\", \"posts\": 29}, {\"topic\": \"Pandemic\", \"date\": \"2022-09-01T00:00:00\", \"posts\": 5}, {\"topic\": \"Pandemic\", \"date\": \"2023-01-01T00:00:00\", \"posts\": 5}, {\"topic\": \"Pandemic\", \"date\": \"2022-06-01T00:00:00\", \"posts\": 4}, {\"topic\": \"Pandemic\", \"date\": \"2020-10-01T00:00:00\", \"posts\": 32}, {\"topic\": \"Pandemic\", \"date\": \"2021-03-01T00:00:00\", \"posts\": 21}, {\"topic\": \"Pandemic\", \"date\": \"2022-05-01T00:00:00\", \"posts\": 7}, {\"topic\": \"Pandemic\", \"date\": \"2022-12-01T00:00:00\", \"posts\": 9}, {\"topic\": \"Pandemic\", \"date\": \"2020-01-01T00:00:00\", \"posts\": 6}, {\"topic\": \"Pandemic\", \"date\": \"2023-05-01T00:00:00\", \"posts\": 4}, {\"topic\": \"Pandemic\", \"date\": \"2021-02-01T00:00:00\", \"posts\": 22}, {\"topic\": \"Pandemic\", \"date\": \"2023-04-01T00:00:00\", \"posts\": 5}, {\"topic\": \"Pandemic\", \"date\": \"2022-07-01T00:00:00\", \"posts\": 9}, {\"topic\": \"Epidemiology\", \"date\": \"2021-11-01T00:00:00\", \"posts\": 12}, {\"topic\": \"Epidemiology\", \"date\": \"2020-02-01T00:00:00\", \"posts\": 9}, {\"topic\": \"Epidemiology\", \"date\": \"2020-11-01T00:00:00\", \"posts\": 14}, {\"topic\": \"Epidemiology\", \"date\": \"2022-09-01T00:00:00\", \"posts\": 3}, {\"topic\": \"Epidemiology\", \"date\": \"2020-08-01T00:00:00\", \"posts\": 7}, {\"topic\": \"Epidemiology\", \"date\": \"2020-03-01T00:00:00\", \"posts\": 46}, {\"topic\": \"Epidemiology\", \"date\": \"2021-08-01T00:00:00\", \"posts\": 14}, {\"topic\": \"Epidemiology\", \"date\": \"2020-05-01T00:00:00\", \"posts\": 25}, {\"topic\": \"Epidemiology\", \"date\": \"2021-09-01T00:00:00\", \"posts\": 9}, {\"topic\": \"Epidemiology\", \"date\": \"2021-04-01T00:00:00\", \"posts\": 13}, {\"topic\": \"Epidemiology\", \"date\": \"2022-11-01T00:00:00\", \"posts\": 5}, {\"topic\": \"Epidemiology\", \"date\": \"2021-05-01T00:00:00\", \"posts\": 9}, {\"topic\": \"Epidemiology\", \"date\": \"2020-01-01T00:00:00\", \"posts\": 7}, {\"topic\": \"Epidemiology\", \"date\": \"2022-07-01T00:00:00\", \"posts\": 8}, {\"topic\": \"Epidemiology\", \"date\": \"2022-02-01T00:00:00\", \"posts\": 8}, {\"topic\": \"Epidemiology\", \"date\": \"2021-03-01T00:00:00\", \"posts\": 9}, {\"topic\": \"Epidemiology\", \"date\": \"2020-06-01T00:00:00\", \"posts\": 12}, {\"topic\": \"Epidemiology\", \"date\": \"2021-12-01T00:00:00\", \"posts\": 13}, {\"topic\": \"Epidemiology\", \"date\": \"2020-04-01T00:00:00\", \"posts\": 44}, {\"topic\": \"Epidemiology\", \"date\": \"2022-10-01T00:00:00\", \"posts\": 5}, {\"topic\": \"Epidemiology\", \"date\": \"2020-07-01T00:00:00\", \"posts\": 6}, {\"topic\": \"Epidemiology\", \"date\": \"2022-01-01T00:00:00\", \"posts\": 15}, {\"topic\": \"Epidemiology\", \"date\": \"2020-10-01T00:00:00\", \"posts\": 13}, {\"topic\": \"Epidemiology\", \"date\": \"2022-05-01T00:00:00\", \"posts\": 8}, {\"topic\": \"Epidemiology\", \"date\": \"2021-06-01T00:00:00\", \"posts\": 8}, {\"topic\": \"Epidemiology\", \"date\": \"2023-05-01T00:00:00\", \"posts\": 3}, {\"topic\": \"Epidemiology\", \"date\": \"2020-09-01T00:00:00\", \"posts\": 10}, {\"topic\": \"Epidemiology\", \"date\": \"2021-10-01T00:00:00\", \"posts\": 9}, {\"topic\": \"Epidemiology\", \"date\": \"2021-02-01T00:00:00\", \"posts\": 6}, {\"topic\": \"Epidemiology\", \"date\": \"2021-07-01T00:00:00\", \"posts\": 10}, {\"topic\": \"Epidemiology\", \"date\": \"2022-04-01T00:00:00\", \"posts\": 4}, {\"topic\": \"Epidemiology\", \"date\": \"2022-03-01T00:00:00\", \"posts\": 5}, {\"topic\": \"Epidemiology\", \"date\": \"2023-01-01T00:00:00\", \"posts\": 4}, {\"topic\": \"Epidemiology\", \"date\": \"2021-01-01T00:00:00\", \"posts\": 6}, {\"topic\": \"Epidemiology\", \"date\": \"2020-12-01T00:00:00\", \"posts\": 10}, {\"topic\": \"Epidemiology\", \"date\": \"2023-03-01T00:00:00\", \"posts\": 7}, {\"topic\": \"Epidemiology\", \"date\": \"2023-02-01T00:00:00\", \"posts\": 3}, {\"topic\": \"Epidemiology\", \"date\": \"2022-12-01T00:00:00\", \"posts\": 3}, {\"topic\": \"Epidemiology\", \"date\": \"2022-06-01T00:00:00\", \"posts\": 4}, {\"topic\": \"Epidemiology\", \"date\": \"2023-04-01T00:00:00\", \"posts\": 1}, {\"topic\": \"Epidemiology\", \"date\": \"2022-08-01T00:00:00\", \"posts\": 3}, {\"topic\": \"Privacy\", \"date\": \"2020-09-01T00:00:00\", \"posts\": 48}, {\"topic\": \"Privacy\", \"date\": \"2021-03-01T00:00:00\", \"posts\": 77}, {\"topic\": \"Privacy\", \"date\": \"2021-08-01T00:00:00\", \"posts\": 108}, {\"topic\": \"Privacy\", \"date\": \"2022-07-01T00:00:00\", \"posts\": 46}, {\"topic\": \"Privacy\", \"date\": \"2022-01-01T00:00:00\", \"posts\": 46}, {\"topic\": \"Privacy\", \"date\": \"2022-02-01T00:00:00\", \"posts\": 54}, {\"topic\": \"Privacy\", \"date\": \"2021-10-01T00:00:00\", \"posts\": 76}, {\"topic\": \"Privacy\", \"date\": \"2022-06-01T00:00:00\", \"posts\": 50}, {\"topic\": \"Privacy\", \"date\": \"2023-04-01T00:00:00\", \"posts\": 61}, {\"topic\": \"Privacy\", \"date\": \"2022-11-01T00:00:00\", \"posts\": 53}, {\"topic\": \"Privacy\", \"date\": \"2020-10-01T00:00:00\", \"posts\": 69}, {\"topic\": \"Privacy\", \"date\": \"2022-08-01T00:00:00\", \"posts\": 63}, {\"topic\": \"Privacy\", \"date\": \"2023-03-01T00:00:00\", \"posts\": 62}, {\"topic\": \"Privacy\", \"date\": \"2021-09-01T00:00:00\", \"posts\": 80}, {\"topic\": \"Privacy\", \"date\": \"2021-01-01T00:00:00\", \"posts\": 83}, {\"topic\": \"Privacy\", \"date\": \"2022-10-01T00:00:00\", \"posts\": 50}, {\"topic\": \"Privacy\", \"date\": \"2021-12-01T00:00:00\", \"posts\": 62}, {\"topic\": \"Privacy\", \"date\": \"2021-07-01T00:00:00\", \"posts\": 77}, {\"topic\": \"Privacy\", \"date\": \"2022-09-01T00:00:00\", \"posts\": 47}, {\"topic\": \"Privacy\", \"date\": \"2020-07-01T00:00:00\", \"posts\": 59}, {\"topic\": \"Privacy\", \"date\": \"2020-05-01T00:00:00\", \"posts\": 55}, {\"topic\": \"Privacy\", \"date\": \"2021-06-01T00:00:00\", \"posts\": 66}, {\"topic\": \"Privacy\", \"date\": \"2020-08-01T00:00:00\", \"posts\": 56}, {\"topic\": \"Privacy\", \"date\": \"2021-05-01T00:00:00\", \"posts\": 66}, {\"topic\": \"Privacy\", \"date\": \"2021-04-01T00:00:00\", \"posts\": 79}, {\"topic\": \"Privacy\", \"date\": \"2020-02-01T00:00:00\", \"posts\": 57}, {\"topic\": \"Privacy\", \"date\": \"2020-11-01T00:00:00\", \"posts\": 59}, {\"topic\": \"Privacy\", \"date\": \"2022-12-01T00:00:00\", \"posts\": 51}, {\"topic\": \"Privacy\", \"date\": \"2020-04-01T00:00:00\", \"posts\": 69}, {\"topic\": \"Privacy\", \"date\": \"2022-03-01T00:00:00\", \"posts\": 47}, {\"topic\": \"Privacy\", \"date\": \"2023-02-01T00:00:00\", \"posts\": 52}, {\"topic\": \"Privacy\", \"date\": \"2021-11-01T00:00:00\", \"posts\": 50}, {\"topic\": \"Privacy\", \"date\": \"2020-06-01T00:00:00\", \"posts\": 69}, {\"topic\": \"Privacy\", \"date\": \"2020-12-01T00:00:00\", \"posts\": 58}, {\"topic\": \"Privacy\", \"date\": \"2022-05-01T00:00:00\", \"posts\": 50}, {\"topic\": \"Privacy\", \"date\": \"2023-05-01T00:00:00\", \"posts\": 68}, {\"topic\": \"Privacy\", \"date\": \"2020-01-01T00:00:00\", \"posts\": 56}, {\"topic\": \"Privacy\", \"date\": \"2022-04-01T00:00:00\", \"posts\": 38}, {\"topic\": \"Privacy\", \"date\": \"2023-01-01T00:00:00\", \"posts\": 53}, {\"topic\": \"Privacy\", \"date\": \"2020-03-01T00:00:00\", \"posts\": 50}, {\"topic\": \"Privacy\", \"date\": \"2021-02-01T00:00:00\", \"posts\": 54}, {\"topic\": \"Apple\", \"date\": \"2022-10-01T00:00:00\", \"posts\": 53}, {\"topic\": \"Apple\", \"date\": \"2023-02-01T00:00:00\", \"posts\": 33}, {\"topic\": \"Apple\", \"date\": \"2020-03-01T00:00:00\", \"posts\": 31}, {\"topic\": \"Apple\", \"date\": \"2020-08-01T00:00:00\", \"posts\": 60}, {\"topic\": \"Apple\", \"date\": \"2020-05-01T00:00:00\", \"posts\": 32}, {\"topic\": \"Apple\", \"date\": \"2021-08-01T00:00:00\", \"posts\": 92}, {\"topic\": \"Apple\", \"date\": \"2022-01-01T00:00:00\", \"posts\": 38}, {\"topic\": \"Apple\", \"date\": \"2023-05-01T00:00:00\", \"posts\": 45}, {\"topic\": \"Apple\", \"date\": \"2020-10-01T00:00:00\", \"posts\": 45}, {\"topic\": \"Apple\", \"date\": \"2022-04-01T00:00:00\", \"posts\": 36}, {\"topic\": \"Apple\", \"date\": \"2021-02-01T00:00:00\", \"posts\": 41}, {\"topic\": \"Apple\", \"date\": \"2021-10-01T00:00:00\", \"posts\": 53}, {\"topic\": \"Apple\", \"date\": \"2022-11-01T00:00:00\", \"posts\": 34}, {\"topic\": \"Apple\", \"date\": \"2021-07-01T00:00:00\", \"posts\": 45}, {\"topic\": \"Apple\", \"date\": \"2022-06-01T00:00:00\", \"posts\": 53}, {\"topic\": \"Apple\", \"date\": \"2022-03-01T00:00:00\", \"posts\": 45}, {\"topic\": \"Apple\", \"date\": \"2021-05-01T00:00:00\", \"posts\": 60}, {\"topic\": \"Apple\", \"date\": \"2021-03-01T00:00:00\", \"posts\": 41}, {\"topic\": \"Apple\", \"date\": \"2023-03-01T00:00:00\", \"posts\": 31}, {\"topic\": \"Apple\", \"date\": \"2022-12-01T00:00:00\", \"posts\": 40}, {\"topic\": \"Apple\", \"date\": \"2022-07-01T00:00:00\", \"posts\": 25}, {\"topic\": \"Apple\", \"date\": \"2021-11-01T00:00:00\", \"posts\": 43}, {\"topic\": \"Apple\", \"date\": \"2023-04-01T00:00:00\", \"posts\": 36}, {\"topic\": \"Apple\", \"date\": \"2020-07-01T00:00:00\", \"posts\": 35}, {\"topic\": \"Apple\", \"date\": \"2020-06-01T00:00:00\", \"posts\": 79}, {\"topic\": \"Apple\", \"date\": \"2023-01-01T00:00:00\", \"posts\": 47}, {\"topic\": \"Apple\", \"date\": \"2020-01-01T00:00:00\", \"posts\": 33}, {\"topic\": \"Apple\", \"date\": \"2021-09-01T00:00:00\", \"posts\": 61}, {\"topic\": \"Apple\", \"date\": \"2021-06-01T00:00:00\", \"posts\": 70}, {\"topic\": \"Apple\", \"date\": \"2022-09-01T00:00:00\", \"posts\": 38}, {\"topic\": \"Apple\", \"date\": \"2020-12-01T00:00:00\", \"posts\": 60}, {\"topic\": \"Apple\", \"date\": \"2022-08-01T00:00:00\", \"posts\": 37}, {\"topic\": \"Apple\", \"date\": \"2021-04-01T00:00:00\", \"posts\": 60}, {\"topic\": \"Apple\", \"date\": \"2020-11-01T00:00:00\", \"posts\": 71}, {\"topic\": \"Apple\", \"date\": \"2020-04-01T00:00:00\", \"posts\": 31}, {\"topic\": \"Apple\", \"date\": \"2020-09-01T00:00:00\", \"posts\": 36}, {\"topic\": \"Apple\", \"date\": \"2021-01-01T00:00:00\", \"posts\": 48}, {\"topic\": \"Apple\", \"date\": \"2020-02-01T00:00:00\", \"posts\": 38}, {\"topic\": \"Apple\", \"date\": \"2022-05-01T00:00:00\", \"posts\": 34}, {\"topic\": \"Apple\", \"date\": \"2021-12-01T00:00:00\", \"posts\": 33}, {\"topic\": \"Apple\", \"date\": \"2022-02-01T00:00:00\", \"posts\": 42}]}}, {\"mode\": \"vega-lite\"});\n",
       "</script>"
      ],
      "text/plain": [
       "alt.LayerChart(...)"
      ]
     },
     "execution_count": 77,
     "metadata": {},
     "output_type": "execute_result"
    }
   ],
   "source": [
    "timeseries_chart(timeseries(down_topics))"
   ]
  },
  {
   "cell_type": "code",
   "execution_count": 78,
   "metadata": {},
   "outputs": [
    {
     "data": {
      "text/plain": [
       "[(80, 'Gpt-4'),\n",
       " (56, 'Stable diffusion'),\n",
       " (51, 'Silicon valley bank'),\n",
       " (42, 'Russia-ukraine war'),\n",
       " (18, 'Ventura'),\n",
       " (16, 'Bank failure'),\n",
       " (15, 'Midjourney'),\n",
       " (15, 'Mac studio'),\n",
       " (15, 'Hiring freeze'),\n",
       " (14, 'War in ukraine'),\n",
       " (14, 'Meta ai'),\n",
       " (14, 'Fido alliance'),\n",
       " (14, 'Fdic'),\n",
       " (14, 'Cost of living crisis'),\n",
       " (13, 'Ukraine crisis')]"
      ]
     },
     "execution_count": 78,
     "metadata": {},
     "output_type": "execute_result"
    }
   ],
   "source": [
    "brand_new = []\n",
    "for t in set(new_topics) - set(old_topics):\n",
    "    brand_new.append((new_topics[t], t))\n",
    "brand_new.sort(reverse=True)\n",
    "brand_new[:15]"
   ]
  },
  {
   "cell_type": "code",
   "execution_count": 79,
   "metadata": {},
   "outputs": [
    {
     "data": {
      "text/plain": [
       "[(32, 'George floyd'),\n",
       " (26, 'Herd immunity'),\n",
       " (22, 'Antibodies'),\n",
       " (20, 'Ios 14'),\n",
       " (19, 'Freenode'),\n",
       " (18, 'Suez canal'),\n",
       " (18, 'Hydroxychloroquine'),\n",
       " (18, 'Community update'),\n",
       " (15, 'Racial injustice'),\n",
       " (15, 'Immune response'),\n",
       " (14, 'Ventilators'),\n",
       " (14, 'Infection rates'),\n",
       " (12, 'Wallstreetbets'),\n",
       " (12, 'Ventilator'),\n",
       " (12, 'Remdesivir')]"
      ]
     },
     "execution_count": 79,
     "metadata": {},
     "output_type": "execute_result"
    }
   ],
   "source": [
    "brand_new = []\n",
    "for t in set(old_topics) - set(new_topics):\n",
    "    brand_new.append((old_topics[t], t))\n",
    "brand_new.sort(reverse=True)\n",
    "brand_new[:15]"
   ]
  },
  {
   "cell_type": "code",
   "execution_count": null,
   "metadata": {},
   "outputs": [],
   "source": []
  }
 ],
 "metadata": {
  "kernelspec": {
   "display_name": "Python 3",
   "language": "python",
   "name": "python3"
  },
  "language_info": {
   "codemirror_mode": {
    "name": "ipython",
    "version": 3
   },
   "file_extension": ".py",
   "mimetype": "text/x-python",
   "name": "python",
   "nbconvert_exporter": "python",
   "pygments_lexer": "ipython3",
   "version": "3.9.18"
  }
 },
 "nbformat": 4,
 "nbformat_minor": 2
}
